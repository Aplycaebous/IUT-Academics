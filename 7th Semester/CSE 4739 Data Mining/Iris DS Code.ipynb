{
  "nbformat": 4,
  "nbformat_minor": 0,
  "metadata": {
    "colab": {
      "provenance": [],
      "collapsed_sections": [
        "B-Orp_dy_rda"
      ]
    },
    "kernelspec": {
      "name": "python3",
      "display_name": "Python 3"
    },
    "language_info": {
      "name": "python"
    }
  },
  "cells": [
    {
      "cell_type": "markdown",
      "source": [
        "# Classification of Iris Species using Support Vector Machine (SVM)\n",
        "\n",
        "**Name:** Md Farhan Ishmam\n",
        "\n",
        "**ID:** 180041120\n",
        "\n",
        "**Course Code and Name:** CSE4739 Data Mining\n",
        "\n",
        "**Submission Date:** 19-11-2022\n"
      ],
      "metadata": {
        "id": "9S30Ubp7-yOR"
      }
    },
    {
      "cell_type": "markdown",
      "source": [
        "# 1 Knowing the Dataset\n",
        "The first step of any data analysis task is getting to know our dataset. We are given datasets in different forms - some might be thoroughly preprocessed and cleaned, some might need manual filling of missing values, and so on. Our Iris dataset that has been collected from the official website of the Iris Dataset: https://archive.ics.uci.edu/ml/datasets/iris, has already been cleaned and a description has been provided as well. This makes our job in working with the dataset much easier. Hence, in this section, we will not quantify the missing values or clean the dataset any further. We will simply see the summary statistics and visualize our dataset."
      ],
      "metadata": {
        "id": "wEIAe3Ld-7iY"
      }
    },
    {
      "cell_type": "markdown",
      "source": [
        "## 1.1 Importing the Libraries"
      ],
      "metadata": {
        "id": "10ULgP0BFhnK"
      }
    },
    {
      "cell_type": "code",
      "execution_count": null,
      "metadata": {
        "id": "rdo-hdeeHqLg"
      },
      "outputs": [],
      "source": [
        "#Importing the necessary libraries\n",
        "import pandas as pd\n",
        "import numpy as np\n",
        "from sklearn.svm import SVC\n",
        "from sklearn.model_selection import train_test_split\n",
        "from sklearn.preprocessing import StandardScaler\n",
        "from sklearn.model_selection import GridSearchCV\n",
        "import seaborn as sns\n",
        "import matplotlib.pyplot as plt"
      ]
    },
    {
      "cell_type": "markdown",
      "source": [
        "## 1.2 Loading the Dataset"
      ],
      "metadata": {
        "id": "gU57HZtf_W9I"
      }
    },
    {
      "cell_type": "markdown",
      "source": [
        "After importing the libraries, we collect your dataset and other required files. We download two files - iris.names and iris.data. The iris.names file contains the description of our dataset where we can find the headers for the columns. The iris.data file is our raw dataset with the values only. The dataset is loaded to a Pandas Dataframe using the pandas built-in `read_csv()` function. While loading the dataset, we pass the column names as an argument. We have a look at the first five rows of our dataset using the `head()` function."
      ],
      "metadata": {
        "id": "7z6vsXaN6rfk"
      }
    },
    {
      "cell_type": "code",
      "source": [
        "#The names are collected from the iris.names file of the official iris dataset\n",
        "names = ['Sepal Length','Sepal Width','Petal Length','Petal Width','Class']\n",
        "#The iris.data file is collected from the official iris dataset \n",
        "df = pd.read_csv(\"iris.data\", names = names)\n",
        "df.head()"
      ],
      "metadata": {
        "colab": {
          "base_uri": "https://localhost:8080/",
          "height": 206
        },
        "id": "o4UTNChdHxVn",
        "outputId": "d2ef179a-8ecd-4971-d7e5-eae172c02df8"
      },
      "execution_count": null,
      "outputs": [
        {
          "output_type": "execute_result",
          "data": {
            "text/plain": [
              "   Sepal Length  Sepal Width  Petal Length  Petal Width        Class\n",
              "0           5.1          3.5           1.4          0.2  Iris-setosa\n",
              "1           4.9          3.0           1.4          0.2  Iris-setosa\n",
              "2           4.7          3.2           1.3          0.2  Iris-setosa\n",
              "3           4.6          3.1           1.5          0.2  Iris-setosa\n",
              "4           5.0          3.6           1.4          0.2  Iris-setosa"
            ],
            "text/html": [
              "\n",
              "  <div id=\"df-f85163bd-b951-41a4-8ee0-1076cff595b9\">\n",
              "    <div class=\"colab-df-container\">\n",
              "      <div>\n",
              "<style scoped>\n",
              "    .dataframe tbody tr th:only-of-type {\n",
              "        vertical-align: middle;\n",
              "    }\n",
              "\n",
              "    .dataframe tbody tr th {\n",
              "        vertical-align: top;\n",
              "    }\n",
              "\n",
              "    .dataframe thead th {\n",
              "        text-align: right;\n",
              "    }\n",
              "</style>\n",
              "<table border=\"1\" class=\"dataframe\">\n",
              "  <thead>\n",
              "    <tr style=\"text-align: right;\">\n",
              "      <th></th>\n",
              "      <th>Sepal Length</th>\n",
              "      <th>Sepal Width</th>\n",
              "      <th>Petal Length</th>\n",
              "      <th>Petal Width</th>\n",
              "      <th>Class</th>\n",
              "    </tr>\n",
              "  </thead>\n",
              "  <tbody>\n",
              "    <tr>\n",
              "      <th>0</th>\n",
              "      <td>5.1</td>\n",
              "      <td>3.5</td>\n",
              "      <td>1.4</td>\n",
              "      <td>0.2</td>\n",
              "      <td>Iris-setosa</td>\n",
              "    </tr>\n",
              "    <tr>\n",
              "      <th>1</th>\n",
              "      <td>4.9</td>\n",
              "      <td>3.0</td>\n",
              "      <td>1.4</td>\n",
              "      <td>0.2</td>\n",
              "      <td>Iris-setosa</td>\n",
              "    </tr>\n",
              "    <tr>\n",
              "      <th>2</th>\n",
              "      <td>4.7</td>\n",
              "      <td>3.2</td>\n",
              "      <td>1.3</td>\n",
              "      <td>0.2</td>\n",
              "      <td>Iris-setosa</td>\n",
              "    </tr>\n",
              "    <tr>\n",
              "      <th>3</th>\n",
              "      <td>4.6</td>\n",
              "      <td>3.1</td>\n",
              "      <td>1.5</td>\n",
              "      <td>0.2</td>\n",
              "      <td>Iris-setosa</td>\n",
              "    </tr>\n",
              "    <tr>\n",
              "      <th>4</th>\n",
              "      <td>5.0</td>\n",
              "      <td>3.6</td>\n",
              "      <td>1.4</td>\n",
              "      <td>0.2</td>\n",
              "      <td>Iris-setosa</td>\n",
              "    </tr>\n",
              "  </tbody>\n",
              "</table>\n",
              "</div>\n",
              "      <button class=\"colab-df-convert\" onclick=\"convertToInteractive('df-f85163bd-b951-41a4-8ee0-1076cff595b9')\"\n",
              "              title=\"Convert this dataframe to an interactive table.\"\n",
              "              style=\"display:none;\">\n",
              "        \n",
              "  <svg xmlns=\"http://www.w3.org/2000/svg\" height=\"24px\"viewBox=\"0 0 24 24\"\n",
              "       width=\"24px\">\n",
              "    <path d=\"M0 0h24v24H0V0z\" fill=\"none\"/>\n",
              "    <path d=\"M18.56 5.44l.94 2.06.94-2.06 2.06-.94-2.06-.94-.94-2.06-.94 2.06-2.06.94zm-11 1L8.5 8.5l.94-2.06 2.06-.94-2.06-.94L8.5 2.5l-.94 2.06-2.06.94zm10 10l.94 2.06.94-2.06 2.06-.94-2.06-.94-.94-2.06-.94 2.06-2.06.94z\"/><path d=\"M17.41 7.96l-1.37-1.37c-.4-.4-.92-.59-1.43-.59-.52 0-1.04.2-1.43.59L10.3 9.45l-7.72 7.72c-.78.78-.78 2.05 0 2.83L4 21.41c.39.39.9.59 1.41.59.51 0 1.02-.2 1.41-.59l7.78-7.78 2.81-2.81c.8-.78.8-2.07 0-2.86zM5.41 20L4 18.59l7.72-7.72 1.47 1.35L5.41 20z\"/>\n",
              "  </svg>\n",
              "      </button>\n",
              "      \n",
              "  <style>\n",
              "    .colab-df-container {\n",
              "      display:flex;\n",
              "      flex-wrap:wrap;\n",
              "      gap: 12px;\n",
              "    }\n",
              "\n",
              "    .colab-df-convert {\n",
              "      background-color: #E8F0FE;\n",
              "      border: none;\n",
              "      border-radius: 50%;\n",
              "      cursor: pointer;\n",
              "      display: none;\n",
              "      fill: #1967D2;\n",
              "      height: 32px;\n",
              "      padding: 0 0 0 0;\n",
              "      width: 32px;\n",
              "    }\n",
              "\n",
              "    .colab-df-convert:hover {\n",
              "      background-color: #E2EBFA;\n",
              "      box-shadow: 0px 1px 2px rgba(60, 64, 67, 0.3), 0px 1px 3px 1px rgba(60, 64, 67, 0.15);\n",
              "      fill: #174EA6;\n",
              "    }\n",
              "\n",
              "    [theme=dark] .colab-df-convert {\n",
              "      background-color: #3B4455;\n",
              "      fill: #D2E3FC;\n",
              "    }\n",
              "\n",
              "    [theme=dark] .colab-df-convert:hover {\n",
              "      background-color: #434B5C;\n",
              "      box-shadow: 0px 1px 3px 1px rgba(0, 0, 0, 0.15);\n",
              "      filter: drop-shadow(0px 1px 2px rgba(0, 0, 0, 0.3));\n",
              "      fill: #FFFFFF;\n",
              "    }\n",
              "  </style>\n",
              "\n",
              "      <script>\n",
              "        const buttonEl =\n",
              "          document.querySelector('#df-f85163bd-b951-41a4-8ee0-1076cff595b9 button.colab-df-convert');\n",
              "        buttonEl.style.display =\n",
              "          google.colab.kernel.accessAllowed ? 'block' : 'none';\n",
              "\n",
              "        async function convertToInteractive(key) {\n",
              "          const element = document.querySelector('#df-f85163bd-b951-41a4-8ee0-1076cff595b9');\n",
              "          const dataTable =\n",
              "            await google.colab.kernel.invokeFunction('convertToInteractive',\n",
              "                                                     [key], {});\n",
              "          if (!dataTable) return;\n",
              "\n",
              "          const docLinkHtml = 'Like what you see? Visit the ' +\n",
              "            '<a target=\"_blank\" href=https://colab.research.google.com/notebooks/data_table.ipynb>data table notebook</a>'\n",
              "            + ' to learn more about interactive tables.';\n",
              "          element.innerHTML = '';\n",
              "          dataTable['output_type'] = 'display_data';\n",
              "          await google.colab.output.renderOutput(dataTable, element);\n",
              "          const docLink = document.createElement('div');\n",
              "          docLink.innerHTML = docLinkHtml;\n",
              "          element.appendChild(docLink);\n",
              "        }\n",
              "      </script>\n",
              "    </div>\n",
              "  </div>\n",
              "  "
            ]
          },
          "metadata": {},
          "execution_count": 37
        }
      ]
    },
    {
      "cell_type": "markdown",
      "source": [
        "## 1.3 Summary Statistics"
      ],
      "metadata": {
        "id": "B-Orp_dy_rda"
      }
    },
    {
      "cell_type": "markdown",
      "source": [
        "In the description of Iris dataset, it has been mentioned that our dataset is been cleaned and there are no missing values. So, no further preprocessing is required except scaling. We first have a look at the number of rows and columns in our dataset by accessing the `shape` attribute of our Pandas Dataframe. We can see our dataset is relatively small with 150 rows and 5 columns which have been labelled before. "
      ],
      "metadata": {
        "id": "66G0H0ha7l2b"
      }
    },
    {
      "cell_type": "code",
      "source": [
        "print('The data frame has', df.shape[0], 'rows and', df.shape[1], 'columnns')"
      ],
      "metadata": {
        "colab": {
          "base_uri": "https://localhost:8080/"
        },
        "id": "p6YqPpcoJQ59",
        "outputId": "8f89ffad-f8ab-4b57-d5fe-605f21c42775"
      },
      "execution_count": null,
      "outputs": [
        {
          "output_type": "stream",
          "name": "stdout",
          "text": [
            "The data frame has 150 rows and 5 columnns\n"
          ]
        }
      ]
    },
    {
      "cell_type": "markdown",
      "source": [
        "To get a better idea of our dataset, we can check its summary statistics by using Pandas built-in function `describe()`. The summary statistics give us a numerical estimation of all the important statistical measures. The class attribute of our dataset is categorical and hence, will not be shown in the summary statistics."
      ],
      "metadata": {
        "id": "mQTiFM4y8YMi"
      }
    },
    {
      "cell_type": "code",
      "source": [
        "df.describe()"
      ],
      "metadata": {
        "colab": {
          "base_uri": "https://localhost:8080/",
          "height": 300
        },
        "id": "vQghcfJYKCQ5",
        "outputId": "a024b198-4fe0-475f-b5ec-19db96c19367"
      },
      "execution_count": null,
      "outputs": [
        {
          "output_type": "execute_result",
          "data": {
            "text/plain": [
              "       Sepal Length  Sepal Width  Petal Length  Petal Width\n",
              "count    150.000000   150.000000    150.000000   150.000000\n",
              "mean       5.843333     3.054000      3.758667     1.198667\n",
              "std        0.828066     0.433594      1.764420     0.763161\n",
              "min        4.300000     2.000000      1.000000     0.100000\n",
              "25%        5.100000     2.800000      1.600000     0.300000\n",
              "50%        5.800000     3.000000      4.350000     1.300000\n",
              "75%        6.400000     3.300000      5.100000     1.800000\n",
              "max        7.900000     4.400000      6.900000     2.500000"
            ],
            "text/html": [
              "\n",
              "  <div id=\"df-6448c2ce-ee29-48d8-b70f-cda08725ad7e\">\n",
              "    <div class=\"colab-df-container\">\n",
              "      <div>\n",
              "<style scoped>\n",
              "    .dataframe tbody tr th:only-of-type {\n",
              "        vertical-align: middle;\n",
              "    }\n",
              "\n",
              "    .dataframe tbody tr th {\n",
              "        vertical-align: top;\n",
              "    }\n",
              "\n",
              "    .dataframe thead th {\n",
              "        text-align: right;\n",
              "    }\n",
              "</style>\n",
              "<table border=\"1\" class=\"dataframe\">\n",
              "  <thead>\n",
              "    <tr style=\"text-align: right;\">\n",
              "      <th></th>\n",
              "      <th>Sepal Length</th>\n",
              "      <th>Sepal Width</th>\n",
              "      <th>Petal Length</th>\n",
              "      <th>Petal Width</th>\n",
              "    </tr>\n",
              "  </thead>\n",
              "  <tbody>\n",
              "    <tr>\n",
              "      <th>count</th>\n",
              "      <td>150.000000</td>\n",
              "      <td>150.000000</td>\n",
              "      <td>150.000000</td>\n",
              "      <td>150.000000</td>\n",
              "    </tr>\n",
              "    <tr>\n",
              "      <th>mean</th>\n",
              "      <td>5.843333</td>\n",
              "      <td>3.054000</td>\n",
              "      <td>3.758667</td>\n",
              "      <td>1.198667</td>\n",
              "    </tr>\n",
              "    <tr>\n",
              "      <th>std</th>\n",
              "      <td>0.828066</td>\n",
              "      <td>0.433594</td>\n",
              "      <td>1.764420</td>\n",
              "      <td>0.763161</td>\n",
              "    </tr>\n",
              "    <tr>\n",
              "      <th>min</th>\n",
              "      <td>4.300000</td>\n",
              "      <td>2.000000</td>\n",
              "      <td>1.000000</td>\n",
              "      <td>0.100000</td>\n",
              "    </tr>\n",
              "    <tr>\n",
              "      <th>25%</th>\n",
              "      <td>5.100000</td>\n",
              "      <td>2.800000</td>\n",
              "      <td>1.600000</td>\n",
              "      <td>0.300000</td>\n",
              "    </tr>\n",
              "    <tr>\n",
              "      <th>50%</th>\n",
              "      <td>5.800000</td>\n",
              "      <td>3.000000</td>\n",
              "      <td>4.350000</td>\n",
              "      <td>1.300000</td>\n",
              "    </tr>\n",
              "    <tr>\n",
              "      <th>75%</th>\n",
              "      <td>6.400000</td>\n",
              "      <td>3.300000</td>\n",
              "      <td>5.100000</td>\n",
              "      <td>1.800000</td>\n",
              "    </tr>\n",
              "    <tr>\n",
              "      <th>max</th>\n",
              "      <td>7.900000</td>\n",
              "      <td>4.400000</td>\n",
              "      <td>6.900000</td>\n",
              "      <td>2.500000</td>\n",
              "    </tr>\n",
              "  </tbody>\n",
              "</table>\n",
              "</div>\n",
              "      <button class=\"colab-df-convert\" onclick=\"convertToInteractive('df-6448c2ce-ee29-48d8-b70f-cda08725ad7e')\"\n",
              "              title=\"Convert this dataframe to an interactive table.\"\n",
              "              style=\"display:none;\">\n",
              "        \n",
              "  <svg xmlns=\"http://www.w3.org/2000/svg\" height=\"24px\"viewBox=\"0 0 24 24\"\n",
              "       width=\"24px\">\n",
              "    <path d=\"M0 0h24v24H0V0z\" fill=\"none\"/>\n",
              "    <path d=\"M18.56 5.44l.94 2.06.94-2.06 2.06-.94-2.06-.94-.94-2.06-.94 2.06-2.06.94zm-11 1L8.5 8.5l.94-2.06 2.06-.94-2.06-.94L8.5 2.5l-.94 2.06-2.06.94zm10 10l.94 2.06.94-2.06 2.06-.94-2.06-.94-.94-2.06-.94 2.06-2.06.94z\"/><path d=\"M17.41 7.96l-1.37-1.37c-.4-.4-.92-.59-1.43-.59-.52 0-1.04.2-1.43.59L10.3 9.45l-7.72 7.72c-.78.78-.78 2.05 0 2.83L4 21.41c.39.39.9.59 1.41.59.51 0 1.02-.2 1.41-.59l7.78-7.78 2.81-2.81c.8-.78.8-2.07 0-2.86zM5.41 20L4 18.59l7.72-7.72 1.47 1.35L5.41 20z\"/>\n",
              "  </svg>\n",
              "      </button>\n",
              "      \n",
              "  <style>\n",
              "    .colab-df-container {\n",
              "      display:flex;\n",
              "      flex-wrap:wrap;\n",
              "      gap: 12px;\n",
              "    }\n",
              "\n",
              "    .colab-df-convert {\n",
              "      background-color: #E8F0FE;\n",
              "      border: none;\n",
              "      border-radius: 50%;\n",
              "      cursor: pointer;\n",
              "      display: none;\n",
              "      fill: #1967D2;\n",
              "      height: 32px;\n",
              "      padding: 0 0 0 0;\n",
              "      width: 32px;\n",
              "    }\n",
              "\n",
              "    .colab-df-convert:hover {\n",
              "      background-color: #E2EBFA;\n",
              "      box-shadow: 0px 1px 2px rgba(60, 64, 67, 0.3), 0px 1px 3px 1px rgba(60, 64, 67, 0.15);\n",
              "      fill: #174EA6;\n",
              "    }\n",
              "\n",
              "    [theme=dark] .colab-df-convert {\n",
              "      background-color: #3B4455;\n",
              "      fill: #D2E3FC;\n",
              "    }\n",
              "\n",
              "    [theme=dark] .colab-df-convert:hover {\n",
              "      background-color: #434B5C;\n",
              "      box-shadow: 0px 1px 3px 1px rgba(0, 0, 0, 0.15);\n",
              "      filter: drop-shadow(0px 1px 2px rgba(0, 0, 0, 0.3));\n",
              "      fill: #FFFFFF;\n",
              "    }\n",
              "  </style>\n",
              "\n",
              "      <script>\n",
              "        const buttonEl =\n",
              "          document.querySelector('#df-6448c2ce-ee29-48d8-b70f-cda08725ad7e button.colab-df-convert');\n",
              "        buttonEl.style.display =\n",
              "          google.colab.kernel.accessAllowed ? 'block' : 'none';\n",
              "\n",
              "        async function convertToInteractive(key) {\n",
              "          const element = document.querySelector('#df-6448c2ce-ee29-48d8-b70f-cda08725ad7e');\n",
              "          const dataTable =\n",
              "            await google.colab.kernel.invokeFunction('convertToInteractive',\n",
              "                                                     [key], {});\n",
              "          if (!dataTable) return;\n",
              "\n",
              "          const docLinkHtml = 'Like what you see? Visit the ' +\n",
              "            '<a target=\"_blank\" href=https://colab.research.google.com/notebooks/data_table.ipynb>data table notebook</a>'\n",
              "            + ' to learn more about interactive tables.';\n",
              "          element.innerHTML = '';\n",
              "          dataTable['output_type'] = 'display_data';\n",
              "          await google.colab.output.renderOutput(dataTable, element);\n",
              "          const docLink = document.createElement('div');\n",
              "          docLink.innerHTML = docLinkHtml;\n",
              "          element.appendChild(docLink);\n",
              "        }\n",
              "      </script>\n",
              "    </div>\n",
              "  </div>\n",
              "  "
            ]
          },
          "metadata": {},
          "execution_count": 7
        }
      ]
    },
    {
      "cell_type": "markdown",
      "source": [
        "## 1.4 Data Visualization"
      ],
      "metadata": {
        "id": "SLfC2nM3_4D3"
      }
    },
    {
      "cell_type": "markdown",
      "source": [
        "Using summary statistics give us a numerical view on our dataset. But humans are better at retaining information visually. We will use some simple boxplots to visualize our dataset.\n",
        "\n",
        "Using Seaborn's built-in `boxplot()` and `stripplot()` function, we can easily plot our boxplots and the datapoints in the same visualization."
      ],
      "metadata": {
        "id": "VdCBECaA-X5p"
      }
    },
    {
      "cell_type": "markdown",
      "source": [
        "### 1.4.1 Sepal Length vs Class"
      ],
      "metadata": {
        "id": "qZzjSDd4Bkn9"
      }
    },
    {
      "cell_type": "code",
      "source": [
        "sns.set(rc={'figure.figsize':(8,8.5)})\n",
        "sns.set(style=\"white\", color_codes=True)\n",
        "ax = sns.boxplot(x=\"Class\", y=\"Sepal Length\", data=df).set(title='Sepal Length vs Class')\n",
        "ax = sns.stripplot(x=\"Class\", y=\"Sepal Length\", data=df, jitter=True, edgecolor=\"gray\")"
      ],
      "metadata": {
        "colab": {
          "base_uri": "https://localhost:8080/",
          "height": 545
        },
        "id": "XsZyHq56AAOn",
        "outputId": "fbd955a1-27e8-4218-f471-2391f53ee506"
      },
      "execution_count": null,
      "outputs": [
        {
          "output_type": "display_data",
          "data": {
            "text/plain": [
              "<Figure size 576x612 with 1 Axes>"
            ],
            "image/png": "[encoded data removed]"
          },
          "metadata": {}
        }
      ]
    },
    {
      "cell_type": "markdown",
      "source": [
        "Iris-setosa has the least median sepal length followed by Iris-versicolor and Iris-virginica. However, Iris-virginica has an outlier with a sepal length of around 5 cm which falls way behind the median sepal length of 6.5 cm."
      ],
      "metadata": {
        "id": "u7nAEXr8Cm1k"
      }
    },
    {
      "cell_type": "markdown",
      "source": [
        "### 1.4.2 Sepal Width vs Class"
      ],
      "metadata": {
        "id": "Q4EIEQO-Bwbd"
      }
    },
    {
      "cell_type": "code",
      "source": [
        "ax = sns.boxplot(x=\"Class\", y=\"Sepal Width\", data=df).set(title='Sepal Width vs Class')\n",
        "ax = sns.stripplot(x=\"Class\", y=\"Sepal Width\", data=df, jitter=True, edgecolor=\"gray\")"
      ],
      "metadata": {
        "colab": {
          "base_uri": "https://localhost:8080/",
          "height": 545
        },
        "id": "6pmpTxzQBwI9",
        "outputId": "ad709d79-dea4-4c99-a839-e63969ee0d96"
      },
      "execution_count": null,
      "outputs": [
        {
          "output_type": "display_data",
          "data": {
            "text/plain": [
              "<Figure size 576x612 with 1 Axes>"
            ],
            "image/png": "[encoded data removed]"
          },
          "metadata": {}
        }
      ]
    },
    {
      "cell_type": "markdown",
      "source": [
        "The sepal width shows a different distribution with Iris-setosa having the highest median width but also having a wider range of values. Iris-virginica has a couple of outliers at the top and bottom."
      ],
      "metadata": {
        "id": "7esqTjKjDvl2"
      }
    },
    {
      "cell_type": "markdown",
      "source": [
        "### 1.4.3 Petal Length vs Class"
      ],
      "metadata": {
        "id": "JnaxmfeVCKim"
      }
    },
    {
      "cell_type": "code",
      "source": [
        "ax = sns.boxplot(x=\"Class\", y=\"Petal Length\", data=df).set(title='Petal Length vs Class')\n",
        "ax = sns.stripplot(x=\"Class\", y=\"Petal Length\", data=df, jitter=True, edgecolor=\"gray\")"
      ],
      "metadata": {
        "colab": {
          "base_uri": "https://localhost:8080/",
          "height": 545
        },
        "id": "MKjwa9KUCZgW",
        "outputId": "648ae777-d0b2-42fa-c2f5-8f3ef5e36a37"
      },
      "execution_count": null,
      "outputs": [
        {
          "output_type": "display_data",
          "data": {
            "text/plain": [
              "<Figure size 576x612 with 1 Axes>"
            ],
            "image/png": "[encoded data removed]"
          },
          "metadata": {}
        }
      ]
    },
    {
      "cell_type": "markdown",
      "source": [
        "Iris-setosa has a very narrow range of petal length and also has the least median petal length. The median petal length of the other two classes are considerably higher. Iris-setosa and Iris-versicolor has some outliers at the bottom."
      ],
      "metadata": {
        "id": "7zktOkhVEShL"
      }
    },
    {
      "cell_type": "markdown",
      "source": [
        "### 1.4.4 Petal Width vs Class"
      ],
      "metadata": {
        "id": "vkETZVXGCSDV"
      }
    },
    {
      "cell_type": "code",
      "source": [
        "ax = sns.boxplot(x=\"Class\", y=\"Petal Width\", data=df).set(title='Petal Width vs Class')\n",
        "ax = sns.stripplot(x=\"Class\", y=\"Petal Width\", data=df, jitter=True, edgecolor=\"gray\")"
      ],
      "metadata": {
        "colab": {
          "base_uri": "https://localhost:8080/",
          "height": 545
        },
        "id": "QmjU16UkCZ1c",
        "outputId": "dc081983-58a5-48cb-862d-e016a3364169"
      },
      "execution_count": null,
      "outputs": [
        {
          "output_type": "display_data",
          "data": {
            "text/plain": [
              "<Figure size 576x612 with 1 Axes>"
            ],
            "image/png": "[encoded data removed]"
          },
          "metadata": {}
        }
      ]
    },
    {
      "cell_type": "markdown",
      "source": [
        "Similar to the petal length, the petal width of Iris-setosa has a narrow range and also has the least median length. However, it has ourliers at the top. The other two classes have considerably higher median petal width with no outliars."
      ],
      "metadata": {
        "id": "33R5Wst_CNyE"
      }
    },
    {
      "cell_type": "markdown",
      "source": [
        "# 2 Data Preprocessing\n",
        "\n",
        "Before feeding our dataset to our model, we need to transform it into an appropriate form. Data Preprocessing involves - Data Cleaning, Data Integration, Data Reduction, and Data Transformation. As mentioned earliar, our dataset has already been cleaned and is from a single source. So, the first two steps can be skipped. We would first perform correlation analysis on our dataset, and then scale the dataset. Apart from that, we need to map categorical values to numerical ones, extract features and target class from our dataset, and make train-test splits."
      ],
      "metadata": {
        "id": "Fd1PSjkMGtG4"
      }
    },
    {
      "cell_type": "markdown",
      "source": [
        "## 2.1 Mapping Categorical to Numerical Values\n",
        "Our model can not interpret categorical values. So, we feed these values to our model by simply mapping them to a numerical value. Our `class` attirbute is a categorical attribute and needs to be mapped. Using the `unique()` command, we can find the list of unique values for any attribute."
      ],
      "metadata": {
        "id": "q9G451mOKvD4"
      }
    },
    {
      "cell_type": "code",
      "source": [
        "df['Class'].unique()"
      ],
      "metadata": {
        "colab": {
          "base_uri": "https://localhost:8080/"
        },
        "id": "sqCtxlZwLbgQ",
        "outputId": "0d5fa80f-d5f2-474f-cb19-e7d0ce73b47e"
      },
      "execution_count": null,
      "outputs": [
        {
          "output_type": "execute_result",
          "data": {
            "text/plain": [
              "array(['Iris-setosa', 'Iris-versicolor', 'Iris-virginica'], dtype=object)"
            ]
          },
          "metadata": {},
          "execution_count": 38
        }
      ]
    },
    {
      "cell_type": "markdown",
      "source": [
        "We perform the mapping:\n",
        "*   Iris-setosa : 0\n",
        "*   Iris-versicolor : 1\n",
        "*   Iris-virginica : 2"
      ],
      "metadata": {
        "id": "inyuv9AbL04P"
      }
    },
    {
      "cell_type": "code",
      "source": [
        "mapping = {'Iris-setosa': 0, 'Iris-versicolor':1, 'Iris-virginica':2}\n",
        "df['Class'] = df['Class'].map(mapping)"
      ],
      "metadata": {
        "id": "VaDw8wHmMNw_"
      },
      "execution_count": null,
      "outputs": []
    },
    {
      "cell_type": "markdown",
      "source": [
        "The Pandas built-in `map()` function can be used to perform our mapping. Afterward, we check the unique values and find that they are 0, 1, and 2."
      ],
      "metadata": {
        "id": "a5dij1frNNmY"
      }
    },
    {
      "cell_type": "code",
      "source": [
        "df['Class'].unique()"
      ],
      "metadata": {
        "colab": {
          "base_uri": "https://localhost:8080/"
        },
        "id": "tqtp9auVNCqW",
        "outputId": "72c5bf46-092d-4fa8-b095-967e1ff066a9"
      },
      "execution_count": null,
      "outputs": [
        {
          "output_type": "execute_result",
          "data": {
            "text/plain": [
              "array([0, 1, 2])"
            ]
          },
          "metadata": {},
          "execution_count": 41
        }
      ]
    },
    {
      "cell_type": "markdown",
      "source": [
        "## 2.2 Correlation Analysis\n",
        "Before extracting our features from the dataset, let's perform correlation analysis and remove all the redundant and derived columns from our dataset. To check the correlation between the columns we can use a heatmap from Seaborn."
      ],
      "metadata": {
        "id": "l9IQP6wHNbMG"
      }
    },
    {
      "cell_type": "code",
      "source": [
        "sns.heatmap(abs(round(df.corr(),2)), annot = True, square=True)\n",
        "plt.show()"
      ],
      "metadata": {
        "colab": {
          "base_uri": "https://localhost:8080/",
          "height": 497
        },
        "id": "5rzR0iX5NvsO",
        "outputId": "36e13c5e-742a-49cf-8573-cc42ae1f2137"
      },
      "execution_count": null,
      "outputs": [
        {
          "output_type": "display_data",
          "data": {
            "text/plain": [
              "<Figure size 576x612 with 2 Axes>"
            ],
            "image/png": "[encoded data removed]"
          },
          "metadata": {}
        }
      ]
    },
    {
      "cell_type": "markdown",
      "source": [
        "Petal Width and Petal Length has very high correlation. Hence, simply taking one of them should give us a better feature vector. Again, there is a high correlation with the target class and petal width. So, just using the petal width might be enough to predict our target class at a considerably high accuracy. As petal width has a higher correlation with the target class than petal length, we will keep petal width instead of petal length."
      ],
      "metadata": {
        "id": "SpDRIfVXOrqV"
      }
    },
    {
      "cell_type": "markdown",
      "source": [
        "## 2.3 Extracting Features and Target class\n",
        "\n",
        "We need to extract the feature vector, X and target vector, y from our dataset (Capital X is used to denote matrix/ 2D vector and small y is used to denote 1D vector). Our reduced feature set has Sepal Length, Sepal Width, and Petal Width. Our target class has the Class attribute only."
      ],
      "metadata": {
        "id": "--Su8nfaKMjw"
      }
    },
    {
      "cell_type": "code",
      "source": [
        "x_names = ['Sepal Length','Sepal Width','Petal Width']\n",
        "y_names = ['Class']\n",
        "X = df[x_names]\n",
        "y = df[y_names]\n",
        "y = np.array(y)\n",
        "y = y.reshape(y.shape[0])"
      ],
      "metadata": {
        "id": "_x2YX4tUK1g8"
      },
      "execution_count": null,
      "outputs": []
    },
    {
      "cell_type": "markdown",
      "source": [
        "## 2.4 Train-Test Splits\n",
        "We will use 80% of our dataset to train the model and 20% for testing the model. The `train_test_split()` function can be used to split our feature vector, X and target vector, y."
      ],
      "metadata": {
        "id": "0btg-FVjPpgU"
      }
    },
    {
      "cell_type": "code",
      "source": [
        "X_train, X_test, y_train, y_test = train_test_split(X, y, test_size=.2, random_state=0)\n",
        "print(\"X_train shape:\",X_train.shape)\n",
        "print(\"X_test shape:\",X_test.shape)\n",
        "print(\"y_train shape:\",y_train.shape)\n",
        "print(\"y_test shape:\",y_test.shape)"
      ],
      "metadata": {
        "colab": {
          "base_uri": "https://localhost:8080/"
        },
        "id": "Tofom0fWKXZM",
        "outputId": "1cdcf753-8eac-4d58-8bfd-06b90b94f579"
      },
      "execution_count": null,
      "outputs": [
        {
          "output_type": "stream",
          "name": "stdout",
          "text": [
            "X_train shape: (120, 3)\n",
            "X_test shape: (30, 3)\n",
            "y_train shape: (120,)\n",
            "y_test shape: (30,)\n"
          ]
        }
      ]
    },
    {
      "cell_type": "markdown",
      "source": [
        "## 2.5 Data Transformation\n",
        "\n",
        "Our dataset has a wide range of values and needs to be transformed so that the values fall within a suitable range. Models tend to converge faster when values are within suitable ranges such as [0,1]. There are many forms of transformation like min-max, Z-score, and so on. We perform Z-score standardization because our dataset contains a small amount of outliers. The target class values are 0, 1, or 2 and hence has no need to be standardized."
      ],
      "metadata": {
        "id": "3X_TJhbeQOYU"
      }
    },
    {
      "cell_type": "code",
      "source": [
        "sc = StandardScaler()\n",
        "sc.fit(X_train)\n",
        "X_train_std = sc.transform(X_train)\n",
        "X_test_std = sc.transform(X_test)\n",
        "print('Minimum and maximum values for the training dataset is:', np.round(np.min(X_train_std), 2), 'and', np.round(np.max(X_train_std),2))\n",
        "print('Minimum and maximum values for the testing dataset is:', np.round(np.min(X_test_std), 2), 'and', np.round(np.max(X_test_std),2))"
      ],
      "metadata": {
        "colab": {
          "base_uri": "https://localhost:8080/"
        },
        "id": "zriZGNP9LKZ7",
        "outputId": "f7baacfe-2179-49b3-f20e-9f5b5570f253"
      },
      "execution_count": null,
      "outputs": [
        {
          "output_type": "stream",
          "name": "stdout",
          "text": [
            "Minimum and maximum values for the training dataset is: -2.45 and 3.13\n",
            "Minimum and maximum values for the testing dataset is: -1.98 and 2.67\n"
          ]
        }
      ]
    },
    {
      "cell_type": "markdown",
      "source": [
        "# 3 Model: SVM\n",
        "\n",
        "Our dataset is now ready to be fed to our model. Using scikitlearn's Support Vecotr Classifier (SVC) model, we will train our dataset and check the accuracy on the test dataset."
      ],
      "metadata": {
        "id": "jljQgSKORTej"
      }
    },
    {
      "cell_type": "markdown",
      "source": [
        "## 3.1 Training the Model\n",
        "\n",
        "We initialize an SVC model with the rbf kernel. \n",
        "* Rbf stands for radial basis function and is a function that will map the input feature space to another feature space. Rbf is a standard kernal used for SVMs. There are other kernels like linear, polynomial, sigmoid.\n",
        "* The random_state parameter is used for generating the pseudorandom number used for shuffling the dataset. \n",
        "* The hyperparameter C is used for regularization and is known as the penalty. Increasing C decreases the regularization effect and vice versa.\n",
        "* The hyperparameter gamma is a kernel coefficient used for the polynomial, rbf/ gaussian, and sigmoid kernels. Higher values of gamma indicates the margin to be closer to the datapoints i.e., there will be a tighter boundary, while lower values of gamma gives a more generalized boundary.\n",
        "\n",
        "The hyperparameters c and gamma are randomly initialized at a value of 10. "
      ],
      "metadata": {
        "id": "wH53bUVhSBDq"
      }
    },
    {
      "cell_type": "code",
      "source": [
        "svm = SVC(kernel='rbf', random_state=0, gamma= 10, C = 10)\n",
        "svm.fit(X_train_std, y_train)\n",
        "\n",
        "print('The accuracy of the svm classifier on training data is {:.2f}%'.format(svm.score(X_train_std, y_train)*100))\n",
        "print('The accuracy of the svm classifier on test data is {:.2f}%'.format(svm.score(X_test_std, y_test)*100))"
      ],
      "metadata": {
        "colab": {
          "base_uri": "https://localhost:8080/"
        },
        "id": "1xu9DmEHLL10",
        "outputId": "5a8cec03-d30d-4bed-8e0e-0bec503f08d1"
      },
      "execution_count": null,
      "outputs": [
        {
          "output_type": "stream",
          "name": "stdout",
          "text": [
            "The accuracy of the svm classifier on training data is 100.00%\n",
            "The accuracy of the svm classifier on test data is 86.67%\n"
          ]
        }
      ]
    },
    {
      "cell_type": "markdown",
      "source": [
        "## 3.2 Hyperparameter Tuning\n",
        "\n",
        "The score from the our previous instance of the SVM without the tuned hyperparameters wasn't bad but had a considerably higher training accuracy than testing accuracy. Hence, it faced overfitting. To prevent overfitting, we need to perform regularization which can be done by simply tuning the hyperparameters. The `GridSearchCV()` will be used to perform hyperparameter tuning which takes all possible combinations of hyperparameters when given a list of values for each hyperparameter. Afterward, it will give us the best hyperparameter values for our model."
      ],
      "metadata": {
        "id": "bB8VPIFNUcnn"
      }
    },
    {
      "cell_type": "code",
      "source": [
        "# Defining the parameter range\n",
        "param_grid = {'C': [0.1, 1, 10, 100, 1000],\n",
        "              'gamma': [1, 0.1, 0.01, 0.001, 0.0001],\n",
        "              'kernel': ['rbf','poly', 'sigmoid']}\n",
        "grid = GridSearchCV(SVC(), param_grid, refit = True, verbose = 3)\n",
        "\n",
        "# Fitting the model for grid search\n",
        "grid.fit(X_train_std, y_train)"
      ],
      "metadata": {
        "colab": {
          "base_uri": "https://localhost:8080/"
        },
        "id": "VB_KhOSuMwQ6",
        "outputId": "3998ff6a-cd44-4e6b-cbc2-e93039921b4f"
      },
      "execution_count": null,
      "outputs": [
        {
          "output_type": "stream",
          "name": "stdout",
          "text": [
            "Fitting 5 folds for each of 75 candidates, totalling 375 fits\n",
            "[CV 1/5] END ........C=0.1, gamma=1, kernel=rbf;, score=0.875 total time=   0.0s\n",
            "[CV 2/5] END ........C=0.1, gamma=1, kernel=rbf;, score=0.750 total time=   0.0s\n",
            "[CV 3/5] END ........C=0.1, gamma=1, kernel=rbf;, score=0.875 total time=   0.0s\n",
            "[CV 4/5] END ........C=0.1, gamma=1, kernel=rbf;, score=0.917 total time=   0.0s\n",
            "[CV 5/5] END ........C=0.1, gamma=1, kernel=rbf;, score=0.792 total time=   0.0s\n",
            "[CV 1/5] END .......C=0.1, gamma=1, kernel=poly;, score=0.833 total time=   0.0s\n",
            "[CV 2/5] END .......C=0.1, gamma=1, kernel=poly;, score=0.833 total time=   0.0s\n",
            "[CV 3/5] END .......C=0.1, gamma=1, kernel=poly;, score=0.875 total time=   0.0s\n",
            "[CV 4/5] END .......C=0.1, gamma=1, kernel=poly;, score=0.958 total time=   0.0s\n",
            "[CV 5/5] END .......C=0.1, gamma=1, kernel=poly;, score=0.958 total time=   0.0s\n",
            "[CV 1/5] END ....C=0.1, gamma=1, kernel=sigmoid;, score=0.875 total time=   0.0s\n",
            "[CV 2/5] END ....C=0.1, gamma=1, kernel=sigmoid;, score=0.833 total time=   0.0s\n",
            "[CV 3/5] END ....C=0.1, gamma=1, kernel=sigmoid;, score=0.917 total time=   0.0s\n",
            "[CV 4/5] END ....C=0.1, gamma=1, kernel=sigmoid;, score=0.875 total time=   0.0s\n",
            "[CV 5/5] END ....C=0.1, gamma=1, kernel=sigmoid;, score=0.833 total time=   0.0s\n",
            "[CV 1/5] END ......C=0.1, gamma=0.1, kernel=rbf;, score=0.833 total time=   0.0s\n",
            "[CV 2/5] END ......C=0.1, gamma=0.1, kernel=rbf;, score=0.833 total time=   0.0s\n",
            "[CV 3/5] END ......C=0.1, gamma=0.1, kernel=rbf;, score=0.750 total time=   0.0s\n",
            "[CV 4/5] END ......C=0.1, gamma=0.1, kernel=rbf;, score=0.833 total time=   0.0s\n",
            "[CV 5/5] END ......C=0.1, gamma=0.1, kernel=rbf;, score=0.750 total time=   0.0s\n",
            "[CV 1/5] END .....C=0.1, gamma=0.1, kernel=poly;, score=0.375 total time=   0.0s\n",
            "[CV 2/5] END .....C=0.1, gamma=0.1, kernel=poly;, score=0.375 total time=   0.0s\n",
            "[CV 3/5] END .....C=0.1, gamma=0.1, kernel=poly;, score=0.375 total time=   0.0s\n",
            "[CV 4/5] END .....C=0.1, gamma=0.1, kernel=poly;, score=0.375 total time=   0.0s\n",
            "[CV 5/5] END .....C=0.1, gamma=0.1, kernel=poly;, score=0.333 total time=   0.0s\n",
            "[CV 1/5] END ..C=0.1, gamma=0.1, kernel=sigmoid;, score=0.708 total time=   0.0s\n",
            "[CV 2/5] END ..C=0.1, gamma=0.1, kernel=sigmoid;, score=0.750 total time=   0.0s\n",
            "[CV 3/5] END ..C=0.1, gamma=0.1, kernel=sigmoid;, score=0.667 total time=   0.0s\n",
            "[CV 4/5] END ..C=0.1, gamma=0.1, kernel=sigmoid;, score=0.750 total time=   0.0s\n",
            "[CV 5/5] END ..C=0.1, gamma=0.1, kernel=sigmoid;, score=0.667 total time=   0.0s\n",
            "[CV 1/5] END .....C=0.1, gamma=0.01, kernel=rbf;, score=0.375 total time=   0.0s\n",
            "[CV 2/5] END .....C=0.1, gamma=0.01, kernel=rbf;, score=0.375 total time=   0.0s\n",
            "[CV 3/5] END .....C=0.1, gamma=0.01, kernel=rbf;, score=0.375 total time=   0.0s\n",
            "[CV 4/5] END .....C=0.1, gamma=0.01, kernel=rbf;, score=0.375 total time=   0.0s\n",
            "[CV 5/5] END .....C=0.1, gamma=0.01, kernel=rbf;, score=0.333 total time=   0.0s\n",
            "[CV 1/5] END ....C=0.1, gamma=0.01, kernel=poly;, score=0.375 total time=   0.0s\n",
            "[CV 2/5] END ....C=0.1, gamma=0.01, kernel=poly;, score=0.375 total time=   0.0s\n",
            "[CV 3/5] END ....C=0.1, gamma=0.01, kernel=poly;, score=0.375 total time=   0.0s\n",
            "[CV 4/5] END ....C=0.1, gamma=0.01, kernel=poly;, score=0.375 total time=   0.0s\n",
            "[CV 5/5] END ....C=0.1, gamma=0.01, kernel=poly;, score=0.333 total time=   0.0s\n",
            "[CV 1/5] END .C=0.1, gamma=0.01, kernel=sigmoid;, score=0.375 total time=   0.0s\n",
            "[CV 2/5] END .C=0.1, gamma=0.01, kernel=sigmoid;, score=0.375 total time=   0.0s\n",
            "[CV 3/5] END .C=0.1, gamma=0.01, kernel=sigmoid;, score=0.375 total time=   0.0s\n",
            "[CV 4/5] END .C=0.1, gamma=0.01, kernel=sigmoid;, score=0.375 total time=   0.0s\n",
            "[CV 5/5] END .C=0.1, gamma=0.01, kernel=sigmoid;, score=0.333 total time=   0.0s\n",
            "[CV 1/5] END ....C=0.1, gamma=0.001, kernel=rbf;, score=0.375 total time=   0.0s\n",
            "[CV 2/5] END ....C=0.1, gamma=0.001, kernel=rbf;, score=0.375 total time=   0.0s\n",
            "[CV 3/5] END ....C=0.1, gamma=0.001, kernel=rbf;, score=0.375 total time=   0.0s\n",
            "[CV 4/5] END ....C=0.1, gamma=0.001, kernel=rbf;, score=0.375 total time=   0.0s\n",
            "[CV 5/5] END ....C=0.1, gamma=0.001, kernel=rbf;, score=0.333 total time=   0.0s\n",
            "[CV 1/5] END ...C=0.1, gamma=0.001, kernel=poly;, score=0.375 total time=   0.0s\n",
            "[CV 2/5] END ...C=0.1, gamma=0.001, kernel=poly;, score=0.375 total time=   0.0s\n",
            "[CV 3/5] END ...C=0.1, gamma=0.001, kernel=poly;, score=0.375 total time=   0.0s\n",
            "[CV 4/5] END ...C=0.1, gamma=0.001, kernel=poly;, score=0.375 total time=   0.0s\n",
            "[CV 5/5] END ...C=0.1, gamma=0.001, kernel=poly;, score=0.333 total time=   0.0s\n",
            "[CV 1/5] END C=0.1, gamma=0.001, kernel=sigmoid;, score=0.375 total time=   0.0s\n",
            "[CV 2/5] END C=0.1, gamma=0.001, kernel=sigmoid;, score=0.375 total time=   0.0s\n",
            "[CV 3/5] END C=0.1, gamma=0.001, kernel=sigmoid;, score=0.375 total time=   0.0s\n",
            "[CV 4/5] END C=0.1, gamma=0.001, kernel=sigmoid;, score=0.375 total time=   0.0s\n",
            "[CV 5/5] END C=0.1, gamma=0.001, kernel=sigmoid;, score=0.333 total time=   0.0s\n",
            "[CV 1/5] END ...C=0.1, gamma=0.0001, kernel=rbf;, score=0.375 total time=   0.0s\n",
            "[CV 2/5] END ...C=0.1, gamma=0.0001, kernel=rbf;, score=0.375 total time=   0.0s\n",
            "[CV 3/5] END ...C=0.1, gamma=0.0001, kernel=rbf;, score=0.375 total time=   0.0s\n",
            "[CV 4/5] END ...C=0.1, gamma=0.0001, kernel=rbf;, score=0.375 total time=   0.0s\n",
            "[CV 5/5] END ...C=0.1, gamma=0.0001, kernel=rbf;, score=0.333 total time=   0.0s\n",
            "[CV 1/5] END ..C=0.1, gamma=0.0001, kernel=poly;, score=0.375 total time=   0.0s\n",
            "[CV 2/5] END ..C=0.1, gamma=0.0001, kernel=poly;, score=0.375 total time=   0.0s\n",
            "[CV 3/5] END ..C=0.1, gamma=0.0001, kernel=poly;, score=0.375 total time=   0.0s\n",
            "[CV 4/5] END ..C=0.1, gamma=0.0001, kernel=poly;, score=0.375 total time=   0.0s\n",
            "[CV 5/5] END ..C=0.1, gamma=0.0001, kernel=poly;, score=0.333 total time=   0.0s\n",
            "[CV 1/5] END C=0.1, gamma=0.0001, kernel=sigmoid;, score=0.375 total time=   0.0s\n",
            "[CV 2/5] END C=0.1, gamma=0.0001, kernel=sigmoid;, score=0.375 total time=   0.0s\n",
            "[CV 3/5] END C=0.1, gamma=0.0001, kernel=sigmoid;, score=0.375 total time=   0.0s\n",
            "[CV 4/5] END C=0.1, gamma=0.0001, kernel=sigmoid;, score=0.375 total time=   0.0s\n",
            "[CV 5/5] END C=0.1, gamma=0.0001, kernel=sigmoid;, score=0.333 total time=   0.0s\n",
            "[CV 1/5] END ..........C=1, gamma=1, kernel=rbf;, score=0.917 total time=   0.0s\n",
            "[CV 2/5] END ..........C=1, gamma=1, kernel=rbf;, score=0.917 total time=   0.0s\n",
            "[CV 3/5] END ..........C=1, gamma=1, kernel=rbf;, score=0.958 total time=   0.0s\n",
            "[CV 4/5] END ..........C=1, gamma=1, kernel=rbf;, score=0.958 total time=   0.0s\n",
            "[CV 5/5] END ..........C=1, gamma=1, kernel=rbf;, score=0.875 total time=   0.0s\n",
            "[CV 1/5] END .........C=1, gamma=1, kernel=poly;, score=0.875 total time=   0.0s\n",
            "[CV 2/5] END .........C=1, gamma=1, kernel=poly;, score=0.917 total time=   0.0s\n",
            "[CV 3/5] END .........C=1, gamma=1, kernel=poly;, score=0.875 total time=   0.0s\n",
            "[CV 4/5] END .........C=1, gamma=1, kernel=poly;, score=0.917 total time=   0.0s\n",
            "[CV 5/5] END .........C=1, gamma=1, kernel=poly;, score=0.958 total time=   0.0s\n",
            "[CV 1/5] END ......C=1, gamma=1, kernel=sigmoid;, score=0.875 total time=   0.0s\n",
            "[CV 2/5] END ......C=1, gamma=1, kernel=sigmoid;, score=0.833 total time=   0.0s\n",
            "[CV 3/5] END ......C=1, gamma=1, kernel=sigmoid;, score=0.875 total time=   0.0s\n",
            "[CV 4/5] END ......C=1, gamma=1, kernel=sigmoid;, score=0.625 total time=   0.0s\n",
            "[CV 5/5] END ......C=1, gamma=1, kernel=sigmoid;, score=0.750 total time=   0.0s\n",
            "[CV 1/5] END ........C=1, gamma=0.1, kernel=rbf;, score=0.958 total time=   0.0s\n",
            "[CV 2/5] END ........C=1, gamma=0.1, kernel=rbf;, score=0.875 total time=   0.0s\n",
            "[CV 3/5] END ........C=1, gamma=0.1, kernel=rbf;, score=0.833 total time=   0.0s\n",
            "[CV 4/5] END ........C=1, gamma=0.1, kernel=rbf;, score=1.000 total time=   0.0s\n",
            "[CV 5/5] END ........C=1, gamma=0.1, kernel=rbf;, score=0.917 total time=   0.0s\n",
            "[CV 1/5] END .......C=1, gamma=0.1, kernel=poly;, score=0.667 total time=   0.0s\n",
            "[CV 2/5] END .......C=1, gamma=0.1, kernel=poly;, score=0.750 total time=   0.0s\n",
            "[CV 3/5] END .......C=1, gamma=0.1, kernel=poly;, score=0.708 total time=   0.0s\n",
            "[CV 4/5] END .......C=1, gamma=0.1, kernel=poly;, score=0.708 total time=   0.0s\n",
            "[CV 5/5] END .......C=1, gamma=0.1, kernel=poly;, score=0.667 total time=   0.0s\n",
            "[CV 1/5] END ....C=1, gamma=0.1, kernel=sigmoid;, score=0.958 total time=   0.0s\n",
            "[CV 2/5] END ....C=1, gamma=0.1, kernel=sigmoid;, score=0.875 total time=   0.0s\n",
            "[CV 3/5] END ....C=1, gamma=0.1, kernel=sigmoid;, score=0.833 total time=   0.0s\n",
            "[CV 4/5] END ....C=1, gamma=0.1, kernel=sigmoid;, score=1.000 total time=   0.0s\n",
            "[CV 5/5] END ....C=1, gamma=0.1, kernel=sigmoid;, score=0.958 total time=   0.0s\n",
            "[CV 1/5] END .......C=1, gamma=0.01, kernel=rbf;, score=0.917 total time=   0.0s\n",
            "[CV 2/5] END .......C=1, gamma=0.01, kernel=rbf;, score=0.875 total time=   0.0s\n",
            "[CV 3/5] END .......C=1, gamma=0.01, kernel=rbf;, score=0.917 total time=   0.0s\n",
            "[CV 4/5] END .......C=1, gamma=0.01, kernel=rbf;, score=0.875 total time=   0.0s\n",
            "[CV 5/5] END .......C=1, gamma=0.01, kernel=rbf;, score=0.833 total time=   0.0s\n",
            "[CV 1/5] END ......C=1, gamma=0.01, kernel=poly;, score=0.375 total time=   0.0s\n",
            "[CV 2/5] END ......C=1, gamma=0.01, kernel=poly;, score=0.375 total time=   0.0s\n",
            "[CV 3/5] END ......C=1, gamma=0.01, kernel=poly;, score=0.375 total time=   0.0s\n",
            "[CV 4/5] END ......C=1, gamma=0.01, kernel=poly;, score=0.375 total time=   0.0s\n",
            "[CV 5/5] END ......C=1, gamma=0.01, kernel=poly;, score=0.333 total time=   0.0s\n",
            "[CV 1/5] END ...C=1, gamma=0.01, kernel=sigmoid;, score=0.708 total time=   0.0s\n",
            "[CV 2/5] END ...C=1, gamma=0.01, kernel=sigmoid;, score=0.750 total time=   0.0s\n",
            "[CV 3/5] END ...C=1, gamma=0.01, kernel=sigmoid;, score=0.667 total time=   0.0s\n",
            "[CV 4/5] END ...C=1, gamma=0.01, kernel=sigmoid;, score=0.750 total time=   0.0s\n",
            "[CV 5/5] END ...C=1, gamma=0.01, kernel=sigmoid;, score=0.667 total time=   0.0s\n",
            "[CV 1/5] END ......C=1, gamma=0.001, kernel=rbf;, score=0.375 total time=   0.0s\n",
            "[CV 2/5] END ......C=1, gamma=0.001, kernel=rbf;, score=0.375 total time=   0.0s\n",
            "[CV 3/5] END ......C=1, gamma=0.001, kernel=rbf;, score=0.375 total time=   0.0s\n",
            "[CV 4/5] END ......C=1, gamma=0.001, kernel=rbf;, score=0.375 total time=   0.0s\n",
            "[CV 5/5] END ......C=1, gamma=0.001, kernel=rbf;, score=0.333 total time=   0.0s\n",
            "[CV 1/5] END .....C=1, gamma=0.001, kernel=poly;, score=0.375 total time=   0.0s\n",
            "[CV 2/5] END .....C=1, gamma=0.001, kernel=poly;, score=0.375 total time=   0.0s\n",
            "[CV 3/5] END .....C=1, gamma=0.001, kernel=poly;, score=0.375 total time=   0.0s\n",
            "[CV 4/5] END .....C=1, gamma=0.001, kernel=poly;, score=0.375 total time=   0.0s\n",
            "[CV 5/5] END .....C=1, gamma=0.001, kernel=poly;, score=0.333 total time=   0.0s\n",
            "[CV 1/5] END ..C=1, gamma=0.001, kernel=sigmoid;, score=0.375 total time=   0.0s\n",
            "[CV 2/5] END ..C=1, gamma=0.001, kernel=sigmoid;, score=0.375 total time=   0.0s\n",
            "[CV 3/5] END ..C=1, gamma=0.001, kernel=sigmoid;, score=0.375 total time=   0.0s\n",
            "[CV 4/5] END ..C=1, gamma=0.001, kernel=sigmoid;, score=0.375 total time=   0.0s\n",
            "[CV 5/5] END ..C=1, gamma=0.001, kernel=sigmoid;, score=0.333 total time=   0.0s\n",
            "[CV 1/5] END .....C=1, gamma=0.0001, kernel=rbf;, score=0.375 total time=   0.0s\n",
            "[CV 2/5] END .....C=1, gamma=0.0001, kernel=rbf;, score=0.375 total time=   0.0s\n",
            "[CV 3/5] END .....C=1, gamma=0.0001, kernel=rbf;, score=0.375 total time=   0.0s\n",
            "[CV 4/5] END .....C=1, gamma=0.0001, kernel=rbf;, score=0.375 total time=   0.0s\n",
            "[CV 5/5] END .....C=1, gamma=0.0001, kernel=rbf;, score=0.333 total time=   0.0s\n",
            "[CV 1/5] END ....C=1, gamma=0.0001, kernel=poly;, score=0.375 total time=   0.0s\n",
            "[CV 2/5] END ....C=1, gamma=0.0001, kernel=poly;, score=0.375 total time=   0.0s\n",
            "[CV 3/5] END ....C=1, gamma=0.0001, kernel=poly;, score=0.375 total time=   0.0s\n",
            "[CV 4/5] END ....C=1, gamma=0.0001, kernel=poly;, score=0.375 total time=   0.0s\n",
            "[CV 5/5] END ....C=1, gamma=0.0001, kernel=poly;, score=0.333 total time=   0.0s\n",
            "[CV 1/5] END .C=1, gamma=0.0001, kernel=sigmoid;, score=0.375 total time=   0.0s\n",
            "[CV 2/5] END .C=1, gamma=0.0001, kernel=sigmoid;, score=0.375 total time=   0.0s\n",
            "[CV 3/5] END .C=1, gamma=0.0001, kernel=sigmoid;, score=0.375 total time=   0.0s\n",
            "[CV 4/5] END .C=1, gamma=0.0001, kernel=sigmoid;, score=0.375 total time=   0.0s\n",
            "[CV 5/5] END .C=1, gamma=0.0001, kernel=sigmoid;, score=0.333 total time=   0.0s\n",
            "[CV 1/5] END .........C=10, gamma=1, kernel=rbf;, score=0.917 total time=   0.0s\n",
            "[CV 2/5] END .........C=10, gamma=1, kernel=rbf;, score=0.917 total time=   0.0s\n",
            "[CV 3/5] END .........C=10, gamma=1, kernel=rbf;, score=0.917 total time=   0.0s\n",
            "[CV 4/5] END .........C=10, gamma=1, kernel=rbf;, score=0.958 total time=   0.0s\n",
            "[CV 5/5] END .........C=10, gamma=1, kernel=rbf;, score=0.917 total time=   0.0s\n",
            "[CV 1/5] END ........C=10, gamma=1, kernel=poly;, score=0.917 total time=   0.0s\n",
            "[CV 2/5] END ........C=10, gamma=1, kernel=poly;, score=0.875 total time=   0.0s\n",
            "[CV 3/5] END ........C=10, gamma=1, kernel=poly;, score=0.875 total time=   0.0s\n",
            "[CV 4/5] END ........C=10, gamma=1, kernel=poly;, score=0.958 total time=   0.0s\n",
            "[CV 5/5] END ........C=10, gamma=1, kernel=poly;, score=0.917 total time=   0.0s\n",
            "[CV 1/5] END .....C=10, gamma=1, kernel=sigmoid;, score=0.792 total time=   0.0s\n",
            "[CV 2/5] END .....C=10, gamma=1, kernel=sigmoid;, score=0.750 total time=   0.0s\n",
            "[CV 3/5] END .....C=10, gamma=1, kernel=sigmoid;, score=0.833 total time=   0.0s\n",
            "[CV 4/5] END .....C=10, gamma=1, kernel=sigmoid;, score=0.750 total time=   0.0s\n",
            "[CV 5/5] END .....C=10, gamma=1, kernel=sigmoid;, score=0.708 total time=   0.0s\n",
            "[CV 1/5] END .......C=10, gamma=0.1, kernel=rbf;, score=0.917 total time=   0.0s\n",
            "[CV 2/5] END .......C=10, gamma=0.1, kernel=rbf;, score=0.917 total time=   0.0s\n",
            "[CV 3/5] END .......C=10, gamma=0.1, kernel=rbf;, score=0.958 total time=   0.0s\n",
            "[CV 4/5] END .......C=10, gamma=0.1, kernel=rbf;, score=1.000 total time=   0.0s\n",
            "[CV 5/5] END .......C=10, gamma=0.1, kernel=rbf;, score=0.917 total time=   0.0s\n",
            "[CV 1/5] END ......C=10, gamma=0.1, kernel=poly;, score=0.792 total time=   0.0s\n",
            "[CV 2/5] END ......C=10, gamma=0.1, kernel=poly;, score=0.708 total time=   0.0s\n",
            "[CV 3/5] END ......C=10, gamma=0.1, kernel=poly;, score=0.833 total time=   0.0s\n",
            "[CV 4/5] END ......C=10, gamma=0.1, kernel=poly;, score=0.833 total time=   0.0s\n",
            "[CV 5/5] END ......C=10, gamma=0.1, kernel=poly;, score=0.917 total time=   0.0s\n",
            "[CV 1/5] END ...C=10, gamma=0.1, kernel=sigmoid;, score=0.917 total time=   0.0s\n",
            "[CV 2/5] END ...C=10, gamma=0.1, kernel=sigmoid;, score=0.917 total time=   0.0s\n",
            "[CV 3/5] END ...C=10, gamma=0.1, kernel=sigmoid;, score=1.000 total time=   0.0s\n",
            "[CV 4/5] END ...C=10, gamma=0.1, kernel=sigmoid;, score=0.958 total time=   0.0s\n",
            "[CV 5/5] END ...C=10, gamma=0.1, kernel=sigmoid;, score=0.875 total time=   0.0s\n",
            "[CV 1/5] END ......C=10, gamma=0.01, kernel=rbf;, score=0.958 total time=   0.0s\n",
            "[CV 2/5] END ......C=10, gamma=0.01, kernel=rbf;, score=0.917 total time=   0.0s\n",
            "[CV 3/5] END ......C=10, gamma=0.01, kernel=rbf;, score=0.875 total time=   0.0s\n",
            "[CV 4/5] END ......C=10, gamma=0.01, kernel=rbf;, score=1.000 total time=   0.0s\n",
            "[CV 5/5] END ......C=10, gamma=0.01, kernel=rbf;, score=0.917 total time=   0.0s\n",
            "[CV 1/5] END .....C=10, gamma=0.01, kernel=poly;, score=0.375 total time=   0.0s\n",
            "[CV 2/5] END .....C=10, gamma=0.01, kernel=poly;, score=0.375 total time=   0.0s\n",
            "[CV 3/5] END .....C=10, gamma=0.01, kernel=poly;, score=0.375 total time=   0.0s\n",
            "[CV 4/5] END .....C=10, gamma=0.01, kernel=poly;, score=0.375 total time=   0.0s\n",
            "[CV 5/5] END .....C=10, gamma=0.01, kernel=poly;, score=0.333 total time=   0.0s\n",
            "[CV 1/5] END ..C=10, gamma=0.01, kernel=sigmoid;, score=0.958 total time=   0.0s\n",
            "[CV 2/5] END ..C=10, gamma=0.01, kernel=sigmoid;, score=0.875 total time=   0.0s\n",
            "[CV 3/5] END ..C=10, gamma=0.01, kernel=sigmoid;, score=0.833 total time=   0.0s\n",
            "[CV 4/5] END ..C=10, gamma=0.01, kernel=sigmoid;, score=1.000 total time=   0.0s\n",
            "[CV 5/5] END ..C=10, gamma=0.01, kernel=sigmoid;, score=0.958 total time=   0.0s\n",
            "[CV 1/5] END .....C=10, gamma=0.001, kernel=rbf;, score=0.875 total time=   0.0s\n",
            "[CV 2/5] END .....C=10, gamma=0.001, kernel=rbf;, score=0.833 total time=   0.0s\n",
            "[CV 3/5] END .....C=10, gamma=0.001, kernel=rbf;, score=0.917 total time=   0.0s\n",
            "[CV 4/5] END .....C=10, gamma=0.001, kernel=rbf;, score=0.875 total time=   0.0s\n",
            "[CV 5/5] END .....C=10, gamma=0.001, kernel=rbf;, score=0.833 total time=   0.0s\n",
            "[CV 1/5] END ....C=10, gamma=0.001, kernel=poly;, score=0.375 total time=   0.0s\n",
            "[CV 2/5] END ....C=10, gamma=0.001, kernel=poly;, score=0.375 total time=   0.0s\n",
            "[CV 3/5] END ....C=10, gamma=0.001, kernel=poly;, score=0.375 total time=   0.0s\n",
            "[CV 4/5] END ....C=10, gamma=0.001, kernel=poly;, score=0.375 total time=   0.0s\n",
            "[CV 5/5] END ....C=10, gamma=0.001, kernel=poly;, score=0.333 total time=   0.0s\n",
            "[CV 1/5] END .C=10, gamma=0.001, kernel=sigmoid;, score=0.708 total time=   0.0s\n",
            "[CV 2/5] END .C=10, gamma=0.001, kernel=sigmoid;, score=0.750 total time=   0.0s\n",
            "[CV 3/5] END .C=10, gamma=0.001, kernel=sigmoid;, score=0.667 total time=   0.0s\n",
            "[CV 4/5] END .C=10, gamma=0.001, kernel=sigmoid;, score=0.750 total time=   0.0s\n",
            "[CV 5/5] END .C=10, gamma=0.001, kernel=sigmoid;, score=0.667 total time=   0.0s\n",
            "[CV 1/5] END ....C=10, gamma=0.0001, kernel=rbf;, score=0.375 total time=   0.0s\n",
            "[CV 2/5] END ....C=10, gamma=0.0001, kernel=rbf;, score=0.375 total time=   0.0s\n",
            "[CV 3/5] END ....C=10, gamma=0.0001, kernel=rbf;, score=0.375 total time=   0.0s\n",
            "[CV 4/5] END ....C=10, gamma=0.0001, kernel=rbf;, score=0.375 total time=   0.0s\n",
            "[CV 5/5] END ....C=10, gamma=0.0001, kernel=rbf;, score=0.333 total time=   0.0s\n",
            "[CV 1/5] END ...C=10, gamma=0.0001, kernel=poly;, score=0.375 total time=   0.0s\n",
            "[CV 2/5] END ...C=10, gamma=0.0001, kernel=poly;, score=0.375 total time=   0.0s\n",
            "[CV 3/5] END ...C=10, gamma=0.0001, kernel=poly;, score=0.375 total time=   0.0s\n",
            "[CV 4/5] END ...C=10, gamma=0.0001, kernel=poly;, score=0.375 total time=   0.0s\n",
            "[CV 5/5] END ...C=10, gamma=0.0001, kernel=poly;, score=0.333 total time=   0.0s\n",
            "[CV 1/5] END C=10, gamma=0.0001, kernel=sigmoid;, score=0.375 total time=   0.0s\n",
            "[CV 2/5] END C=10, gamma=0.0001, kernel=sigmoid;, score=0.375 total time=   0.0s\n",
            "[CV 3/5] END C=10, gamma=0.0001, kernel=sigmoid;, score=0.375 total time=   0.0s\n",
            "[CV 4/5] END C=10, gamma=0.0001, kernel=sigmoid;, score=0.375 total time=   0.0s\n",
            "[CV 5/5] END C=10, gamma=0.0001, kernel=sigmoid;, score=0.333 total time=   0.0s\n",
            "[CV 1/5] END ........C=100, gamma=1, kernel=rbf;, score=0.833 total time=   0.0s\n",
            "[CV 2/5] END ........C=100, gamma=1, kernel=rbf;, score=0.917 total time=   0.0s\n",
            "[CV 3/5] END ........C=100, gamma=1, kernel=rbf;, score=0.917 total time=   0.0s\n",
            "[CV 4/5] END ........C=100, gamma=1, kernel=rbf;, score=0.958 total time=   0.0s\n",
            "[CV 5/5] END ........C=100, gamma=1, kernel=rbf;, score=0.917 total time=   0.0s\n",
            "[CV 1/5] END .......C=100, gamma=1, kernel=poly;, score=0.833 total time=   0.0s\n",
            "[CV 2/5] END .......C=100, gamma=1, kernel=poly;, score=0.875 total time=   0.0s\n",
            "[CV 3/5] END .......C=100, gamma=1, kernel=poly;, score=0.917 total time=   0.0s\n",
            "[CV 4/5] END .......C=100, gamma=1, kernel=poly;, score=0.958 total time=   0.0s\n",
            "[CV 5/5] END .......C=100, gamma=1, kernel=poly;, score=0.917 total time=   0.0s\n",
            "[CV 1/5] END ....C=100, gamma=1, kernel=sigmoid;, score=0.750 total time=   0.0s\n",
            "[CV 2/5] END ....C=100, gamma=1, kernel=sigmoid;, score=0.750 total time=   0.0s\n",
            "[CV 3/5] END ....C=100, gamma=1, kernel=sigmoid;, score=0.792 total time=   0.0s\n",
            "[CV 4/5] END ....C=100, gamma=1, kernel=sigmoid;, score=0.792 total time=   0.0s\n",
            "[CV 5/5] END ....C=100, gamma=1, kernel=sigmoid;, score=0.708 total time=   0.0s\n",
            "[CV 1/5] END ......C=100, gamma=0.1, kernel=rbf;, score=0.875 total time=   0.0s\n",
            "[CV 2/5] END ......C=100, gamma=0.1, kernel=rbf;, score=0.958 total time=   0.0s\n",
            "[CV 3/5] END ......C=100, gamma=0.1, kernel=rbf;, score=0.917 total time=   0.0s\n",
            "[CV 4/5] END ......C=100, gamma=0.1, kernel=rbf;, score=0.958 total time=   0.0s\n",
            "[CV 5/5] END ......C=100, gamma=0.1, kernel=rbf;, score=0.917 total time=   0.0s\n",
            "[CV 1/5] END .....C=100, gamma=0.1, kernel=poly;, score=0.833 total time=   0.0s\n",
            "[CV 2/5] END .....C=100, gamma=0.1, kernel=poly;, score=0.833 total time=   0.0s\n",
            "[CV 3/5] END .....C=100, gamma=0.1, kernel=poly;, score=0.875 total time=   0.0s\n",
            "[CV 4/5] END .....C=100, gamma=0.1, kernel=poly;, score=0.958 total time=   0.0s\n",
            "[CV 5/5] END .....C=100, gamma=0.1, kernel=poly;, score=0.958 total time=   0.0s\n",
            "[CV 1/5] END ..C=100, gamma=0.1, kernel=sigmoid;, score=0.917 total time=   0.0s\n",
            "[CV 2/5] END ..C=100, gamma=0.1, kernel=sigmoid;, score=0.917 total time=   0.0s\n",
            "[CV 3/5] END ..C=100, gamma=0.1, kernel=sigmoid;, score=0.958 total time=   0.0s\n",
            "[CV 4/5] END ..C=100, gamma=0.1, kernel=sigmoid;, score=0.958 total time=   0.0s\n",
            "[CV 5/5] END ..C=100, gamma=0.1, kernel=sigmoid;, score=0.875 total time=   0.0s\n",
            "[CV 1/5] END .....C=100, gamma=0.01, kernel=rbf;, score=0.917 total time=   0.0s\n",
            "[CV 2/5] END .....C=100, gamma=0.01, kernel=rbf;, score=0.917 total time=   0.0s\n",
            "[CV 3/5] END .....C=100, gamma=0.01, kernel=rbf;, score=0.958 total time=   0.0s\n",
            "[CV 4/5] END .....C=100, gamma=0.01, kernel=rbf;, score=0.958 total time=   0.0s\n",
            "[CV 5/5] END .....C=100, gamma=0.01, kernel=rbf;, score=0.875 total time=   0.0s\n",
            "[CV 1/5] END ....C=100, gamma=0.01, kernel=poly;, score=0.375 total time=   0.0s\n",
            "[CV 2/5] END ....C=100, gamma=0.01, kernel=poly;, score=0.375 total time=   0.0s\n",
            "[CV 3/5] END ....C=100, gamma=0.01, kernel=poly;, score=0.375 total time=   0.0s\n",
            "[CV 4/5] END ....C=100, gamma=0.01, kernel=poly;, score=0.375 total time=   0.0s\n",
            "[CV 5/5] END ....C=100, gamma=0.01, kernel=poly;, score=0.333 total time=   0.0s\n",
            "[CV 1/5] END .C=100, gamma=0.01, kernel=sigmoid;, score=0.958 total time=   0.0s\n",
            "[CV 2/5] END .C=100, gamma=0.01, kernel=sigmoid;, score=0.917 total time=   0.0s\n",
            "[CV 3/5] END .C=100, gamma=0.01, kernel=sigmoid;, score=0.958 total time=   0.0s\n",
            "[CV 4/5] END .C=100, gamma=0.01, kernel=sigmoid;, score=0.958 total time=   0.0s\n",
            "[CV 5/5] END .C=100, gamma=0.01, kernel=sigmoid;, score=0.875 total time=   0.0s\n",
            "[CV 1/5] END ....C=100, gamma=0.001, kernel=rbf;, score=0.958 total time=   0.0s\n",
            "[CV 2/5] END ....C=100, gamma=0.001, kernel=rbf;, score=0.917 total time=   0.0s\n",
            "[CV 3/5] END ....C=100, gamma=0.001, kernel=rbf;, score=0.875 total time=   0.0s\n",
            "[CV 4/5] END ....C=100, gamma=0.001, kernel=rbf;, score=1.000 total time=   0.0s\n",
            "[CV 5/5] END ....C=100, gamma=0.001, kernel=rbf;, score=0.917 total time=   0.0s\n",
            "[CV 1/5] END ...C=100, gamma=0.001, kernel=poly;, score=0.375 total time=   0.0s\n",
            "[CV 2/5] END ...C=100, gamma=0.001, kernel=poly;, score=0.375 total time=   0.0s\n",
            "[CV 3/5] END ...C=100, gamma=0.001, kernel=poly;, score=0.375 total time=   0.0s\n",
            "[CV 4/5] END ...C=100, gamma=0.001, kernel=poly;, score=0.375 total time=   0.0s\n",
            "[CV 5/5] END ...C=100, gamma=0.001, kernel=poly;, score=0.333 total time=   0.0s\n",
            "[CV 1/5] END C=100, gamma=0.001, kernel=sigmoid;, score=0.958 total time=   0.0s\n",
            "[CV 2/5] END C=100, gamma=0.001, kernel=sigmoid;, score=0.875 total time=   0.0s\n",
            "[CV 3/5] END C=100, gamma=0.001, kernel=sigmoid;, score=0.833 total time=   0.0s\n",
            "[CV 4/5] END C=100, gamma=0.001, kernel=sigmoid;, score=1.000 total time=   0.0s\n",
            "[CV 5/5] END C=100, gamma=0.001, kernel=sigmoid;, score=0.958 total time=   0.0s\n",
            "[CV 1/5] END ...C=100, gamma=0.0001, kernel=rbf;, score=0.875 total time=   0.0s\n",
            "[CV 2/5] END ...C=100, gamma=0.0001, kernel=rbf;, score=0.833 total time=   0.0s\n",
            "[CV 3/5] END ...C=100, gamma=0.0001, kernel=rbf;, score=0.917 total time=   0.0s\n",
            "[CV 4/5] END ...C=100, gamma=0.0001, kernel=rbf;, score=0.875 total time=   0.0s\n",
            "[CV 5/5] END ...C=100, gamma=0.0001, kernel=rbf;, score=0.833 total time=   0.0s\n",
            "[CV 1/5] END ..C=100, gamma=0.0001, kernel=poly;, score=0.375 total time=   0.0s\n",
            "[CV 2/5] END ..C=100, gamma=0.0001, kernel=poly;, score=0.375 total time=   0.0s\n",
            "[CV 3/5] END ..C=100, gamma=0.0001, kernel=poly;, score=0.375 total time=   0.0s\n",
            "[CV 4/5] END ..C=100, gamma=0.0001, kernel=poly;, score=0.375 total time=   0.0s\n",
            "[CV 5/5] END ..C=100, gamma=0.0001, kernel=poly;, score=0.333 total time=   0.0s\n",
            "[CV 1/5] END C=100, gamma=0.0001, kernel=sigmoid;, score=0.708 total time=   0.0s\n",
            "[CV 2/5] END C=100, gamma=0.0001, kernel=sigmoid;, score=0.750 total time=   0.0s\n",
            "[CV 3/5] END C=100, gamma=0.0001, kernel=sigmoid;, score=0.667 total time=   0.0s\n",
            "[CV 4/5] END C=100, gamma=0.0001, kernel=sigmoid;, score=0.750 total time=   0.0s\n",
            "[CV 5/5] END C=100, gamma=0.0001, kernel=sigmoid;, score=0.667 total time=   0.0s\n",
            "[CV 1/5] END .......C=1000, gamma=1, kernel=rbf;, score=0.833 total time=   0.0s\n",
            "[CV 2/5] END .......C=1000, gamma=1, kernel=rbf;, score=0.917 total time=   0.0s\n",
            "[CV 3/5] END .......C=1000, gamma=1, kernel=rbf;, score=0.917 total time=   0.0s\n",
            "[CV 4/5] END .......C=1000, gamma=1, kernel=rbf;, score=0.958 total time=   0.0s\n",
            "[CV 5/5] END .......C=1000, gamma=1, kernel=rbf;, score=0.917 total time=   0.0s\n",
            "[CV 1/5] END ......C=1000, gamma=1, kernel=poly;, score=0.833 total time=   0.0s\n",
            "[CV 2/5] END ......C=1000, gamma=1, kernel=poly;, score=0.875 total time=   0.0s\n",
            "[CV 3/5] END ......C=1000, gamma=1, kernel=poly;, score=0.917 total time=   0.0s\n",
            "[CV 4/5] END ......C=1000, gamma=1, kernel=poly;, score=0.958 total time=   0.0s\n",
            "[CV 5/5] END ......C=1000, gamma=1, kernel=poly;, score=0.917 total time=   0.0s\n",
            "[CV 1/5] END ...C=1000, gamma=1, kernel=sigmoid;, score=0.792 total time=   0.0s\n",
            "[CV 2/5] END ...C=1000, gamma=1, kernel=sigmoid;, score=0.792 total time=   0.0s\n",
            "[CV 3/5] END ...C=1000, gamma=1, kernel=sigmoid;, score=0.833 total time=   0.0s\n",
            "[CV 4/5] END ...C=1000, gamma=1, kernel=sigmoid;, score=0.792 total time=   0.0s\n",
            "[CV 5/5] END ...C=1000, gamma=1, kernel=sigmoid;, score=0.708 total time=   0.0s\n",
            "[CV 1/5] END .....C=1000, gamma=0.1, kernel=rbf;, score=0.917 total time=   0.0s\n",
            "[CV 2/5] END .....C=1000, gamma=0.1, kernel=rbf;, score=0.958 total time=   0.0s\n",
            "[CV 3/5] END .....C=1000, gamma=0.1, kernel=rbf;, score=0.917 total time=   0.0s\n",
            "[CV 4/5] END .....C=1000, gamma=0.1, kernel=rbf;, score=0.958 total time=   0.0s\n",
            "[CV 5/5] END .....C=1000, gamma=0.1, kernel=rbf;, score=0.917 total time=   0.0s\n",
            "[CV 1/5] END ....C=1000, gamma=0.1, kernel=poly;, score=0.875 total time=   0.0s\n",
            "[CV 2/5] END ....C=1000, gamma=0.1, kernel=poly;, score=0.917 total time=   0.0s\n",
            "[CV 3/5] END ....C=1000, gamma=0.1, kernel=poly;, score=0.875 total time=   0.0s\n",
            "[CV 4/5] END ....C=1000, gamma=0.1, kernel=poly;, score=0.917 total time=   0.0s\n",
            "[CV 5/5] END ....C=1000, gamma=0.1, kernel=poly;, score=0.958 total time=   0.0s\n",
            "[CV 1/5] END .C=1000, gamma=0.1, kernel=sigmoid;, score=1.000 total time=   0.0s\n",
            "[CV 2/5] END .C=1000, gamma=0.1, kernel=sigmoid;, score=0.875 total time=   0.0s\n",
            "[CV 3/5] END .C=1000, gamma=0.1, kernel=sigmoid;, score=0.958 total time=   0.0s\n",
            "[CV 4/5] END .C=1000, gamma=0.1, kernel=sigmoid;, score=0.958 total time=   0.0s\n",
            "[CV 5/5] END .C=1000, gamma=0.1, kernel=sigmoid;, score=0.833 total time=   0.0s\n",
            "[CV 1/5] END ....C=1000, gamma=0.01, kernel=rbf;, score=0.958 total time=   0.0s\n",
            "[CV 2/5] END ....C=1000, gamma=0.01, kernel=rbf;, score=0.958 total time=   0.0s\n",
            "[CV 3/5] END ....C=1000, gamma=0.01, kernel=rbf;, score=0.958 total time=   0.0s\n",
            "[CV 4/5] END ....C=1000, gamma=0.01, kernel=rbf;, score=0.958 total time=   0.0s\n",
            "[CV 5/5] END ....C=1000, gamma=0.01, kernel=rbf;, score=0.875 total time=   0.0s\n",
            "[CV 1/5] END ...C=1000, gamma=0.01, kernel=poly;, score=0.667 total time=   0.0s\n",
            "[CV 2/5] END ...C=1000, gamma=0.01, kernel=poly;, score=0.750 total time=   0.0s\n",
            "[CV 3/5] END ...C=1000, gamma=0.01, kernel=poly;, score=0.708 total time=   0.0s\n",
            "[CV 4/5] END ...C=1000, gamma=0.01, kernel=poly;, score=0.708 total time=   0.0s\n",
            "[CV 5/5] END ...C=1000, gamma=0.01, kernel=poly;, score=0.667 total time=   0.0s\n",
            "[CV 1/5] END C=1000, gamma=0.01, kernel=sigmoid;, score=0.958 total time=   0.0s\n",
            "[CV 2/5] END C=1000, gamma=0.01, kernel=sigmoid;, score=0.917 total time=   0.0s\n",
            "[CV 3/5] END C=1000, gamma=0.01, kernel=sigmoid;, score=0.958 total time=   0.0s\n",
            "[CV 4/5] END C=1000, gamma=0.01, kernel=sigmoid;, score=0.958 total time=   0.0s\n",
            "[CV 5/5] END C=1000, gamma=0.01, kernel=sigmoid;, score=0.875 total time=   0.0s\n",
            "[CV 1/5] END ...C=1000, gamma=0.001, kernel=rbf;, score=0.917 total time=   0.0s\n",
            "[CV 2/5] END ...C=1000, gamma=0.001, kernel=rbf;, score=0.917 total time=   0.0s\n",
            "[CV 3/5] END ...C=1000, gamma=0.001, kernel=rbf;, score=0.958 total time=   0.0s\n",
            "[CV 4/5] END ...C=1000, gamma=0.001, kernel=rbf;, score=0.958 total time=   0.0s\n",
            "[CV 5/5] END ...C=1000, gamma=0.001, kernel=rbf;, score=0.875 total time=   0.0s\n",
            "[CV 1/5] END ..C=1000, gamma=0.001, kernel=poly;, score=0.375 total time=   0.0s\n",
            "[CV 2/5] END ..C=1000, gamma=0.001, kernel=poly;, score=0.375 total time=   0.0s\n",
            "[CV 3/5] END ..C=1000, gamma=0.001, kernel=poly;, score=0.375 total time=   0.0s\n",
            "[CV 4/5] END ..C=1000, gamma=0.001, kernel=poly;, score=0.375 total time=   0.0s\n",
            "[CV 5/5] END ..C=1000, gamma=0.001, kernel=poly;, score=0.333 total time=   0.0s\n",
            "[CV 1/5] END C=1000, gamma=0.001, kernel=sigmoid;, score=0.958 total time=   0.0s\n",
            "[CV 2/5] END C=1000, gamma=0.001, kernel=sigmoid;, score=0.917 total time=   0.0s\n",
            "[CV 3/5] END C=1000, gamma=0.001, kernel=sigmoid;, score=0.958 total time=   0.0s\n",
            "[CV 4/5] END C=1000, gamma=0.001, kernel=sigmoid;, score=0.958 total time=   0.0s\n",
            "[CV 5/5] END C=1000, gamma=0.001, kernel=sigmoid;, score=0.875 total time=   0.0s\n",
            "[CV 1/5] END ..C=1000, gamma=0.0001, kernel=rbf;, score=0.958 total time=   0.0s\n",
            "[CV 2/5] END ..C=1000, gamma=0.0001, kernel=rbf;, score=0.917 total time=   0.0s\n",
            "[CV 3/5] END ..C=1000, gamma=0.0001, kernel=rbf;, score=0.875 total time=   0.0s\n",
            "[CV 4/5] END ..C=1000, gamma=0.0001, kernel=rbf;, score=1.000 total time=   0.0s\n",
            "[CV 5/5] END ..C=1000, gamma=0.0001, kernel=rbf;, score=0.917 total time=   0.0s\n",
            "[CV 1/5] END .C=1000, gamma=0.0001, kernel=poly;, score=0.375 total time=   0.0s\n",
            "[CV 2/5] END .C=1000, gamma=0.0001, kernel=poly;, score=0.375 total time=   0.0s\n",
            "[CV 3/5] END .C=1000, gamma=0.0001, kernel=poly;, score=0.375 total time=   0.0s\n",
            "[CV 4/5] END .C=1000, gamma=0.0001, kernel=poly;, score=0.375 total time=   0.0s\n",
            "[CV 5/5] END .C=1000, gamma=0.0001, kernel=poly;, score=0.333 total time=   0.0s\n",
            "[CV 1/5] END C=1000, gamma=0.0001, kernel=sigmoid;, score=0.958 total time=   0.0s\n",
            "[CV 2/5] END C=1000, gamma=0.0001, kernel=sigmoid;, score=0.875 total time=   0.0s\n",
            "[CV 3/5] END C=1000, gamma=0.0001, kernel=sigmoid;, score=0.833 total time=   0.0s\n",
            "[CV 4/5] END C=1000, gamma=0.0001, kernel=sigmoid;, score=1.000 total time=   0.0s\n",
            "[CV 5/5] END C=1000, gamma=0.0001, kernel=sigmoid;, score=0.958 total time=   0.0s\n"
          ]
        },
        {
          "output_type": "execute_result",
          "data": {
            "text/plain": [
              "GridSearchCV(estimator=SVC(),\n",
              "             param_grid={'C': [0.1, 1, 10, 100, 1000],\n",
              "                         'gamma': [1, 0.1, 0.01, 0.001, 0.0001],\n",
              "                         'kernel': ['rbf', 'poly', 'sigmoid']},\n",
              "             verbose=3)"
            ]
          },
          "metadata": {},
          "execution_count": 57
        }
      ]
    },
    {
      "cell_type": "code",
      "source": [
        "print('The best parameter values is:' ,grid.best_params_)"
      ],
      "metadata": {
        "colab": {
          "base_uri": "https://localhost:8080/"
        },
        "id": "HF_Yd5alN9gg",
        "outputId": "f26f87c9-25d6-4782-8025-45d9f8294ca8"
      },
      "execution_count": null,
      "outputs": [
        {
          "output_type": "stream",
          "name": "stdout",
          "text": [
            "The best parameter values is: {'C': 1000, 'gamma': 0.01, 'kernel': 'rbf'}\n"
          ]
        }
      ]
    },
    {
      "cell_type": "code",
      "source": [
        "svm = SVC(kernel='rbf', random_state=0, gamma = 0.01, C = 1000)\n",
        "svm.fit(X_train_std, y_train)\n",
        "\n",
        "print('The accuracy of the svm classifier on training data is {:.2f}%'.format(svm.score(X_train_std, y_train)*100))\n",
        "print('The accuracy of the svm classifier on test data is {:.2f}%'.format(svm.score(X_test_std, y_test)*100))"
      ],
      "metadata": {
        "colab": {
          "base_uri": "https://localhost:8080/"
        },
        "id": "RTt7QdFZODku",
        "outputId": "cfa329a9-2d49-4a44-a43e-eb40bd8b86b6"
      },
      "execution_count": null,
      "outputs": [
        {
          "output_type": "stream",
          "name": "stdout",
          "text": [
            "The accuracy of the svm classifier on training data is 96.67%\n",
            "The accuracy of the svm classifier on test data is 96.67%\n"
          ]
        }
      ]
    },
    {
      "cell_type": "markdown",
      "source": [
        "By tuning our hyperparameters, we have a significant decrease in training accuracy but have a larger increase in test accuracy. This means that our model is able to generalize better and has prevented overfitting. Performing well in test data means performing well on unseen data and thus, our model has better performance due to hyperparameter tuning."
      ],
      "metadata": {
        "id": "JmOot9oJWeJW"
      }
    }
  ]
}