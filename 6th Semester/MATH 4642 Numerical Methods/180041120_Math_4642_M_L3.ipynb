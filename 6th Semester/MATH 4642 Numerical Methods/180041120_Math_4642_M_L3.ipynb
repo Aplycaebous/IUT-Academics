{
  "nbformat": 4,
  "nbformat_minor": 0,
  "metadata": {
    "colab": {
      "name": "180041120_Lab3.ipynb",
      "provenance": [],
      "collapsed_sections": []
    },
    "kernelspec": {
      "name": "python3",
      "display_name": "Python 3"
    },
    "language_info": {
      "name": "python"
    }
  },
  "cells": [
    {
      "cell_type": "markdown",
      "source": [
        "# **Lab 3 : Newton's Divided Difference Interpolation**<br>\n",
        "\n",
        "Interpolation is the process of estimating unknown data that lies within the range of some known data. The **Newton's Divided Difference Interpolation** is one of the methods of performing this task. In order to interpolate unknown data, one needs to define a model that would fit the known data and based on that model, one would obtain the unknown data. This model would basically be function that tries to satisfy the known data points. There can be various types of functions that may satisfy the same given data points, but for interpolation, we usually choose **polynomials** as interpolating functions due to the fact that polynomials are very to evaluate, differentiate and integrate.\n",
        "\n",
        "In today's lab, we will be implementing the Newton's Divided Difference Interpolation in python. To test our implementation, we will be using the same data that we used during our class lectures. Run the following cell to load the known data points:\n"
      ],
      "metadata": {
        "id": "Dex_lDl5gUKB"
      }
    },
    {
      "cell_type": "code",
      "source": [
        "t = [0, 10, 15, 20, 22.5, 30]\n",
        "v = [0, 227.04, 362.78, 517.35, 602.97, 901.67]"
      ],
      "metadata": {
        "id": "_QpvT2CYjART"
      },
      "execution_count": 83,
      "outputs": []
    },
    {
      "cell_type": "markdown",
      "source": [
        "##Task 1\n",
        "Design a utility function that will be called in the Newton's Divided Difference function. The purpose of this function will be to find the n+1 closest points to the unknown value t_new where we want to interpolate the data, where n is the order of the iterpolating polynomial. The function to be implemented is as follows:"
      ],
      "metadata": {
        "id": "_XU-vXFFzj4T"
      }
    },
    {
      "cell_type": "code",
      "source": [
        "import numpy as np\n",
        "\n",
        "def NearestPoints(t, v, n, t_new):\n",
        "  #Write your implementation here\n",
        "\n",
        "  t_nearest = []\n",
        "  v_nearest = []\n",
        "\n",
        "  diff  = abs(np.array(t) - t_new)\n",
        "\n",
        "  valuesDict = dict(zip(t,v))\n",
        "  diffDict = dict(zip(diff, t))\n",
        "\n",
        "  for i in sorted (diffDict):\n",
        "    t_nearest.append(diffDict[i])\n",
        "\n",
        "  t_nearest  = t_nearest[:n+1]\n",
        "  t_nearest.sort()\n",
        "\n",
        "  for i in t_nearest:\n",
        "    v_nearest.append(valuesDict[i])\n",
        "  v_nearest = v_nearest[:n+1]\n",
        "\n",
        "  return t_nearest, v_nearest"
      ],
      "metadata": {
        "id": "xv0ziIB60ET8"
      },
      "execution_count": 84,
      "outputs": []
    },
    {
      "cell_type": "markdown",
      "source": [
        "The above function is supposed to return two vectors, say t_nearest and v_nearest consisting of n+1 elements each. For testing the working of the function, we can print the data and see what we are getting. Run the following cell to check this:"
      ],
      "metadata": {
        "id": "LHxyRNGa0RDb"
      }
    },
    {
      "cell_type": "code",
      "source": [
        "n = 3\n",
        "t_new = 16\n",
        "\n",
        "t_nearest, v_nearest = NearestPoints(t, v, n, t_new)\n",
        "print(t_nearest)\n",
        "print(v_nearest)"
      ],
      "metadata": {
        "id": "Ls-vZyV50zgq",
        "colab": {
          "base_uri": "https://localhost:8080/"
        },
        "outputId": "5f61af5b-8cd5-4183-d7ba-8391ba23f6ef"
      },
      "execution_count": 129,
      "outputs": [
        {
          "output_type": "stream",
          "name": "stdout",
          "text": [
            "[10, 15, 20, 22.5]\n",
            "[227.04, 362.78, 517.35, 602.97]\n"
          ]
        }
      ]
    },
    {
      "cell_type": "markdown",
      "source": [
        "##Task 2\n",
        "Now your task is to design a generalized function that takes the given data as parameters as well as the order (n) of the polynomial and uses the Newton's Divided Difference Polynomial to interpolate the uknown data at t_new. The following cell contains the function to be implemented:"
      ],
      "metadata": {
        "id": "GzKLR0nkj32g"
      }
    },
    {
      "cell_type": "code",
      "source": [
        "def calc_b(t, v):\n",
        "    n = len(v)\n",
        "   \n",
        "    if n == 1:\n",
        "      return v[0]\n",
        "\n",
        "    t_first = t[0]\n",
        "    t_last = t[-1]\n",
        "\n",
        "    t_first_arr = t[:n-1]\n",
        "    v_first_arr = v[:n-1]\n",
        "\n",
        "    t_next_arr = t[1:n]\n",
        "    v_next_arr = v[1:n]\n",
        "    diff = calc_b(t_next_arr,v_next_arr) - calc_b(t_first_arr, v_first_arr)\n",
        "\n",
        "    return (diff/(t_last- t_first))"
      ],
      "metadata": {
        "id": "ERbYQGlt_VNL"
      },
      "execution_count": 86,
      "outputs": []
    },
    {
      "cell_type": "code",
      "source": [
        "def NDD(t, v, n, t_new):\n",
        "  #Write your implementation here\n",
        "  t_nearest, v_nearest = NearestPoints(t, v, n, t_new)\n",
        "  v_new = v[0]\n",
        "  for i in range(1, n+2):\n",
        "    b = calc_b(t_nearest[:i], v_nearest[:i])\n",
        "    mul = 1\n",
        "    for j in range(i-1):\n",
        "      diff = t_new - t_nearest[j]\n",
        "      mul = mul*diff  \n",
        "    v_new += b*mul\n",
        "  return v_new\n"
      ],
      "metadata": {
        "id": "2m1trUT_k5pi",
        "colab": {
          "base_uri": "https://localhost:8080/"
        },
        "outputId": "617f8fcf-c732-4bf7-d535-51d46e4bb0ec"
      },
      "execution_count": 120,
      "outputs": [
        {
          "output_type": "execute_result",
          "data": {
            "text/plain": [
              "392.18760000000003"
            ]
          },
          "metadata": {},
          "execution_count": 120
        }
      ]
    },
    {
      "cell_type": "markdown",
      "source": [
        "Note that the above function will at first needs to find a number of closest points to the unknown data (t_new), and this number will vary depending on the order (n) of the polynomial that we want to use as the interpolating function. So you will have to call the function you implemented in Task 1 inside this function."
      ],
      "metadata": {
        "id": "vcJ2VMvplfpw"
      }
    },
    {
      "cell_type": "markdown",
      "source": [
        "##Task 3\n",
        "Now, test the function using different order of polynomials, setting n = 1, 2 and 3 and print the absolute relative approximate error at each step."
      ],
      "metadata": {
        "id": "HhsqLMYYpD8S"
      }
    },
    {
      "cell_type": "code",
      "source": [
        "#Write your code here for finding the relative approximate errors for different orders of the polynomial\n",
        "t1 = NDD(t,v,1, 16)\n",
        "t2 = NDD(t,v,2, 16)\n",
        "t3 = NDD(t,v,3, 16)\n",
        "\n",
        "err1 = (abs(t2-t1)/t2)*100\n",
        "err2 = (abs(t3-t2)/t3)*100\n",
        "\n",
        "print(err1)\n",
        "print(err2)"
      ],
      "metadata": {
        "id": "ShRMjjHSm-dq",
        "colab": {
          "base_uri": "https://localhost:8080/"
        },
        "outputId": "8fcb3c8e-1ea4-467e-fe93-03d6d9adacf3"
      },
      "execution_count": 128,
      "outputs": [
        {
          "output_type": "stream",
          "name": "stdout",
          "text": [
            "0.38410189409352263\n",
            "0.03326861760119248\n"
          ]
        }
      ]
    }
  ]
}