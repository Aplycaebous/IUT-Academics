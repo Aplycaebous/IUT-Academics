{
 "cells": [
  {
   "cell_type": "markdown",
   "metadata": {
    "id": "x369-8-EfSru"
   },
   "source": [
    "# **Task-1**\n",
    "\n",
    "Importing the libraries required for all the tasks"
   ]
  },
  {
   "cell_type": "code",
   "execution_count": 3,
   "metadata": {
    "id": "3KJXWYpzbYM4"
   },
   "outputs": [],
   "source": [
    "import numpy as np\n",
    "import math\n",
    "import matplotlib.pyplot as plt "
   ]
  },
  {
   "cell_type": "markdown",
   "metadata": {
    "id": "phXJPRsNfjkG"
   },
   "source": [
    "**Task-1a**\n",
    "\n",
    "Linspace is used to generate the required vector. Linspace divides a line segement into a finite number of points, and returns those points as a numpy array. "
   ]
  },
  {
   "cell_type": "code",
   "execution_count": 4,
   "metadata": {
    "colab": {
     "base_uri": "https://localhost:8080/",
     "height": 0
    },
    "id": "yrQEefVSdecX",
    "outputId": "b94766bf-7cde-4eaa-d5a7-ba5c1a78f382"
   },
   "outputs": [
    {
     "name": "stdout",
     "output_type": "stream",
     "text": [
      "[2.   3.25 2.5  2.75 3.  ]\n",
      "3.25\n"
     ]
    }
   ],
   "source": [
    "x = np.linspace(2,3,5)\n",
    "x[1] += 1\n",
    "print(x)\n",
    "print(x[1])"
   ]
  },
  {
   "cell_type": "markdown",
   "metadata": {
    "id": "XK3fiuQXfoxd"
   },
   "source": [
    "**Task-1b**\n",
    "\n",
    "Arange was used to generate the vector. Arange has a starting point, an ending point and length of the step taken from starting point to reach the ending point. \n",
    "\n",
    "The endpoint was mathematically calculated from the shape of vector x."
   ]
  },
  {
   "cell_type": "code",
   "execution_count": 5,
   "metadata": {
    "colab": {
     "base_uri": "https://localhost:8080/",
     "height": 0
    },
    "id": "qwjuIhwPdku1",
    "outputId": "1f1bf42e-4892-43b1-e0e5-3b5ded6961ad"
   },
   "outputs": [
    {
     "name": "stdout",
     "output_type": "stream",
     "text": [
      "[ 4  6  8 10 12]\n"
     ]
    }
   ],
   "source": [
    "end_point = 4 + 2 * x.shape[0]\n",
    "y = np.arange(4, end_point, 2)\n",
    "print(y)"
   ]
  },
  {
   "cell_type": "markdown",
   "metadata": {
    "id": "SXSG6R0ehgO9"
   },
   "source": [
    "**Task-1c**\n",
    "\n",
    "The arrays were combined in a list to from a matrix. For the ones row, np.ones was used to generate a vectors of ones. The list was then conveted to a numpy array."
   ]
  },
  {
   "cell_type": "code",
   "execution_count": 6,
   "metadata": {
    "colab": {
     "base_uri": "https://localhost:8080/",
     "height": 0
    },
    "id": "6wjAJmLeg1Vm",
    "outputId": "5f432c18-fd10-43f4-badf-8ad01423c095"
   },
   "outputs": [
    {
     "name": "stdout",
     "output_type": "stream",
     "text": [
      "[[ 2.    3.25  2.5   2.75  3.  ]\n",
      " [ 1.    1.    1.    1.    1.  ]\n",
      " [ 4.    6.    8.   10.   12.  ]]\n"
     ]
    }
   ],
   "source": [
    "A = np.array([x,np.ones(5),y])\n",
    "print(A)"
   ]
  },
  {
   "cell_type": "markdown",
   "metadata": {
    "id": "YmiwNoOhiLHd"
   },
   "source": [
    "**Task-1d**\n",
    "\n",
    "The np.mean function calcuates the mean of a numpy array. The axis = 0 indicates column-wise mean of the matrix."
   ]
  },
  {
   "cell_type": "code",
   "execution_count": 7,
   "metadata": {
    "colab": {
     "base_uri": "https://localhost:8080/",
     "height": 0
    },
    "id": "iS_cJSJCg_FF",
    "outputId": "e7825b48-fe3a-4fcd-a745-bd907b551028"
   },
   "outputs": [
    {
     "name": "stdout",
     "output_type": "stream",
     "text": [
      "[2.33333333 3.41666667 3.83333333 4.58333333 5.33333333]\n"
     ]
    }
   ],
   "source": [
    "z = np.mean(A, axis = 0)\n",
    "print(z)"
   ]
  },
  {
   "cell_type": "markdown",
   "metadata": {
    "id": "nAb_zimcjAC8"
   },
   "source": [
    "**Task-1e**\n",
    "\n",
    "The np.sum function sums along a row or column. Axis=1 indicates row-wise summation."
   ]
  },
  {
   "cell_type": "code",
   "execution_count": 8,
   "metadata": {
    "colab": {
     "base_uri": "https://localhost:8080/",
     "height": 0
    },
    "id": "GEDvq3yHiJE1",
    "outputId": "50e64974-ca1c-43eb-d96b-3449bcf7d693"
   },
   "outputs": [
    {
     "name": "stdout",
     "output_type": "stream",
     "text": [
      "[13.5  5.  40. ]\n"
     ]
    }
   ],
   "source": [
    "zz = np.sum(A, axis = 1)\n",
    "print(zz)"
   ]
  },
  {
   "cell_type": "markdown",
   "metadata": {
    "id": "opy_ZJ22jjOV"
   },
   "source": [
    "# **Task-2**"
   ]
  },
  {
   "cell_type": "markdown",
   "metadata": {
    "id": "UDa7SdXdjpvF"
   },
   "source": [
    "**Task-2a**\n",
    "\n",
    "The matrices were made by creating a list of lists and then converting them to numpy arrays. \n",
    "\n",
    "The matrices were then added and subtracted from each other."
   ]
  },
  {
   "cell_type": "code",
   "execution_count": 9,
   "metadata": {
    "colab": {
     "base_uri": "https://localhost:8080/",
     "height": 0
    },
    "id": "W7bAr4SZjGkr",
    "outputId": "9a6b2452-adbc-43ff-f2ed-254ee88e7512"
   },
   "outputs": [
    {
     "name": "stdout",
     "output_type": "stream",
     "text": [
      "The value of C1 is:\n",
      "[[ 5  0]\n",
      " [-2  2]]\n",
      "The value of C2 is:\n",
      "[[-3  4]\n",
      " [10 -4]]\n"
     ]
    }
   ],
   "source": [
    "A = np.array([\n",
    "              [1,2],\n",
    "              [4,-1]\n",
    "])\n",
    "B = np.array([\n",
    "              [4,-2],\n",
    "              [-6,3]\n",
    "])\n",
    "\n",
    "C1 = A+B\n",
    "C2 = A-B\n",
    "\n",
    "print(\"The value of C1 is:\")\n",
    "print(C1)\n",
    "print(\"The value of C2 is:\")\n",
    "print(C2)"
   ]
  },
  {
   "cell_type": "markdown",
   "metadata": {
    "id": "xayyNbhhka12"
   },
   "source": [
    "**Task-2b**\n",
    "\n",
    "The np.dot function was used to do matrix multiplication."
   ]
  },
  {
   "cell_type": "code",
   "execution_count": 10,
   "metadata": {
    "colab": {
     "base_uri": "https://localhost:8080/",
     "height": 0
    },
    "id": "qib0V1DPkebb",
    "outputId": "72df5aa9-ce1a-4911-fa45-085d340e0396"
   },
   "outputs": [
    {
     "name": "stdout",
     "output_type": "stream",
     "text": [
      "The value of D1 is:\n",
      "[[ -8   4]\n",
      " [ 22 -11]]\n",
      "The value of D2 is:\n",
      "[[ -4  10]\n",
      " [  6 -15]]\n"
     ]
    }
   ],
   "source": [
    "D1 = np.dot(A,B)\n",
    "D2 = np.dot(B,A)\n",
    "print(\"The value of D1 is:\")\n",
    "print(D1)\n",
    "print(\"The value of D2 is:\")\n",
    "print(D2)"
   ]
  },
  {
   "cell_type": "markdown",
   "metadata": {
    "id": "BJrCV_8jl1fN"
   },
   "source": [
    "**Task-2c**\n",
    "\n",
    "The np.multiply function performs element-wise multiplication"
   ]
  },
  {
   "cell_type": "code",
   "execution_count": 11,
   "metadata": {
    "colab": {
     "base_uri": "https://localhost:8080/",
     "height": 0
    },
    "id": "VM9o4rjRlG9l",
    "outputId": "9b05963a-11eb-4592-a0b5-08ce0bb308a6"
   },
   "outputs": [
    {
     "name": "stdout",
     "output_type": "stream",
     "text": [
      "[[ 5.41421356+0.j         -0.31820717+1.68179283j]\n",
      " [-1.57327232+4.42672768j  1.68392599+0.j        ]]\n"
     ]
    }
   ],
   "source": [
    "f = B + np.multiply(A, (B+0j)**(1/4))\n",
    "print(f)"
   ]
  },
  {
   "cell_type": "markdown",
   "metadata": {
    "id": "I8URLAD_l4Rl"
   },
   "source": [
    "**Task-2d**\n",
    "\n",
    "Arrays were sliced based on the given conditions and then the matrix A was updated "
   ]
  },
  {
   "cell_type": "code",
   "execution_count": 12,
   "metadata": {
    "colab": {
     "base_uri": "https://localhost:8080/",
     "height": 0
    },
    "id": "ipaZzw9OlhZT",
    "outputId": "282b8436-a7c7-4c56-fba0-5d88abb77e81"
   },
   "outputs": [
    {
     "name": "stdout",
     "output_type": "stream",
     "text": [
      "[[ 1  2]\n",
      " [ 0 -9]]\n"
     ]
    }
   ],
   "source": [
    "A[1,:] = A[1,:] - A[0,:]*4\n",
    "print(A)"
   ]
  },
  {
   "cell_type": "markdown",
   "metadata": {
    "id": "nqLLFp9MmT_Z"
   },
   "source": [
    "# **Task-3**\n",
    "\n",
    "The array was initialized with zeros and the value for each cell was calculated iteratively. \n",
    "\n",
    "\n",
    "The factorial value was also divided iteratively or else the factorials of higher values result in a number too big to be converted to float."
   ]
  },
  {
   "cell_type": "code",
   "execution_count": 13,
   "metadata": {
    "colab": {
     "base_uri": "https://localhost:8080/",
     "height": 0
    },
    "id": "SdZiTH9hmJfV",
    "outputId": "7907e4e2-68e0-4f6a-ab6f-6ef72ccb375b"
   },
   "outputs": [
    {
     "name": "stdout",
     "output_type": "stream",
     "text": [
      "[ 1.00000000e+000 -4.93480220e+000  4.05871213e+000 -1.33526277e+000\n",
      "  2.35330630e-001 -2.58068914e-002  1.92957431e-003 -1.04638105e-004\n",
      "  4.30306959e-006 -1.38789525e-007  3.60473080e-009 -7.70070713e-011\n",
      "  1.37686473e-012 -2.09063234e-014  2.72932726e-016 -3.09625062e-018\n",
      "  3.08052104e-020 -2.70976150e-022  2.12256143e-024 -1.48996029e-026\n",
      "  9.42648628e-029 -5.40276948e-031  2.81835082e-033 -1.34376848e-035\n",
      "  5.87875148e-038 -2.36820210e-040  8.81343058e-043 -3.03931073e-045\n",
      "  9.73921902e-048 -2.90750874e-050  8.10620369e-053 -2.11541575e-055\n",
      "  5.17815391e-058 -1.19128976e-060  2.58067573e-063 -5.27334339e-066\n",
      "  1.01811059e-068 -1.86011639e-071  3.22080928e-074 -5.29272618e-077\n",
      "  8.26536607e-080 -1.22818268e-082  1.73862265e-085 -2.34740326e-088\n",
      "  3.02611566e-091 -3.72865973e-094  4.39565175e-097 -4.96263371e-100\n",
      "  5.37052977e-103 -5.57595248e-106  5.55883284e-109 -5.32551748e-112\n",
      "  4.90671684e-115 -4.35106506e-118  3.71610340e-121 -3.05892164e-124\n",
      "  2.42843842e-127 -1.86055943e-130  1.37653564e-133 -9.84054922e-137\n",
      "  6.80128347e-140 -4.54721428e-143  2.94251286e-146 -1.84390082e-149\n",
      "  1.11949875e-152 -6.58855680e-156  3.76049324e-159 -2.08251491e-162\n",
      "  1.11947703e-165 -5.84406825e-169  2.96395898e-172 -1.46104798e-175\n",
      "  7.00270276e-179 -3.26470978e-182  1.48103484e-185 -6.54014675e-189\n",
      "  2.81233274e-192 -1.17802443e-195  4.80836853e-199 -1.91311357e-202\n",
      "  7.42204171e-206 -2.80855055e-209  1.03693262e-212 -3.73644205e-216\n",
      "  1.31441420e-219 -4.51540140e-223  1.51520555e-226 -4.96793546e-230\n",
      "  1.59193369e-233 -4.98690909e-237  1.52758597e-240 -4.57673158e-244\n",
      "  1.34148640e-247 -3.84770128e-251  1.08019369e-254 -2.96883443e-258\n",
      "  7.99007999e-262 -2.10616230e-265  5.43877254e-269 -1.37616094e-272\n",
      "  3.41260403e-276]\n",
      "The sum is: -1.0\n"
     ]
    }
   ],
   "source": [
    "a = np.zeros((101))     #Initializing the vector a\n",
    "sum = 0                 #Initializing the sum\n",
    "for n in range(101):\n",
    "  num = ((-1)**n) * (np.pi**(2*n))\n",
    "  for fac in range(2, (2*n + 1)): #Performing factorial and dividing it\n",
    "    num = num/fac\n",
    "  a[n] = num\n",
    "  sum += num\n",
    "print(a)\n",
    "print(\"The sum is:\", sum)"
   ]
  },
  {
   "cell_type": "markdown",
   "metadata": {
    "id": "wrGT7b6T4qI8"
   },
   "source": [
    "# **Task-4**"
   ]
  },
  {
   "cell_type": "markdown",
   "metadata": {
    "id": "q5w9aDdd4vRj"
   },
   "source": [
    "**Task-4a**\n",
    "\n",
    "The clip function keeps values within particular threshold. The min = 0 attribute means that any value lesser than zero will be changed to zero."
   ]
  },
  {
   "cell_type": "code",
   "execution_count": 14,
   "metadata": {
    "colab": {
     "base_uri": "https://localhost:8080/",
     "height": 0
    },
    "id": "_Fq1I-kumTXh",
    "outputId": "9b09e488-29b7-4235-c383-55e5d41929ab"
   },
   "outputs": [
    {
     "name": "stdout",
     "output_type": "stream",
     "text": [
      "[7 6 1 2 0 0 4 3 0 0]\n"
     ]
    }
   ],
   "source": [
    "x = np.array([7,6,1,2,0,-1,4,3,-2,0])\n",
    "x = x.clip(min = 0)\n",
    "print(x)"
   ]
  },
  {
   "cell_type": "markdown",
   "metadata": {
    "id": "LR8YpY9l5St-"
   },
   "source": [
    "**Task-4b**\n",
    "\n",
    "Putting conditions within an array's index will return the array meeting that condition"
   ]
  },
  {
   "cell_type": "code",
   "execution_count": 15,
   "metadata": {
    "colab": {
     "base_uri": "https://localhost:8080/",
     "height": 0
    },
    "id": "IOPcLh8O6AOr",
    "outputId": "12016d09-e56d-4dbe-fc59-b1b366b4a3e3"
   },
   "outputs": [
    {
     "name": "stdout",
     "output_type": "stream",
     "text": [
      "[7 6 4]\n"
     ]
    }
   ],
   "source": [
    "y = x[x>3]\n",
    "print(y)"
   ]
  },
  {
   "cell_type": "markdown",
   "metadata": {
    "id": "50R4CY4G6maf"
   },
   "source": [
    "**Task-4c**\n",
    "\n",
    "The np.where is used to perform an if-statement on a numpy array."
   ]
  },
  {
   "cell_type": "code",
   "execution_count": 16,
   "metadata": {
    "colab": {
     "base_uri": "https://localhost:8080/",
     "height": 0
    },
    "id": "w0aL5Ik16ubl",
    "outputId": "2f82bd21-099e-4db0-9c60-50cb3ff11a51"
   },
   "outputs": [
    {
     "name": "stdout",
     "output_type": "stream",
     "text": [
      "[7 9 1 5 3 3 7 3 3 3]\n"
     ]
    }
   ],
   "source": [
    "x = np.where(x%2 == 0,x+3, x )\n",
    "print(x)"
   ]
  },
  {
   "cell_type": "markdown",
   "metadata": {
    "id": "URM3MONR6pLr"
   },
   "source": [
    "**Task-4d**\n",
    "\n",
    "Here, np.mean was nested in a np.where function."
   ]
  },
  {
   "cell_type": "code",
   "execution_count": 17,
   "metadata": {
    "colab": {
     "base_uri": "https://localhost:8080/",
     "height": 0
    },
    "id": "O7mxMCue7Cyf",
    "outputId": "338c7ea8-c69d-4e23-c1a7-87be0e16903e"
   },
   "outputs": [
    {
     "name": "stdout",
     "output_type": "stream",
     "text": [
      "[7 9 0 5 0 0 7 0 0 0]\n"
     ]
    }
   ],
   "source": [
    "x = np.where(x<np.mean(x),0, x)\n",
    "print(x)"
   ]
  },
  {
   "cell_type": "markdown",
   "metadata": {
    "id": "-PYQiv6D6ruL"
   },
   "source": [
    "**Task-4e**\n",
    "\n",
    "If condition is met, we set the number to difference of the number and mean or else we keep the number unchanged."
   ]
  },
  {
   "cell_type": "code",
   "execution_count": 18,
   "metadata": {
    "colab": {
     "base_uri": "https://localhost:8080/"
    },
    "id": "-wvB4waF7Qlc",
    "outputId": "93845af4-4ba6-4874-da8d-50170673953c"
   },
   "outputs": [
    {
     "name": "stdout",
     "output_type": "stream",
     "text": [
      "[4.2 6.2 0.  2.2 0.  0.  4.2 0.  0.  0. ]\n"
     ]
    }
   ],
   "source": [
    "x = np.where(x>np.mean(x),x-np.mean(x), x)\n",
    "print(x)"
   ]
  },
  {
   "cell_type": "markdown",
   "metadata": {
    "id": "dQEINyw5oz2t"
   },
   "source": [
    "#**Task-5**\n",
    "\n",
    "We use matplotlib to plot the graphs. A set of points for the x-axis was taken and the corresponding function for the y-axis values was performed.\n",
    "\n",
    "Finally, the plot function was used taking the x and y axis points as arguments. The title was changed and the axes were labelled appropriately."
   ]
  },
  {
   "cell_type": "code",
   "execution_count": 20,
   "metadata": {
    "colab": {
     "base_uri": "https://localhost:8080/",
     "height": 312
    },
    "id": "WBBd5heGo7fb",
    "outputId": "acbbcc50-3547-4e55-ef09-cada6baf4100"
   },
   "outputs": [
    {
     "data": {
      "text/plain": [
       "Text(0, 0.5, 'Y-Axis')"
      ]
     },
     "execution_count": 20,
     "metadata": {},
     "output_type": "execute_result"
    },
    {
     "data": {
      "image/png": "[encoded data removed]",
      "text/plain": [
       "<Figure size 432x288 with 1 Axes>"
      ]
     },
     "metadata": {
      "needs_background": "light"
     },
     "output_type": "display_data"
    }
   ],
   "source": [
    "x = np.linspace(0,5, 100)\n",
    "y = x\n",
    "plt.plot(x, y)\n",
    "plt.title(\"Identity Function\")\n",
    "plt.xlabel(\"X-Axis\")\n",
    "plt.ylabel(\"Y-Axis\")"
   ]
  },
  {
   "cell_type": "code",
   "execution_count": 21,
   "metadata": {
    "colab": {
     "base_uri": "https://localhost:8080/",
     "height": 312
    },
    "id": "g_aAJWAK8QI0",
    "outputId": "27b8fdcb-1532-4e65-f895-e44e2a103646"
   },
   "outputs": [
    {
     "data": {
      "text/plain": [
       "Text(0, 0.5, 'Y-Axis')"
      ]
     },
     "execution_count": 21,
     "metadata": {},
     "output_type": "execute_result"
    },
    {
     "data": {
      "image/png": "[encoded data removed]",
      "text/plain": [
       "<Figure size 432x288 with 1 Axes>"
      ]
     },
     "metadata": {
      "needs_background": "light"
     },
     "output_type": "display_data"
    }
   ],
   "source": [
    "x = np.linspace(0,5, 100)\n",
    "y = x**3\n",
    "plt.plot(x, y)\n",
    "plt.title(\"Cubic Function\")\n",
    "plt.xlabel(\"X-Axis\")\n",
    "plt.ylabel(\"Y-Axis\")"
   ]
  },
  {
   "cell_type": "code",
   "execution_count": 22,
   "metadata": {
    "colab": {
     "base_uri": "https://localhost:8080/",
     "height": 312
    },
    "id": "y8eJS3uio9KF",
    "outputId": "3d11f094-28f4-496f-f6a0-dfa7672e1c10"
   },
   "outputs": [
    {
     "data": {
      "text/plain": [
       "Text(0, 0.5, 'Y-Axis')"
      ]
     },
     "execution_count": 22,
     "metadata": {},
     "output_type": "execute_result"
    },
    {
     "data": {
      "image/png": "[encoded data removed]",
      "text/plain": [
       "<Figure size 432x288 with 1 Axes>"
      ]
     },
     "metadata": {
      "needs_background": "light"
     },
     "output_type": "display_data"
    }
   ],
   "source": [
    "x = np.linspace(0,5, 100)\n",
    "y = np.exp(x)\n",
    "plt.plot(x, y)\n",
    "plt.title(\"Exponential Function\")\n",
    "plt.xlabel(\"X-Axis\")\n",
    "plt.ylabel(\"Y-Axis\")"
   ]
  },
  {
   "cell_type": "code",
   "execution_count": 23,
   "metadata": {
    "colab": {
     "base_uri": "https://localhost:8080/",
     "height": 312
    },
    "id": "PWVcYdGQ8eNc",
    "outputId": "d931104b-7597-48bd-eb44-fcbac15f0012"
   },
   "outputs": [
    {
     "data": {
      "text/plain": [
       "Text(0, 0.5, 'Y-Axis')"
      ]
     },
     "execution_count": 23,
     "metadata": {},
     "output_type": "execute_result"
    },
    {
     "data": {
      "image/png": "[encoded data removed]",
      "text/plain": [
       "<Figure size 432x288 with 1 Axes>"
      ]
     },
     "metadata": {
      "needs_background": "light"
     },
     "output_type": "display_data"
    }
   ],
   "source": [
    "x = np.linspace(0,5, 100)\n",
    "y = np.exp(x**2)\n",
    "plt.plot(x, y)\n",
    "plt.title(\"Exponential Square Function\")\n",
    "plt.xlabel(\"X-Axis\")\n",
    "plt.ylabel(\"Y-Axis\")"
   ]
  },
  {
   "cell_type": "markdown",
   "metadata": {
    "id": "k0QMTtIR8my7"
   },
   "source": [
    "# **Task-6**"
   ]
  },
  {
   "cell_type": "code",
   "execution_count": 24,
   "metadata": {
    "colab": {
     "base_uri": "https://localhost:8080/",
     "height": 312
    },
    "id": "KdKYSbWlpb9F",
    "outputId": "e1c3d557-cf47-4d05-b10b-6814e0f097bc"
   },
   "outputs": [
    {
     "data": {
      "text/plain": [
       "Text(0, 0.5, 'Y-Axis')"
      ]
     },
     "execution_count": 24,
     "metadata": {},
     "output_type": "execute_result"
    },
    {
     "data": {
      "image/png": "[encoded data removed]",
      "text/plain": [
       "<Figure size 432x288 with 1 Axes>"
      ]
     },
     "metadata": {
      "needs_background": "light"
     },
     "output_type": "display_data"
    }
   ],
   "source": [
    "n = np.linspace(-10,10, 100)\n",
    "omega = np.pi/6\n",
    "theta = np.pi/3\n",
    "A = 10\n",
    "y = A*np.cos(omega*n + theta)\n",
    "plt.plot(n, y)\n",
    "plt.title(\"Discrete-Time Sinusoidal Signal\")\n",
    "plt.xlabel(\"X-Axis\")\n",
    "plt.ylabel(\"Y-Axis\")"
   ]
  },
  {
   "cell_type": "markdown",
   "metadata": {
    "id": "VqqYFKWqAeA6"
   },
   "source": [
    "# **Task-7**\n",
    "\n",
    "A function has been defined with t1 and t2 as parameters. \n",
    "\n",
    "Within the function, the necessary x-axis points were taken with the corresponding y function to generate the y-axis values. \n",
    "\n",
    "Finally, a plot was created with a title and labels. "
   ]
  },
  {
   "cell_type": "markdown",
   "metadata": {
    "id": "iIl3hTEVAi3z"
   },
   "source": [
    "**Task-7a**"
   ]
  },
  {
   "cell_type": "code",
   "execution_count": 25,
   "metadata": {
    "id": "q_Umq4H7AdzU"
   },
   "outputs": [],
   "source": [
    "def population_plot(t1, t2):\n",
    "  t = np.arange(t1,t2+1,1)\n",
    "  p = 197273000/(1 + np.exp(-0.0313*(t - 1913.26)))\n",
    "  plt.plot(t, p)\n",
    "  plt.title(\"Population of the country\")\n",
    "  plt.xlabel(\"Year\")\n",
    "  plt.ylabel(\"Population\")\n",
    "  return"
   ]
  },
  {
   "cell_type": "markdown",
   "metadata": {
    "id": "w8bxhRb7CXZn"
   },
   "source": [
    "**Task-7b**\n",
    "\n",
    "The function was called with 1810 and 2013 as arguments."
   ]
  },
  {
   "cell_type": "code",
   "execution_count": 26,
   "metadata": {
    "colab": {
     "base_uri": "https://localhost:8080/",
     "height": 295
    },
    "id": "5cUq4lLp1Dnw",
    "outputId": "f3d10a7c-725b-49e8-a09c-9e21977e5748"
   },
   "outputs": [
    {
     "data": {
      "image/png": "[encoded data removed]",
      "text/plain": [
       "<Figure size 432x288 with 1 Axes>"
      ]
     },
     "metadata": {
      "needs_background": "light"
     },
     "output_type": "display_data"
    }
   ],
   "source": [
    "population_plot(1810,2013)"
   ]
  },
  {
   "cell_type": "markdown",
   "metadata": {
    "id": "QN459VG7CbAj"
   },
   "source": [
    "**Task-7c**\n",
    "\n",
    "We use the given formula to generate the y-values with the year as 2021."
   ]
  },
  {
   "cell_type": "code",
   "execution_count": 27,
   "metadata": {
    "colab": {
     "base_uri": "https://localhost:8080/",
     "height": 0
    },
    "id": "3JLoQURuCn0F",
    "outputId": "f7c6997d-c20d-49f3-f9a0-4549b8c74e3c"
   },
   "outputs": [
    {
     "name": "stdout",
     "output_type": "stream",
     "text": [
      "Population in 2021 is 190728728.107411\n"
     ]
    }
   ],
   "source": [
    "year = 2021\n",
    "p = 197273000/(1 + np.exp(-0.0313*(year - 1913.26)))\n",
    "print(\"Population in 2021 is\", p)"
   ]
  },
  {
   "cell_type": "markdown",
   "metadata": {
    "id": "5Ik6TBH2DqWS"
   },
   "source": [
    "# **Task-8**\n",
    "\n",
    "The diagflat function was used to create diagonals. \n",
    "\n",
    "The second argument 1 means the diagonal above the main diagonal and -1 means the diagonal below the main diagonal. \n",
    "\n",
    "Finally, the diagonal matrices were combined and the corners were changed to 1."
   ]
  },
  {
   "cell_type": "code",
   "execution_count": 28,
   "metadata": {
    "colab": {
     "base_uri": "https://localhost:8080/",
     "height": 0
    },
    "id": "1hp5c0coDppD",
    "outputId": "1c9f586b-4d4e-4e2f-ff42-d4b49e376f45"
   },
   "outputs": [
    {
     "name": "stdout",
     "output_type": "stream",
     "text": [
      "[[-2.  1.  0.  0.  0.  0.  0.  0.  0.  0.  0.  0.  0.  0.  0.  1.]\n",
      " [ 1. -2.  1.  0.  0.  0.  0.  0.  0.  0.  0.  0.  0.  0.  0.  0.]\n",
      " [ 0.  1. -2.  1.  0.  0.  0.  0.  0.  0.  0.  0.  0.  0.  0.  0.]\n",
      " [ 0.  0.  1. -2.  1.  0.  0.  0.  0.  0.  0.  0.  0.  0.  0.  0.]\n",
      " [ 0.  0.  0.  1. -2.  1.  0.  0.  0.  0.  0.  0.  0.  0.  0.  0.]\n",
      " [ 0.  0.  0.  0.  1. -2.  1.  0.  0.  0.  0.  0.  0.  0.  0.  0.]\n",
      " [ 0.  0.  0.  0.  0.  1. -2.  1.  0.  0.  0.  0.  0.  0.  0.  0.]\n",
      " [ 0.  0.  0.  0.  0.  0.  1. -2.  1.  0.  0.  0.  0.  0.  0.  0.]\n",
      " [ 0.  0.  0.  0.  0.  0.  0.  1. -2.  1.  0.  0.  0.  0.  0.  0.]\n",
      " [ 0.  0.  0.  0.  0.  0.  0.  0.  1. -2.  1.  0.  0.  0.  0.  0.]\n",
      " [ 0.  0.  0.  0.  0.  0.  0.  0.  0.  1. -2.  1.  0.  0.  0.  0.]\n",
      " [ 0.  0.  0.  0.  0.  0.  0.  0.  0.  0.  1. -2.  1.  0.  0.  0.]\n",
      " [ 0.  0.  0.  0.  0.  0.  0.  0.  0.  0.  0.  1. -2.  1.  0.  0.]\n",
      " [ 0.  0.  0.  0.  0.  0.  0.  0.  0.  0.  0.  0.  1. -2.  1.  0.]\n",
      " [ 0.  0.  0.  0.  0.  0.  0.  0.  0.  0.  0.  0.  0.  1. -2.  1.]\n",
      " [ 1.  0.  0.  0.  0.  0.  0.  0.  0.  0.  0.  0.  0.  0.  1. -2.]]\n"
     ]
    }
   ],
   "source": [
    "d1 = np.diagflat(np.ones(15), 1)\n",
    "d2 = np.diagflat(np.repeat(-2,16), 0)\n",
    "d3 = np.diagflat(np.ones(15), -1)\n",
    "D = d1 + d3 + d2\n",
    "D[15,0] = 1\n",
    "D[0,15] = 1\n",
    "print(D)"
   ]
  }
 ],
 "metadata": {
  "colab": {
   "collapsed_sections": [],
   "name": "180041120_DSP_Lab01.ipynb",
   "provenance": []
  },
  "kernelspec": {
   "display_name": "Python 3",
   "language": "python",
   "name": "python3"
  },
  "language_info": {
   "codemirror_mode": {
    "name": "ipython",
    "version": 3
   },
   "file_extension": ".py",
   "mimetype": "text/x-python",
   "name": "python",
   "nbconvert_exporter": "python",
   "pygments_lexer": "ipython3",
   "version": "3.8.8"
  }
 },
 "nbformat": 4,
 "nbformat_minor": 1
}
