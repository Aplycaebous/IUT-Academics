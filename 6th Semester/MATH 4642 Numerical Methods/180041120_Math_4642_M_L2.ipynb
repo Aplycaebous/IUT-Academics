{
  "nbformat": 4,
  "nbformat_minor": 0,
  "metadata": {
    "colab": {
      "name": "180041120_MATH4642_Lab2.ipynb",
      "provenance": [],
      "collapsed_sections": []
    },
    "kernelspec": {
      "name": "python3",
      "display_name": "Python 3"
    },
    "language_info": {
      "name": "python"
    }
  },
  "cells": [
    {
      "cell_type": "markdown",
      "metadata": {
        "id": "SChhcgB_Tkv9"
      },
      "source": [
        "# **Lab 2 : False Position and Secant method**<br>\n",
        "\n",
        "The False Position method is one of the methods of finding roots of a non-linear function. Similar to the Bisection method, it falls under the category of **Bracketing methods** since the initial boundary guesses, x<sub>l</sub> and x<sub>u</sub>, must bracket the actual root. And the assumption here is that the function is real continuous, otherwise the False position method wouldn't work. The main difference between the Bisection method and False position method is that it takes advantage of the fact that one of the boundary values, either x<sub>l</sub> or x<sub>u</sub>, would have their functional value be closer to the zero of the function, and this would result in the new estimation x<sub>r</sub> be closer to one of the bracketing values than the mid-point x<sub>m</sub>.\n",
        "\n",
        "In today's lab, we will be implementing the False position method in python. Just like in the previous lab for Bisection method, we will be considering the function f(x) as an array of coefficients, for instance if we want to have f(x) = x<sup>3</sup>+x-2, then in python we will create an array as follows:\n"
      ]
    },
    {
      "cell_type": "code",
      "metadata": {
        "id": "rZ4tGQSjTvYF"
      },
      "source": [
        "f = [1,0,1,-2]"
      ],
      "execution_count": 2,
      "outputs": []
    },
    {
      "cell_type": "markdown",
      "metadata": {
        "id": "E4vSfOrrTwlc"
      },
      "source": [
        "Note that your implementation should be able to handle the array f of any size,which means it should be able to find the root of any given polynomial. But for testing purposes, you can use the array f given here.\n",
        "\n",
        "Next, you will need to create a user-defined function as follows\n",
        "```\n",
        "func(f, x)\n",
        "```\n",
        "This function will take the coefficent array f and a point x as input and evaluate the value of the function at that point x using a loop and return that value. This function will be called in the other function that you will implement, which is as follows:\n",
        "```\n",
        "falseposition(f, xl, xu, epsilon)\n",
        "```\n",
        "This function will return the root of the equation represented by the array f and in case it does not reach the root exactly then it will return the close enough value to the root that has an absolute relative approximate error of at most epsilon (%)."
      ]
    },
    {
      "cell_type": "markdown",
      "metadata": {
        "id": "3sOLCbqJT7q0"
      },
      "source": [
        "##Task 1\n",
        "Implement the function for False position method following the requirements set earlier. Write a script after the function to call it and test whether it is working correctly. For the function given above, there is only one real root and it is 1."
      ]
    },
    {
      "cell_type": "code",
      "source": [
        "# Write a function to return the value of the polynomial at the point x\n",
        "def func(f, x):\n",
        "  degree = len(f)\n",
        "  val = 0\n",
        "  for i in range(degree):\n",
        "    val += (f[i]*(pow(x,(degree-(i+1)))))\n",
        "  return val"
      ],
      "metadata": {
        "id": "Or0m3Rpb1VHu"
      },
      "execution_count": 1,
      "outputs": []
    },
    {
      "cell_type": "code",
      "source": [
        "def calError(xnew, xold):\n",
        "  val = abs(xnew - xold)\n",
        "  #val = val/xnew\n",
        "  #val = val*100.0\n",
        "  return val"
      ],
      "metadata": {
        "id": "VtPds1Ie1unu"
      },
      "execution_count": 10,
      "outputs": []
    },
    {
      "cell_type": "code",
      "source": [
        "def calcFalse(f, xl, xu):\n",
        "  fxl = func(f, xl)\n",
        "  fxu = func(f, xu)\n",
        "  xr = (fxl*xu - fxu*xl)/(fxl - fxu)\n",
        "  return xr"
      ],
      "metadata": {
        "id": "WoZEhEgn4EM9"
      },
      "execution_count": 11,
      "outputs": []
    },
    {
      "cell_type": "code",
      "metadata": {
        "id": "f6HGUB7nT9k9",
        "colab": {
          "base_uri": "https://localhost:8080/"
        },
        "outputId": "a0bf4089-eee2-4d74-dd97-18582e44e5a7"
      },
      "source": [
        "#Complete the following function\n",
        "\n",
        "def falseposition(f, xl, xu, epsilon):\n",
        "  rootListFalse = []\n",
        "  errorListFalse = []\n",
        "  #write your implementation here\n",
        "  xr = calcFalse(f, xl, xu)\n",
        "  rootListFalse.append(xr) \n",
        "  error = 1000\n",
        "  while error>epsilon: \n",
        "    \n",
        "    if func(f, xl)*func(f, xu)>0:\n",
        "      print(\"No Roots\")\n",
        "      return\n",
        "    if func(f, xl)*func(f, xr) == 0:\n",
        "      break\n",
        "    elif func(f, xl)*func(f, xr) < 0:\n",
        "      xu = xr\n",
        "    elif func(f, xl)*func(f, xr) > 0:\n",
        "      xl = xr\n",
        "    xrnew = calcFalse(f, xl, xu)\n",
        "    error = calError(xrnew, xr)\n",
        "    errorListFalse.append(error)\n",
        "    xr = xrnew\n",
        "    rootListFalse.append(xr)\n",
        "\n",
        "  return xr, rootListFalse, errorListFalse\n",
        "\n",
        "#Write a driver code here for calling the function and testing it\n",
        "rootFalse, rootListFalse, errorListFalse = falseposition(f, -4,4, 0.0005)\n",
        "print(rootFalse)"
      ],
      "execution_count": 91,
      "outputs": [
        {
          "output_type": "stream",
          "name": "stdout",
          "text": [
            "0.9979397778970376\n"
          ]
        }
      ]
    },
    {
      "cell_type": "markdown",
      "metadata": {
        "id": "Z6sc0ZNUUGNk"
      },
      "source": [
        "## Task 2\n",
        "Generate a plot of **iteration vs relative approx error (%)** for the False Position method function you implemented earlier."
      ]
    },
    {
      "cell_type": "code",
      "metadata": {
        "id": "zHadfasm8dUF",
        "colab": {
          "base_uri": "https://localhost:8080/",
          "height": 295
        },
        "outputId": "0e4138ce-3574-45ce-84e8-8eb857facd78"
      },
      "source": [
        "# Write your code for generating the graph here\n",
        "\n",
        "import numpy as np\n",
        "import matplotlib.pyplot as plt\n",
        "\n",
        "valFalse = [error*100 for error in errorListFalse]\n",
        "\n",
        "plt.plot(valFalse)\n",
        "plt.title(\"Iterations vs Relative Approximate Error % Plot\")\n",
        "plt.xlabel(\"Iteration\")\n",
        "plt.ylabel(\"Relative Approximate Error %\")\n",
        "plt.show()"
      ],
      "execution_count": 92,
      "outputs": [
        {
          "output_type": "display_data",
          "data": {
            "image/png": "[encoded data removed]",
            "text/plain": [
              "<Figure size 432x288 with 1 Axes>"
            ]
          },
          "metadata": {
            "needs_background": "light"
          }
        }
      ]
    },
    {
      "cell_type": "markdown",
      "metadata": {
        "id": "t1yWM5V18cA2"
      },
      "source": [
        "# **Secant method**\n",
        "The Secant method is another method of finding roots of a nonlinear function. Unlike the Bisection and False position method, it falls under the category of **Open methods** due to the fact that we only need two initial guesses that do not have to bracket the actual root. Secant method works by approximating the derivative that is used in **Newton Raphson method**."
      ]
    },
    {
      "cell_type": "markdown",
      "metadata": {
        "id": "rcyU1bzM9u3g"
      },
      "source": [
        "## Task 3\n",
        "Implement the Secant method for the above function and write a script for testing its implementation. The actual root is 1, and you can take the initial guesses for the secant as 2 and 2.2."
      ]
    },
    {
      "cell_type": "code",
      "source": [
        "def cal_next(f, xi, xi_prev):\n",
        "  fxi = func(f, xi)\n",
        "  fxi_prev = func(f, xi_prev)\n",
        "  x_new = xi - (fxi*(xi - xi_prev))/(fxi-fxi_prev)\n",
        "  return x_new"
      ],
      "metadata": {
        "id": "UiUYgLe87Yc8"
      },
      "execution_count": 93,
      "outputs": []
    },
    {
      "cell_type": "code",
      "metadata": {
        "id": "HcPhTbIu_sn4",
        "colab": {
          "base_uri": "https://localhost:8080/"
        },
        "outputId": "fe8d9ca6-21b7-4fb2-fda6-2d535b240445"
      },
      "source": [
        "Xi = 2\n",
        "Xi_prev = 2.2\n",
        "epsilon = 0.0005\n",
        "\n",
        "\n",
        "# Complete the following function\n",
        "def secant(f, Xi, Xi_prev, epsilon):\n",
        "  rootList = []\n",
        "  errorList = []\n",
        "  #write your implementation here\n",
        "  #Xi_next = cal_next(f, Xi, Xi_prev)\n",
        "  #rootList.append(Xi_next) \n",
        "  error = 1000\n",
        "  while error>epsilon: \n",
        "    Xi_next = cal_next(f, Xi, Xi_prev)\n",
        "    error = calError(Xi_next, Xi)\n",
        "    errorList.append(error)\n",
        "    Xi = Xi_next\n",
        "    rootList.append(Xi)\n",
        "\n",
        "  return Xi, rootList, errorList, \n",
        "\n",
        "# Write a script here for calling the above function\n",
        "rootSec, rootListSec, errorListSec = secant(f, Xi, Xi_prev, epsilon)\n",
        "print(rootSec)"
      ],
      "execution_count": 94,
      "outputs": [
        {
          "output_type": "stream",
          "name": "stdout",
          "text": [
            "1.0005725923953575\n"
          ]
        }
      ]
    },
    {
      "cell_type": "code",
      "source": [
        "# Write your code for generating the graph here\n",
        "\n",
        "import numpy as np\n",
        "import matplotlib.pyplot as plt\n",
        "\n",
        "valSec = [error*100 for error in errorListSec]\n",
        "\n",
        "plt.plot(valSec)\n",
        "plt.title(\"Iterations vs Relative Approximate Error % Plot\")\n",
        "plt.xlabel(\"Iteration\")\n",
        "plt.ylabel(\"Relative Approximate Error %\")\n",
        "plt.show()"
      ],
      "metadata": {
        "colab": {
          "base_uri": "https://localhost:8080/",
          "height": 295
        },
        "id": "kpIbMy_0C82z",
        "outputId": "fdb17fe3-092a-4295-b0a5-120cfb255c2a"
      },
      "execution_count": 95,
      "outputs": [
        {
          "output_type": "display_data",
          "data": {
            "image/png": "[encoded data removed]",
            "text/plain": [
              "<Figure size 432x288 with 1 Axes>"
            ]
          },
          "metadata": {
            "needs_background": "light"
          }
        }
      ]
    },
    {
      "cell_type": "markdown",
      "source": [
        "## Task 4\n",
        "Plot the **iteration vs absolute relative approximate error (%)** curves for both False position method and Secant method in the same graph and see which one converges faster."
      ],
      "metadata": {
        "id": "8lJg-fOvDMC-"
      }
    },
    {
      "cell_type": "code",
      "source": [
        "import numpy as np\n",
        "import matplotlib.pyplot as plt\n",
        "\n",
        "valSec = [error*100 for error in errorListSec]\n",
        "\n",
        "plt.plot(valSec, \"r\", label = 'Secant')\n",
        "plt.plot(valFalse, \"b\", label = 'False Position')\n",
        "plt.title(\"Iterations vs Relative Approximate Error % Plot\")\n",
        "plt.xlabel(\"Iteration\")\n",
        "plt.ylabel(\"Relative Approximate Error %\")\n",
        "plt.legend()\n",
        "plt.show()"
      ],
      "metadata": {
        "colab": {
          "base_uri": "https://localhost:8080/",
          "height": 295
        },
        "id": "a-HX22wA9kxs",
        "outputId": "c8c89b87-5df7-49ba-ebf5-4806f2bfb81d"
      },
      "execution_count": 96,
      "outputs": [
        {
          "output_type": "display_data",
          "data": {
            "image/png": "[encoded data removed]",
            "text/plain": [
              "<Figure size 432x288 with 1 Axes>"
            ]
          },
          "metadata": {
            "needs_background": "light"
          }
        }
      ]
    }
  ]
}