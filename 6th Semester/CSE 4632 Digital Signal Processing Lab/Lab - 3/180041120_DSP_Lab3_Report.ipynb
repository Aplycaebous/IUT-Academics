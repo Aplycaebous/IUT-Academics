{
  "nbformat": 4,
  "nbformat_minor": 0,
  "metadata": {
    "colab": {
      "name": "180041120_DSP_Lab3_Report.ipynb",
      "provenance": [],
      "collapsed_sections": []
    },
    "kernelspec": {
      "name": "python3",
      "display_name": "Python 3"
    },
    "language_info": {
      "name": "python"
    }
  },
  "cells": [
    {
      "cell_type": "markdown",
      "source": [
        "**Course Code: CSE 4632**\n",
        "\n",
        "**Course Name: Digital Signal Processing Lab**\n",
        "\n",
        "**Lab No: 3**\n",
        "\n",
        "**Name:** Md Farhan Ishmam\n",
        "\n",
        "**ID:** 180041120\n",
        "\n",
        "**Lab Group: P** "
      ],
      "metadata": {
        "id": "hdo9hJJFhS_0"
      }
    },
    {
      "cell_type": "code",
      "execution_count": null,
      "metadata": {
        "id": "OUJUi7gJsHus"
      },
      "outputs": [],
      "source": [
        "#Importing the necessary libraries\n",
        "import numpy as np\n",
        "import matplotlib.pyplot as plt\n",
        "from matplotlib import gridspec"
      ]
    },
    {
      "cell_type": "markdown",
      "source": [
        "#Task-1\n",
        "\n",
        "**Explanation:** In the `np.convolve()` function the input signal and the impulse response is passed along with `full` padding. The  `full` argument ensures that the zero padding is performed to ensure that the complete result of convolution is shown as output."
      ],
      "metadata": {
        "id": "gu20dY36sa1T"
      }
    },
    {
      "cell_type": "code",
      "source": [
        "S = np.array([1,8,0,0,4,1,1,2,0])\n",
        "H = np.array([2,0,2,1])\n",
        "output = np.convolve(S,H, 'full')"
      ],
      "metadata": {
        "id": "1_k65rj_sNzj"
      },
      "execution_count": null,
      "outputs": []
    },
    {
      "cell_type": "code",
      "source": [
        "#Producing the graph\n",
        "fig = plt.figure(figsize=(10,10))\n",
        "fig.suptitle('Convolution')\n",
        "gs  = gridspec.GridSpec(3, 1, height_ratios=[1, 1 ,1])\n",
        "a1 = plt.subplot(gs[0])\n",
        "a2 = plt.subplot(gs[1])\n",
        "a3 = plt.subplot(gs[2])\n",
        "\n",
        "a1.stem(S,use_line_collection=True)\n",
        "_ = a1.set_title('\\nOriginal Input Signal')\n",
        "\n",
        "a2.stem(H,use_line_collection=True)\n",
        "_ = a2.set_title('Impulse Response Signal')\n",
        "\n",
        "a3.stem(output,use_line_collection=True)\n",
        "_ = a3.set_title('Output Signal')"
      ],
      "metadata": {
        "colab": {
          "base_uri": "https://localhost:8080/",
          "height": 663
        },
        "id": "Wx7-HW4RslOT",
        "outputId": "a3cdcf1e-574a-429c-c1ba-b228c616b4ee"
      },
      "execution_count": null,
      "outputs": [
        {
          "output_type": "display_data",
          "data": {
            "image/png": "[encoded data removed]",
            "text/plain": [
              "<Figure size 720x720 with 3 Axes>"
            ]
          },
          "metadata": {
            "needs_background": "light"
          }
        }
      ]
    },
    {
      "cell_type": "markdown",
      "source": [
        "#Task-2\n",
        "\n",
        "**Explanation:** The inputside convolution performs multiplication of each element of the impulse with the whole input signal. The function performs full convolution. Firstly, the output array is initialized with zeros. Then the multiplication is performed and padding is added to shift the signals. Finally, all the produced signals are added and returned as the output signal."
      ],
      "metadata": {
        "id": "vGW29xpz3JjW"
      }
    },
    {
      "cell_type": "code",
      "source": [
        "def InputSideConvolution(orig, impulse):\n",
        "  # orig = input signal\n",
        "  # impulse = impulse signal\n",
        "\n",
        "  #Initializing the output array \n",
        "  out_len = len(orig) + len(impulse) - 1\n",
        "  output = np.zeros((out_len))\n",
        "\n",
        "  #Performing input side convolution and storing it in output array\n",
        "  for i in range(len(impulse)):\n",
        "    prod = orig * impulse[i]\n",
        "    mul = np.zeros((i))\n",
        "    extension = [0] * (out_len - len(mul) - len(orig)) #Padding\n",
        "    prod = np.append(prod, extension)\n",
        "    mul = np.append(mul, prod)\n",
        "    output = np.add(output, mul)\n",
        "  return np.array(output, dtype = int)"
      ],
      "metadata": {
        "id": "keB9jNyD3K4u"
      },
      "execution_count": null,
      "outputs": []
    },
    {
      "cell_type": "markdown",
      "source": [
        "#Task-3\n",
        "\n",
        "**Explanation:** The outputside convolution performs full convolution using the concept of sliding window. First, the padding is added at the beginning of the array. Then the impulse signal is flipped. Then we loop over the elements of the padded input singal and take slices of the input signal equal to the length of the impulse. This is similar to the concept of sliding window. Then elementwise multiplication is done over the slice of input signal and the impulse. Finally, the summation of the produced vector is stored in the output array. So, outputside convolution sums over the elements multiplied in a slice of input signal which is taken by sliding the input the impulse response on the padded input signal."
      ],
      "metadata": {
        "id": "wJiaeuSuvYe8"
      }
    },
    {
      "cell_type": "code",
      "source": [
        "def OutputSideConvolution(orig, impulse):\n",
        "  # orig = input signal\n",
        "  # impulse = impulse signal\n",
        "\n",
        "  n = len(impulse)\n",
        "\n",
        "  #Appending Zeros at the beginning of the array\n",
        "  appen_orig = np.flip(orig)\n",
        "  for i in range(n-1):\n",
        "    appen_orig = np.append(appen_orig,0)\n",
        "  appen_orig = np.flip(appen_orig)\n",
        "\n",
        "  #Flipping the impulse signal\n",
        "  imp_flip = np.flip(impulse)\n",
        "\n",
        "  output = []\n",
        "\n",
        "  #Looping over the elements to perform output side convolution\n",
        "  for i in range(len(appen_orig)):\n",
        "    slice_orig = appen_orig[i:i+n]\n",
        "    slice_imp = imp_flip[:len(slice_orig)]\n",
        "    val = np.sum(np.multiply(slice_orig, slice_imp))\n",
        "    output.append(val)\n",
        "  return np.array(output)"
      ],
      "metadata": {
        "id": "VcSz2E2dtODB"
      },
      "execution_count": null,
      "outputs": []
    },
    {
      "cell_type": "markdown",
      "source": [
        "#Task-4\n",
        "\n",
        "Yes, all the functions produce the same results."
      ],
      "metadata": {
        "id": "TnnokVAU8DgQ"
      }
    },
    {
      "cell_type": "code",
      "source": [
        "inputSide = InputSideConvolution(S,H)\n",
        "outputSide = OutputSideConvolution(S,H)\n",
        "convolveFunc = np.convolve(S,H, 'full')\n",
        "print(\"The result of input side algorithm is \", inputSide)\n",
        "print(\"The result of output side algorithm is \", outputSide)\n",
        "print(\"The result of convolution function is \", convolveFunc)\n",
        "\n",
        "#Checking equality of the arrays\n",
        "if np.array_equal(inputSide, outputSide) and np.array_equal(convolveFunc, outputSide):\n",
        "  print(\"Yes, the results are the same.\")\n",
        "else:\n",
        "  print(\"No, the results are different.\")"
      ],
      "metadata": {
        "colab": {
          "base_uri": "https://localhost:8080/"
        },
        "id": "KFMXrcccwPWk",
        "outputId": "0839634d-faf0-42a1-c4f6-e7fd26a9f1d2"
      },
      "execution_count": null,
      "outputs": [
        {
          "output_type": "stream",
          "name": "stdout",
          "text": [
            "The result of input side algorithm is  [ 2 16  2 17 16  2 10 10  3  5  2  0]\n",
            "The result of output side algorithm is  [ 2 16  2 17 16  2 10 10  3  5  2  0]\n",
            "The result of convolution function is  [ 2 16  2 17 16  2 10 10  3  5  2  0]\n",
            "Yes, the results are the same.\n"
          ]
        }
      ]
    },
    {
      "cell_type": "markdown",
      "source": [
        "#Task-5\n"
      ],
      "metadata": {
        "id": "YjVnX8W88IMI"
      }
    },
    {
      "cell_type": "code",
      "source": [
        "#Plotting the sine wave\n",
        "freq = 1\n",
        "amplitude = 0.1\n",
        "t = np.linspace(0,5,100)\n",
        "wave = amplitude*np.sin(2*np.pi*freq*t)\n",
        "plt.stem(wave, use_line_collection = True)\n",
        "plt.show()"
      ],
      "metadata": {
        "colab": {
          "base_uri": "https://localhost:8080/",
          "height": 265
        },
        "id": "y271jCdl8ACo",
        "outputId": "4c6179dc-3399-4e42-b534-4dd2660a182d"
      },
      "execution_count": null,
      "outputs": [
        {
          "output_type": "display_data",
          "data": {
            "image/png": "[encoded data removed]",
            "text/plain": [
              "<Figure size 432x288 with 1 Axes>"
            ]
          },
          "metadata": {
            "needs_background": "light"
          }
        }
      ]
    },
    {
      "cell_type": "code",
      "source": [
        "#Plotting the ramp\n",
        "ramp = 0.05*t - 0.1\n",
        "plt.stem(ramp, use_line_collection = True)\n",
        "plt.show()"
      ],
      "metadata": {
        "colab": {
          "base_uri": "https://localhost:8080/",
          "height": 265
        },
        "id": "pghQr0ER8hO4",
        "outputId": "14ba02fe-c342-4b9f-acb5-103cb9f68d07"
      },
      "execution_count": null,
      "outputs": [
        {
          "output_type": "display_data",
          "data": {
            "image/png": "[encoded data removed]",
            "text/plain": [
              "<Figure size 432x288 with 1 Axes>"
            ]
          },
          "metadata": {
            "needs_background": "light"
          }
        }
      ]
    },
    {
      "cell_type": "code",
      "source": [
        "#Plotting the sine wave plus ramp signal\n",
        "wave_plus_ramp = wave + ramp\n",
        "plt.stem(wave_plus_ramp, use_line_collection = True)\n",
        "plt.show()"
      ],
      "metadata": {
        "colab": {
          "base_uri": "https://localhost:8080/",
          "height": 265
        },
        "id": "9LJNwSjm8lZX",
        "outputId": "90a8cc9b-05eb-4e84-8911-703051e7db2e"
      },
      "execution_count": null,
      "outputs": [
        {
          "output_type": "display_data",
          "data": {
            "image/png": "[encoded data removed]",
            "text/plain": [
              "<Figure size 432x288 with 1 Axes>"
            ]
          },
          "metadata": {
            "needs_background": "light"
          }
        }
      ]
    },
    {
      "cell_type": "markdown",
      "source": [
        "\n",
        "**Explanation:** The low pass filter kernel is basically a moving average filter kernel. We first define the kernel as an array of `w` elements where `w` is the kernel size and each element is `1/w`. Then we perform convolution using `np.convolve()` where the padding is selected as `valid`. The `valid` padding ensures that only relevant signals are taken and the unreliable signals at the beginning and end of the array are discarded."
      ],
      "metadata": {
        "id": "lX3S3U92aCaa"
      }
    },
    {
      "cell_type": "markdown",
      "source": [
        "**Output signal should retain the ramp and discard the wave. Can you tell why?**\n",
        "\n",
        "**Ans:** The output signal will be just the ramp signal. Because the ramp is the lower frequency signal and a low pass signal only lets the lower frequency signal pass. The higher frequency signal or the sine wave has more changes i.e more frequency. When we perform moving average, the changes are cancelled out resulting in a smoother and more consistent signal like the unit ramp. That is why only the lower frequency ramp is retained after passing through a low pass filter."
      ],
      "metadata": {
        "id": "2_ZNPbaEfSOt"
      }
    },
    {
      "cell_type": "code",
      "source": [
        "def low_pass_filtering(x, w):\n",
        "  # x = input signal\n",
        "  # w = size of filter kernel\n",
        "  kernel = np.repeat(1/w , w)\n",
        "  low_pass_filtered = np.convolve(x, kernel, 'valid')\n",
        "  return low_pass_filtered\n",
        "\n",
        "low_pass_filtered = low_pass_filtering(wave_plus_ramp, 20)\n",
        "plt.stem(low_pass_filtered, use_line_collection = True)\n",
        "plt.show()"
      ],
      "metadata": {
        "colab": {
          "base_uri": "https://localhost:8080/",
          "height": 265
        },
        "id": "BIvAdB678qOn",
        "outputId": "012c6676-bb5f-4672-a00e-460119ab083e"
      },
      "execution_count": null,
      "outputs": [
        {
          "output_type": "display_data",
          "data": {
            "image/png": "[encoded data removed]",
            "text/plain": [
              "<Figure size 432x288 with 1 Axes>"
            ]
          },
          "metadata": {
            "needs_background": "light"
          }
        }
      ]
    },
    {
      "cell_type": "markdown",
      "source": [
        "#Task-6"
      ],
      "metadata": {
        "id": "sbNhFe-K9_hA"
      }
    },
    {
      "cell_type": "markdown",
      "source": [
        "**Explanation:** The high pass filter performs the opposite function, it lets the signal of higher frequency pass while cancelling out the signal with lower frequency. As per instructions, each weight of the filter is `-1/w` where w is the size of the filter. One is added to the element in the middle of the kernel. Then convolution is performed with `valid` padding."
      ],
      "metadata": {
        "id": "SITLRGbOgCJM"
      }
    },
    {
      "cell_type": "markdown",
      "source": [
        "**Output signal will discard the ramp and retain the wave. Can you tell why?**\n",
        "\n",
        "**Ans:** High pass filter only lets the signal with higher frequency pass while discarding the lower frequency signal. As the ramp is the lower frequency signal, it was discard and the sine wave being the higher frequency signal was retained. The negative weight in the filter retains the higher frequency signal and cancels out the lower frequency signal."
      ],
      "metadata": {
        "id": "uPrXO6vGgw44"
      }
    },
    {
      "cell_type": "code",
      "source": [
        "def high_pass_filtering(x, w):\n",
        "  # x = input signal\n",
        "  # w = size of filter kernel\n",
        "  kernel = np.repeat(-1/w , w)\n",
        "  idx = int(len(kernel)/2)\n",
        "  kernel[idx] = kernel[idx] + 1\n",
        "  high_pass_filtered = np.convolve(x, kernel, 'valid')\n",
        "  return high_pass_filtered \n",
        "\n",
        "high_pass_filtered = high_pass_filtering(wave_plus_ramp, 20)\n",
        "plt.stem(high_pass_filtered, use_line_collection = True)\n",
        "plt.show()"
      ],
      "metadata": {
        "colab": {
          "base_uri": "https://localhost:8080/",
          "height": 265
        },
        "id": "5sm6A7vT818n",
        "outputId": "3fe703d9-830f-4641-b55c-20f9bcc50112"
      },
      "execution_count": null,
      "outputs": [
        {
          "output_type": "display_data",
          "data": {
            "image/png": "[encoded data removed]",
            "text/plain": [
              "<Figure size 432x288 with 1 Axes>"
            ]
          },
          "metadata": {
            "needs_background": "light"
          }
        }
      ]
    }
  ]
}