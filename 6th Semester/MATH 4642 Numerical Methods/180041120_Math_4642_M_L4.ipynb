{
  "nbformat": 4,
  "nbformat_minor": 0,
  "metadata": {
    "colab": {
      "name": "180041120_Math_Lab4.ipynb",
      "provenance": [],
      "collapsed_sections": []
    },
    "kernelspec": {
      "name": "python3",
      "display_name": "Python 3"
    },
    "language_info": {
      "name": "python"
    }
  },
  "cells": [
    {
      "cell_type": "markdown",
      "source": [
        "# **Lab 4 : Nonlinear Regression**<br>\n",
        "\n",
        "Regression is the process of estimating a model that produces the best fit for the given data. The simplest method of doing this is by Linear Regression, which assumes that the data are linear in the unknown parameters. But in real life, there are many scenarios where the data is not linearly related. Any model that is not linear in the unknown parameters is known as a **Nonlinear Regression** model. There are various forms of nonlinear regression models, one of which is the exponential model, which is given as y = ae<sup>bx<sub>i</sub></sup>, where a and b are the parameters of the regression model. The values of these two parameters should be such that the produced result of ae<sup>bx<sub>i</sub></sup> should have the least deviation from the actual result. In order to measure how well our model fits the data or whether it deviates from the actual result, we use the least square criterion.\n",
        "\n",
        "In today's lab, we will be implementing the Exponential Regression model in python. To test our implementation, we will be using the same data that is available in the first example of our class lecture pdf. That way, you can check whether your implementation is working correctly by comparing with the results obtained in that example. Run the following cell to load the known data points:\n"
      ],
      "metadata": {
        "id": "Dex_lDl5gUKB"
      }
    },
    {
      "cell_type": "code",
      "source": [
        "time = [0, 1, 3, 5, 7, 9]\n",
        "gamma = [1, 0.891, 0.708, 0.562, 0.447, 0.355]"
      ],
      "metadata": {
        "id": "_QpvT2CYjART"
      },
      "execution_count": 52,
      "outputs": []
    },
    {
      "cell_type": "markdown",
      "source": [
        "##Task 1\n",
        "Assuming that the exponential model for the given data is defined as γ = Ae<sup>λt</sup>, write a function that takes the given data as input and returns the regression parameters A and λ. "
      ],
      "metadata": {
        "id": "_XU-vXFFzj4T"
      }
    },
    {
      "cell_type": "code",
      "source": [
        "from math import e\n",
        "import numpy as np\n",
        "def nonLinFunc(l):\n",
        "  x  = np.array(time)\n",
        "  y = np.array(gamma)\n",
        "  e = np.exp(l*x)\n",
        "  e2 = np.exp(2*l*x)\n",
        "\n",
        "  se2 = np.sum(np.exp(2*l*x))\n",
        "  sxe2 = np.matmul(e2, x)\n",
        "  sye = np.matmul(e,y)\n",
        "  sxye = np.matmul(e,x*y)\n",
        "\n",
        "  out = sxye - (sye/se2)*sxe2\n",
        "  return out"
      ],
      "metadata": {
        "id": "xQwScGLaa8rP"
      },
      "execution_count": 73,
      "outputs": []
    },
    {
      "cell_type": "code",
      "source": [
        "from scipy.optimize import fsolve\n",
        "def NonLinearRegression(time, gamma):\n",
        "\n",
        "  #Write your implementation here\n",
        "  x  = np.array(time)\n",
        "  y = np.array(gamma)\n",
        "  l = fsolve(nonLinFunc,0)[0]\n",
        "  A = np.sum(y * np.exp(l * x)) / np.sum(np.exp(2 * l * x))\n",
        "\n",
        "  return A, l  "
      ],
      "metadata": {
        "id": "xv0ziIB60ET8"
      },
      "execution_count": 80,
      "outputs": []
    },
    {
      "cell_type": "code",
      "source": [
        "NonLinearRegression(time, gamma)"
      ],
      "metadata": {
        "colab": {
          "base_uri": "https://localhost:8080/"
        },
        "id": "0OvGbxuFafsY",
        "outputId": "256b5102-bea0-4937-887b-a99e5033d51b"
      },
      "execution_count": 81,
      "outputs": [
        {
          "output_type": "execute_result",
          "data": {
            "text/plain": [
              "(0.9998414038717602, -0.11508304094523766)"
            ]
          },
          "metadata": {},
          "execution_count": 81
        }
      ]
    },
    {
      "cell_type": "markdown",
      "source": [
        "##Task 2\n",
        "Write another function that takes any arbitrary value as input and applies the regression model to generate the output. "
      ],
      "metadata": {
        "id": "GzKLR0nkj32g"
      }
    },
    {
      "cell_type": "code",
      "source": [
        "def calculate(t):\n",
        "  #Write your implementation here\n",
        "  A,l = NonLinearRegression(time, gamma)\n",
        "  return A*pow(e,l*t)"
      ],
      "metadata": {
        "id": "2m1trUT_k5pi"
      },
      "execution_count": 91,
      "outputs": []
    },
    {
      "cell_type": "markdown",
      "source": [
        "##Task 3\n",
        "Use the calculate function in a loop to generate a plot of the regression curve. Show the original data points (time, gamma) on the same plot using stem function. Use different colors for the regression curve and the original data points and show a legend. For this task, you are allowed to use various libraries such as matplotlib."
      ],
      "metadata": {
        "id": "HhsqLMYYpD8S"
      }
    },
    {
      "cell_type": "code",
      "source": [
        "import matplotlib.pyplot as plt\n",
        "#Write your code here for generating the plot\n",
        "\n",
        "x_line = np.linspace(np.min(time) - 0.01, np.max(time) + 0.01, 100)\n",
        "y_line = calculate(x_line)\n",
        "\n",
        "plt.figure(figsize=(10, 6), dpi=80)\n",
        "plt.title('Non Linear Regression')\n",
        "plt.xlabel('Time T', color='#1C2833')\n",
        "plt.ylabel('Gamma G', color='#1C2833')\n",
        "plt.plot(time, gamma, 'X', color = 'orange', label = 'Data points')\n",
        "plt.plot(x_line, y_line, '-',  label = 'Non-Linear Equation', color = 'royalblue')\n",
        "# plt.stem(theta, torque, use_line_collection = True)\n",
        "for i in range(len(time)):\n",
        "    if i==0:\n",
        "        plt.plot((time[i], time[i]), (gamma[i], calculate(time[i])), '--', color = 'magenta', label = 'Errors')\n",
        "    else:\n",
        "        plt.plot((time[i], time[i]), (gamma[i], calculate(time[i])), '--', color = 'magenta')\n",
        "plt.legend(loc='best')\n",
        "plt.grid()\n",
        "plt.show()"
      ],
      "metadata": {
        "id": "ShRMjjHSm-dq",
        "colab": {
          "base_uri": "https://localhost:8080/",
          "height": 444
        },
        "outputId": "2f558cd0-54c5-459a-ddb5-1f3a96e66865"
      },
      "execution_count": 90,
      "outputs": [
        {
          "output_type": "display_data",
          "data": {
            "image/png": "[encoded data removed]",
            "text/plain": [
              "<Figure size 800x480 with 1 Axes>"
            ]
          },
          "metadata": {
            "needs_background": "light"
          }
        }
      ]
    }
  ]
}