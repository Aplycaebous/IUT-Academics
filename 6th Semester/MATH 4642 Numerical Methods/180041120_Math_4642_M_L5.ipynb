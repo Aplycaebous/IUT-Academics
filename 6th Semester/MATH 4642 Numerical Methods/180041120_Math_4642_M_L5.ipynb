{
  "nbformat": 4,
  "nbformat_minor": 0,
  "metadata": {
    "colab": {
      "name": "[180041120_Math_4642_M_L5.ipynb",
      "provenance": [],
      "collapsed_sections": []
    },
    "kernelspec": {
      "name": "python3",
      "display_name": "Python 3"
    },
    "language_info": {
      "name": "python"
    }
  },
  "cells": [
    {
      "cell_type": "markdown",
      "source": [
        "# **Lab 5 : Ordinary Differential Equations**<br>\n",
        "\n",
        "Ordinary Differential Equation (ODE) is a differential equation consisting of one or more functions of a single independent variable and the derivatives of those functions. Finding derivatives analytically is a complex procedure, involving a lot of rules. Computers and calculators find derivatives using some sort of numerical methods, such as **Euler's method**, **Runge-Kutta 2<sup>nd</sup> order method** and **Runge-Kutta 4<sup>th</sup> order method**. An important thing to note here is that these numerical methods can only solve first order ODE of the form $ \\frac{dy}{dx}=f(x,y), y(0)=y_0 $. Then how do we solve higher order differential equations? Basically, we convert higher order derivatives of one variable into first order derivatives of a different variable, and then apply one of those numerical methods we just talked about.\n",
        "\n",
        "In today's lab, we will be implementing the **Runge-Kutta 2<sup>nd</sup> order method** for solving a second order ODE in python. Refer to the example 3 in the higher order differential equations pdf. There are 3 methods associated with **Runge-Kutta 2<sup>nd</sup> order method** and we will be using the Heun's method so as to be able to check our results with the ones obtained in the example. \n",
        "\n",
        "The following is the problem you need to solve. Given the ordinary differential equation $ \\frac{d^2y}{dx^2}+2\\frac{dy}{dx}+y=e^{-t}, y(0)=1, \\frac{dy}{dx}(0)=2 $, find using Heun's method $y(0.75)$ using a step size of $h=0.25$"
      ],
      "metadata": {
        "id": "Dex_lDl5gUKB"
      }
    },
    {
      "cell_type": "markdown",
      "source": [
        "##Task 1\n",
        "Convert the higher order differential equation into two first order differential equations of two different variables $y$ and $z$. Implement two functions for $f_1$ and $f_2$. Then, complete the following RungeKutta2() method that takes the initial values for y and z as well as the step size and the point t_o at which we are trying to estimate y and finally uses the previous two functions at every iteration to calculate $y_{i+1}$ and $z_{i+1}$. The function should return the result for $y(0.75)$."
      ],
      "metadata": {
        "id": "_XU-vXFFzj4T"
      }
    },
    {
      "cell_type": "code",
      "source": [
        "np.exp(5)"
      ],
      "metadata": {
        "colab": {
          "base_uri": "https://localhost:8080/"
        },
        "id": "Zwe_cdcnd1rl",
        "outputId": "b1cef465-6503-48b3-fca4-1757b22e6f99"
      },
      "execution_count": 2,
      "outputs": [
        {
          "output_type": "execute_result",
          "data": {
            "text/plain": [
              "148.4131591025766"
            ]
          },
          "metadata": {},
          "execution_count": 2
        }
      ]
    },
    {
      "cell_type": "code",
      "source": [
        "import numpy as np"
      ],
      "metadata": {
        "id": "-0Bz_LM9di7W"
      },
      "execution_count": 1,
      "outputs": []
    },
    {
      "cell_type": "code",
      "source": [
        "def f1(t,y,z):\n",
        "  return z"
      ],
      "metadata": {
        "id": "JW5a7b-Mdpf2"
      },
      "execution_count": 3,
      "outputs": []
    },
    {
      "cell_type": "code",
      "source": [
        "def f2(t,y,z):\n",
        "  return np.exp(-t) - y - 2*z"
      ],
      "metadata": {
        "id": "E4BkLZJvdsW9"
      },
      "execution_count": 4,
      "outputs": []
    },
    {
      "cell_type": "code",
      "source": [
        "def RungeKutta2(t0,y0, z0, tn, h):\n",
        "  n = int((tn-t0)/h)\n",
        "  t_prev = t0\n",
        "  y_prev = y0\n",
        "  z_prev = z0\n",
        "  t_list = [t0]\n",
        "  y_list = [y0]\n",
        "  z_list = [z0]\n",
        "  for i in range(n):\n",
        "    k1y = f1(t_prev, y_prev, z_prev)\n",
        "    k1z = f2(t_prev, y_prev, z_prev)\n",
        "\n",
        "    k2y = f1(t_prev + h, y_prev + h* k1y, z_prev + h*k1z)\n",
        "    k2z = f2(t_prev + h, y_prev + h* k1y, z_prev + h*k1z)\n",
        "\n",
        "    yi = y_prev + 0.5*h*(k1y+k2y)\n",
        "    zi = z_prev + 0.5*h*(k1z+k2z)\n",
        "\n",
        "    t_prev = t_prev + h\n",
        "    y_prev = yi\n",
        "    z_prev = zi\n",
        "\n",
        "    t_list.append(t_prev)\n",
        "    y_list.append(y_prev)\n",
        "    z_list.append(z_prev)\n",
        " \n",
        "  return t_list, y_list,z_list"
      ],
      "metadata": {
        "id": "U8wD9UjdeTSU"
      },
      "execution_count": 12,
      "outputs": []
    },
    {
      "cell_type": "code",
      "source": [
        "RungeKutta2(0,1,2,0.75,0.25)"
      ],
      "metadata": {
        "id": "xv0ziIB60ET8",
        "colab": {
          "base_uri": "https://localhost:8080/"
        },
        "outputId": "736a8633-a8cc-41f8-f867-7fd471a13eae"
      },
      "execution_count": 13,
      "outputs": [
        {
          "output_type": "execute_result",
          "data": {
            "text/plain": [
              "([0, 0.25, 0.5, 0.75],\n",
              " [1, 1.375, 1.5738406678242174, 1.6477384570128473],\n",
              " [2, 1.1598500978839257, 0.5553398770246228, 0.13159191209099547])"
            ]
          },
          "metadata": {},
          "execution_count": 13
        }
      ]
    }
  ]
}