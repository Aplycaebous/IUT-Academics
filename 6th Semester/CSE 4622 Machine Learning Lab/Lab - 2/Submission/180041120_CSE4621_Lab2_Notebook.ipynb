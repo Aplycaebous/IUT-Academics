{
  "nbformat": 4,
  "nbformat_minor": 0,
  "metadata": {
    "colab": {
      "name": "180041120_CSE4621_Lab2.ipynb",
      "provenance": [],
      "collapsed_sections": []
    },
    "kernelspec": {
      "name": "python3",
      "display_name": "Python 3"
    },
    "language_info": {
      "name": "python"
    }
  },
  "cells": [
    {
      "cell_type": "markdown",
      "source": [
        "Importing the necessary libraries"
      ],
      "metadata": {
        "id": "cKlaVhtyvYDu"
      }
    },
    {
      "cell_type": "code",
      "execution_count": 1,
      "metadata": {
        "id": "4AytZPPRuo2m"
      },
      "outputs": [],
      "source": [
        "import pandas as pd\n",
        "import numpy as np\n",
        "import math\n",
        "import matplotlib.pyplot as plt\n",
        "from matplotlib import gridspec\n",
        "from sklearn.model_selection import train_test_split\n",
        "from sklearn.linear_model import LinearRegression\n",
        "import seaborn as sns"
      ]
    },
    {
      "cell_type": "markdown",
      "source": [
        "#Task-1"
      ],
      "metadata": {
        "id": "doV_3WMmx6Ha"
      }
    },
    {
      "cell_type": "markdown",
      "source": [
        "Downloading the dataset from Google Drive"
      ],
      "metadata": {
        "id": "19NHFPgdvkRq"
      }
    },
    {
      "cell_type": "code",
      "source": [
        "!gdown --id 1bTtIDHMP6a5dQ3a2Aw9AAR8Flprjb3Ei"
      ],
      "metadata": {
        "colab": {
          "base_uri": "https://localhost:8080/"
        },
        "id": "DBxsoEwGvaur",
        "outputId": "2f0e060a-00a9-47fd-f4bc-1b0898fd0423"
      },
      "execution_count": 2,
      "outputs": [
        {
          "output_type": "stream",
          "name": "stdout",
          "text": [
            "Downloading...\n",
            "From: https://drive.google.com/uc?id=1bTtIDHMP6a5dQ3a2Aw9AAR8Flprjb3Ei\n",
            "To: /content/data.csv\n",
            "\r  0% 0.00/527k [00:00<?, ?B/s]\r100% 527k/527k [00:00<00:00, 17.2MB/s]\n"
          ]
        }
      ]
    },
    {
      "cell_type": "markdown",
      "source": [
        "Reading the csv file into a pandas dataframe. The number of samples is equal to the length of the index of the dataframe."
      ],
      "metadata": {
        "id": "eMFik5iAyrvR"
      }
    },
    {
      "cell_type": "code",
      "source": [
        "data = pd.read_csv('/content/data.csv')\n",
        "print('Number of samples is', len(data.index))"
      ],
      "metadata": {
        "colab": {
          "base_uri": "https://localhost:8080/"
        },
        "id": "KyVgdASovgeK",
        "outputId": "c203f6a5-d65a-4a46-dbfa-14b785f6981e"
      },
      "execution_count": 3,
      "outputs": [
        {
          "output_type": "stream",
          "name": "stdout",
          "text": [
            "Number of samples is 4600\n"
          ]
        }
      ]
    },
    {
      "cell_type": "markdown",
      "source": [
        "A pandas dataframe is similar to a Python dictionary and can be accessed in the same manner."
      ],
      "metadata": {
        "id": "dz_A9_55y3zJ"
      }
    },
    {
      "cell_type": "code",
      "source": [
        "print('The column names are:')\n",
        "for column in data.keys():\n",
        "  print(column, end=', ')"
      ],
      "metadata": {
        "colab": {
          "base_uri": "https://localhost:8080/"
        },
        "id": "yBNu_Wv_vwU6",
        "outputId": "54561a04-8236-48ae-f8c1-573d874e85da"
      },
      "execution_count": 4,
      "outputs": [
        {
          "output_type": "stream",
          "name": "stdout",
          "text": [
            "The column names are:\n",
            "date, price, bedrooms, bathrooms, sqft_living, sqft_lot, floors, waterfront, view, condition, sqft_above, sqft_basement, yr_built, yr_renovated, street, city, statezip, country, "
          ]
        }
      ]
    },
    {
      "cell_type": "markdown",
      "source": [
        "The `isnull()` function is used to find whether an entry is null or not. It returns Boolean value. The count of these values is done using `sum()`"
      ],
      "metadata": {
        "id": "fQwQYSqBzA1Z"
      }
    },
    {
      "cell_type": "code",
      "source": [
        "print('The null values in each column are:')\n",
        "print(data.isnull().sum())"
      ],
      "metadata": {
        "colab": {
          "base_uri": "https://localhost:8080/"
        },
        "id": "0ccMeAjzx4MC",
        "outputId": "ac847c5c-c69f-49b6-d46d-eaf0c6e3a5b2"
      },
      "execution_count": 5,
      "outputs": [
        {
          "output_type": "stream",
          "name": "stdout",
          "text": [
            "The null values in each column are:\n",
            "date             0\n",
            "price            0\n",
            "bedrooms         0\n",
            "bathrooms        0\n",
            "sqft_living      0\n",
            "sqft_lot         0\n",
            "floors           0\n",
            "waterfront       0\n",
            "view             0\n",
            "condition        0\n",
            "sqft_above       0\n",
            "sqft_basement    0\n",
            "yr_built         0\n",
            "yr_renovated     0\n",
            "street           0\n",
            "city             0\n",
            "statezip         0\n",
            "country          0\n",
            "dtype: int64\n"
          ]
        }
      ]
    },
    {
      "cell_type": "markdown",
      "source": [
        "Every dataframe has an attribute called `dtypes` which indicates the data type of the columns of the data frame."
      ],
      "metadata": {
        "id": "dtGJHIflzR8j"
      }
    },
    {
      "cell_type": "code",
      "source": [
        "print('The data type of each column is:')\n",
        "print(data.dtypes)"
      ],
      "metadata": {
        "colab": {
          "base_uri": "https://localhost:8080/"
        },
        "id": "ADtb8dJcyGXh",
        "outputId": "59f9b118-a44d-4a8e-fc1b-5bcb90d868c3"
      },
      "execution_count": 6,
      "outputs": [
        {
          "output_type": "stream",
          "name": "stdout",
          "text": [
            "The data type of each column is:\n",
            "date              object\n",
            "price            float64\n",
            "bedrooms         float64\n",
            "bathrooms        float64\n",
            "sqft_living        int64\n",
            "sqft_lot           int64\n",
            "floors           float64\n",
            "waterfront         int64\n",
            "view               int64\n",
            "condition          int64\n",
            "sqft_above         int64\n",
            "sqft_basement      int64\n",
            "yr_built           int64\n",
            "yr_renovated       int64\n",
            "street            object\n",
            "city              object\n",
            "statezip          object\n",
            "country           object\n",
            "dtype: object\n"
          ]
        }
      ]
    },
    {
      "cell_type": "markdown",
      "source": [
        "Now, we look at the first 5 columns of the dataset using `head()`"
      ],
      "metadata": {
        "id": "YJL2mgAdZ8jt"
      }
    },
    {
      "cell_type": "code",
      "source": [
        "data.head()"
      ],
      "metadata": {
        "colab": {
          "base_uri": "https://localhost:8080/",
          "height": 461
        },
        "id": "zPm-6IE2ZydL",
        "outputId": "0385deaa-7f5e-4880-d944-51477e72954c"
      },
      "execution_count": 7,
      "outputs": [
        {
          "output_type": "execute_result",
          "data": {
            "text/html": [
              "\n",
              "  <div id=\"df-c503fca9-342c-471a-a820-f8da4a353065\">\n",
              "    <div class=\"colab-df-container\">\n",
              "      <div>\n",
              "<style scoped>\n",
              "    .dataframe tbody tr th:only-of-type {\n",
              "        vertical-align: middle;\n",
              "    }\n",
              "\n",
              "    .dataframe tbody tr th {\n",
              "        vertical-align: top;\n",
              "    }\n",
              "\n",
              "    .dataframe thead th {\n",
              "        text-align: right;\n",
              "    }\n",
              "</style>\n",
              "<table border=\"1\" class=\"dataframe\">\n",
              "  <thead>\n",
              "    <tr style=\"text-align: right;\">\n",
              "      <th></th>\n",
              "      <th>date</th>\n",
              "      <th>price</th>\n",
              "      <th>bedrooms</th>\n",
              "      <th>bathrooms</th>\n",
              "      <th>sqft_living</th>\n",
              "      <th>sqft_lot</th>\n",
              "      <th>floors</th>\n",
              "      <th>waterfront</th>\n",
              "      <th>view</th>\n",
              "      <th>condition</th>\n",
              "      <th>sqft_above</th>\n",
              "      <th>sqft_basement</th>\n",
              "      <th>yr_built</th>\n",
              "      <th>yr_renovated</th>\n",
              "      <th>street</th>\n",
              "      <th>city</th>\n",
              "      <th>statezip</th>\n",
              "      <th>country</th>\n",
              "    </tr>\n",
              "  </thead>\n",
              "  <tbody>\n",
              "    <tr>\n",
              "      <th>0</th>\n",
              "      <td>2014-05-02 00:00:00</td>\n",
              "      <td>313000.0</td>\n",
              "      <td>3.0</td>\n",
              "      <td>1.50</td>\n",
              "      <td>1340</td>\n",
              "      <td>7912</td>\n",
              "      <td>1.5</td>\n",
              "      <td>0</td>\n",
              "      <td>0</td>\n",
              "      <td>3</td>\n",
              "      <td>1340</td>\n",
              "      <td>0</td>\n",
              "      <td>1955</td>\n",
              "      <td>2005</td>\n",
              "      <td>18810 Densmore Ave N</td>\n",
              "      <td>Shoreline</td>\n",
              "      <td>WA 98133</td>\n",
              "      <td>USA</td>\n",
              "    </tr>\n",
              "    <tr>\n",
              "      <th>1</th>\n",
              "      <td>2014-05-02 00:00:00</td>\n",
              "      <td>2384000.0</td>\n",
              "      <td>5.0</td>\n",
              "      <td>2.50</td>\n",
              "      <td>3650</td>\n",
              "      <td>9050</td>\n",
              "      <td>2.0</td>\n",
              "      <td>0</td>\n",
              "      <td>4</td>\n",
              "      <td>5</td>\n",
              "      <td>3370</td>\n",
              "      <td>280</td>\n",
              "      <td>1921</td>\n",
              "      <td>0</td>\n",
              "      <td>709 W Blaine St</td>\n",
              "      <td>Seattle</td>\n",
              "      <td>WA 98119</td>\n",
              "      <td>USA</td>\n",
              "    </tr>\n",
              "    <tr>\n",
              "      <th>2</th>\n",
              "      <td>2014-05-02 00:00:00</td>\n",
              "      <td>342000.0</td>\n",
              "      <td>3.0</td>\n",
              "      <td>2.00</td>\n",
              "      <td>1930</td>\n",
              "      <td>11947</td>\n",
              "      <td>1.0</td>\n",
              "      <td>0</td>\n",
              "      <td>0</td>\n",
              "      <td>4</td>\n",
              "      <td>1930</td>\n",
              "      <td>0</td>\n",
              "      <td>1966</td>\n",
              "      <td>0</td>\n",
              "      <td>26206-26214 143rd Ave SE</td>\n",
              "      <td>Kent</td>\n",
              "      <td>WA 98042</td>\n",
              "      <td>USA</td>\n",
              "    </tr>\n",
              "    <tr>\n",
              "      <th>3</th>\n",
              "      <td>2014-05-02 00:00:00</td>\n",
              "      <td>420000.0</td>\n",
              "      <td>3.0</td>\n",
              "      <td>2.25</td>\n",
              "      <td>2000</td>\n",
              "      <td>8030</td>\n",
              "      <td>1.0</td>\n",
              "      <td>0</td>\n",
              "      <td>0</td>\n",
              "      <td>4</td>\n",
              "      <td>1000</td>\n",
              "      <td>1000</td>\n",
              "      <td>1963</td>\n",
              "      <td>0</td>\n",
              "      <td>857 170th Pl NE</td>\n",
              "      <td>Bellevue</td>\n",
              "      <td>WA 98008</td>\n",
              "      <td>USA</td>\n",
              "    </tr>\n",
              "    <tr>\n",
              "      <th>4</th>\n",
              "      <td>2014-05-02 00:00:00</td>\n",
              "      <td>550000.0</td>\n",
              "      <td>4.0</td>\n",
              "      <td>2.50</td>\n",
              "      <td>1940</td>\n",
              "      <td>10500</td>\n",
              "      <td>1.0</td>\n",
              "      <td>0</td>\n",
              "      <td>0</td>\n",
              "      <td>4</td>\n",
              "      <td>1140</td>\n",
              "      <td>800</td>\n",
              "      <td>1976</td>\n",
              "      <td>1992</td>\n",
              "      <td>9105 170th Ave NE</td>\n",
              "      <td>Redmond</td>\n",
              "      <td>WA 98052</td>\n",
              "      <td>USA</td>\n",
              "    </tr>\n",
              "  </tbody>\n",
              "</table>\n",
              "</div>\n",
              "      <button class=\"colab-df-convert\" onclick=\"convertToInteractive('df-c503fca9-342c-471a-a820-f8da4a353065')\"\n",
              "              title=\"Convert this dataframe to an interactive table.\"\n",
              "              style=\"display:none;\">\n",
              "        \n",
              "  <svg xmlns=\"http://www.w3.org/2000/svg\" height=\"24px\"viewBox=\"0 0 24 24\"\n",
              "       width=\"24px\">\n",
              "    <path d=\"M0 0h24v24H0V0z\" fill=\"none\"/>\n",
              "    <path d=\"M18.56 5.44l.94 2.06.94-2.06 2.06-.94-2.06-.94-.94-2.06-.94 2.06-2.06.94zm-11 1L8.5 8.5l.94-2.06 2.06-.94-2.06-.94L8.5 2.5l-.94 2.06-2.06.94zm10 10l.94 2.06.94-2.06 2.06-.94-2.06-.94-.94-2.06-.94 2.06-2.06.94z\"/><path d=\"M17.41 7.96l-1.37-1.37c-.4-.4-.92-.59-1.43-.59-.52 0-1.04.2-1.43.59L10.3 9.45l-7.72 7.72c-.78.78-.78 2.05 0 2.83L4 21.41c.39.39.9.59 1.41.59.51 0 1.02-.2 1.41-.59l7.78-7.78 2.81-2.81c.8-.78.8-2.07 0-2.86zM5.41 20L4 18.59l7.72-7.72 1.47 1.35L5.41 20z\"/>\n",
              "  </svg>\n",
              "      </button>\n",
              "      \n",
              "  <style>\n",
              "    .colab-df-container {\n",
              "      display:flex;\n",
              "      flex-wrap:wrap;\n",
              "      gap: 12px;\n",
              "    }\n",
              "\n",
              "    .colab-df-convert {\n",
              "      background-color: #E8F0FE;\n",
              "      border: none;\n",
              "      border-radius: 50%;\n",
              "      cursor: pointer;\n",
              "      display: none;\n",
              "      fill: #1967D2;\n",
              "      height: 32px;\n",
              "      padding: 0 0 0 0;\n",
              "      width: 32px;\n",
              "    }\n",
              "\n",
              "    .colab-df-convert:hover {\n",
              "      background-color: #E2EBFA;\n",
              "      box-shadow: 0px 1px 2px rgba(60, 64, 67, 0.3), 0px 1px 3px 1px rgba(60, 64, 67, 0.15);\n",
              "      fill: #174EA6;\n",
              "    }\n",
              "\n",
              "    [theme=dark] .colab-df-convert {\n",
              "      background-color: #3B4455;\n",
              "      fill: #D2E3FC;\n",
              "    }\n",
              "\n",
              "    [theme=dark] .colab-df-convert:hover {\n",
              "      background-color: #434B5C;\n",
              "      box-shadow: 0px 1px 3px 1px rgba(0, 0, 0, 0.15);\n",
              "      filter: drop-shadow(0px 1px 2px rgba(0, 0, 0, 0.3));\n",
              "      fill: #FFFFFF;\n",
              "    }\n",
              "  </style>\n",
              "\n",
              "      <script>\n",
              "        const buttonEl =\n",
              "          document.querySelector('#df-c503fca9-342c-471a-a820-f8da4a353065 button.colab-df-convert');\n",
              "        buttonEl.style.display =\n",
              "          google.colab.kernel.accessAllowed ? 'block' : 'none';\n",
              "\n",
              "        async function convertToInteractive(key) {\n",
              "          const element = document.querySelector('#df-c503fca9-342c-471a-a820-f8da4a353065');\n",
              "          const dataTable =\n",
              "            await google.colab.kernel.invokeFunction('convertToInteractive',\n",
              "                                                     [key], {});\n",
              "          if (!dataTable) return;\n",
              "\n",
              "          const docLinkHtml = 'Like what you see? Visit the ' +\n",
              "            '<a target=\"_blank\" href=https://colab.research.google.com/notebooks/data_table.ipynb>data table notebook</a>'\n",
              "            + ' to learn more about interactive tables.';\n",
              "          element.innerHTML = '';\n",
              "          dataTable['output_type'] = 'display_data';\n",
              "          await google.colab.output.renderOutput(dataTable, element);\n",
              "          const docLink = document.createElement('div');\n",
              "          docLink.innerHTML = docLinkHtml;\n",
              "          element.appendChild(docLink);\n",
              "        }\n",
              "      </script>\n",
              "    </div>\n",
              "  </div>\n",
              "  "
            ],
            "text/plain": [
              "                  date      price  bedrooms  ...       city  statezip  country\n",
              "0  2014-05-02 00:00:00   313000.0       3.0  ...  Shoreline  WA 98133      USA\n",
              "1  2014-05-02 00:00:00  2384000.0       5.0  ...    Seattle  WA 98119      USA\n",
              "2  2014-05-02 00:00:00   342000.0       3.0  ...       Kent  WA 98042      USA\n",
              "3  2014-05-02 00:00:00   420000.0       3.0  ...   Bellevue  WA 98008      USA\n",
              "4  2014-05-02 00:00:00   550000.0       4.0  ...    Redmond  WA 98052      USA\n",
              "\n",
              "[5 rows x 18 columns]"
            ]
          },
          "metadata": {},
          "execution_count": 7
        }
      ]
    },
    {
      "cell_type": "markdown",
      "source": [
        "We look at the summary statistics of the dataset using  ```describe()```\n"
      ],
      "metadata": {
        "id": "Rtv5Zl0raLmj"
      }
    },
    {
      "cell_type": "code",
      "source": [
        "data.describe()"
      ],
      "metadata": {
        "colab": {
          "base_uri": "https://localhost:8080/",
          "height": 300
        },
        "id": "ZUpHcQqPZ0rS",
        "outputId": "6f05d637-aded-4790-85b8-9b0c3143044a"
      },
      "execution_count": 8,
      "outputs": [
        {
          "output_type": "execute_result",
          "data": {
            "text/html": [
              "\n",
              "  <div id=\"df-173add2e-14aa-40ae-b39e-5db36f77e1b7\">\n",
              "    <div class=\"colab-df-container\">\n",
              "      <div>\n",
              "<style scoped>\n",
              "    .dataframe tbody tr th:only-of-type {\n",
              "        vertical-align: middle;\n",
              "    }\n",
              "\n",
              "    .dataframe tbody tr th {\n",
              "        vertical-align: top;\n",
              "    }\n",
              "\n",
              "    .dataframe thead th {\n",
              "        text-align: right;\n",
              "    }\n",
              "</style>\n",
              "<table border=\"1\" class=\"dataframe\">\n",
              "  <thead>\n",
              "    <tr style=\"text-align: right;\">\n",
              "      <th></th>\n",
              "      <th>price</th>\n",
              "      <th>bedrooms</th>\n",
              "      <th>bathrooms</th>\n",
              "      <th>sqft_living</th>\n",
              "      <th>sqft_lot</th>\n",
              "      <th>floors</th>\n",
              "      <th>waterfront</th>\n",
              "      <th>view</th>\n",
              "      <th>condition</th>\n",
              "      <th>sqft_above</th>\n",
              "      <th>sqft_basement</th>\n",
              "      <th>yr_built</th>\n",
              "      <th>yr_renovated</th>\n",
              "    </tr>\n",
              "  </thead>\n",
              "  <tbody>\n",
              "    <tr>\n",
              "      <th>count</th>\n",
              "      <td>4.600000e+03</td>\n",
              "      <td>4600.000000</td>\n",
              "      <td>4600.000000</td>\n",
              "      <td>4600.000000</td>\n",
              "      <td>4.600000e+03</td>\n",
              "      <td>4600.000000</td>\n",
              "      <td>4600.000000</td>\n",
              "      <td>4600.000000</td>\n",
              "      <td>4600.000000</td>\n",
              "      <td>4600.000000</td>\n",
              "      <td>4600.000000</td>\n",
              "      <td>4600.000000</td>\n",
              "      <td>4600.000000</td>\n",
              "    </tr>\n",
              "    <tr>\n",
              "      <th>mean</th>\n",
              "      <td>5.519630e+05</td>\n",
              "      <td>3.400870</td>\n",
              "      <td>2.160815</td>\n",
              "      <td>2139.346957</td>\n",
              "      <td>1.485252e+04</td>\n",
              "      <td>1.512065</td>\n",
              "      <td>0.007174</td>\n",
              "      <td>0.240652</td>\n",
              "      <td>3.451739</td>\n",
              "      <td>1827.265435</td>\n",
              "      <td>312.081522</td>\n",
              "      <td>1970.786304</td>\n",
              "      <td>808.608261</td>\n",
              "    </tr>\n",
              "    <tr>\n",
              "      <th>std</th>\n",
              "      <td>5.638347e+05</td>\n",
              "      <td>0.908848</td>\n",
              "      <td>0.783781</td>\n",
              "      <td>963.206916</td>\n",
              "      <td>3.588444e+04</td>\n",
              "      <td>0.538288</td>\n",
              "      <td>0.084404</td>\n",
              "      <td>0.778405</td>\n",
              "      <td>0.677230</td>\n",
              "      <td>862.168977</td>\n",
              "      <td>464.137228</td>\n",
              "      <td>29.731848</td>\n",
              "      <td>979.414536</td>\n",
              "    </tr>\n",
              "    <tr>\n",
              "      <th>min</th>\n",
              "      <td>0.000000e+00</td>\n",
              "      <td>0.000000</td>\n",
              "      <td>0.000000</td>\n",
              "      <td>370.000000</td>\n",
              "      <td>6.380000e+02</td>\n",
              "      <td>1.000000</td>\n",
              "      <td>0.000000</td>\n",
              "      <td>0.000000</td>\n",
              "      <td>1.000000</td>\n",
              "      <td>370.000000</td>\n",
              "      <td>0.000000</td>\n",
              "      <td>1900.000000</td>\n",
              "      <td>0.000000</td>\n",
              "    </tr>\n",
              "    <tr>\n",
              "      <th>25%</th>\n",
              "      <td>3.228750e+05</td>\n",
              "      <td>3.000000</td>\n",
              "      <td>1.750000</td>\n",
              "      <td>1460.000000</td>\n",
              "      <td>5.000750e+03</td>\n",
              "      <td>1.000000</td>\n",
              "      <td>0.000000</td>\n",
              "      <td>0.000000</td>\n",
              "      <td>3.000000</td>\n",
              "      <td>1190.000000</td>\n",
              "      <td>0.000000</td>\n",
              "      <td>1951.000000</td>\n",
              "      <td>0.000000</td>\n",
              "    </tr>\n",
              "    <tr>\n",
              "      <th>50%</th>\n",
              "      <td>4.609435e+05</td>\n",
              "      <td>3.000000</td>\n",
              "      <td>2.250000</td>\n",
              "      <td>1980.000000</td>\n",
              "      <td>7.683000e+03</td>\n",
              "      <td>1.500000</td>\n",
              "      <td>0.000000</td>\n",
              "      <td>0.000000</td>\n",
              "      <td>3.000000</td>\n",
              "      <td>1590.000000</td>\n",
              "      <td>0.000000</td>\n",
              "      <td>1976.000000</td>\n",
              "      <td>0.000000</td>\n",
              "    </tr>\n",
              "    <tr>\n",
              "      <th>75%</th>\n",
              "      <td>6.549625e+05</td>\n",
              "      <td>4.000000</td>\n",
              "      <td>2.500000</td>\n",
              "      <td>2620.000000</td>\n",
              "      <td>1.100125e+04</td>\n",
              "      <td>2.000000</td>\n",
              "      <td>0.000000</td>\n",
              "      <td>0.000000</td>\n",
              "      <td>4.000000</td>\n",
              "      <td>2300.000000</td>\n",
              "      <td>610.000000</td>\n",
              "      <td>1997.000000</td>\n",
              "      <td>1999.000000</td>\n",
              "    </tr>\n",
              "    <tr>\n",
              "      <th>max</th>\n",
              "      <td>2.659000e+07</td>\n",
              "      <td>9.000000</td>\n",
              "      <td>8.000000</td>\n",
              "      <td>13540.000000</td>\n",
              "      <td>1.074218e+06</td>\n",
              "      <td>3.500000</td>\n",
              "      <td>1.000000</td>\n",
              "      <td>4.000000</td>\n",
              "      <td>5.000000</td>\n",
              "      <td>9410.000000</td>\n",
              "      <td>4820.000000</td>\n",
              "      <td>2014.000000</td>\n",
              "      <td>2014.000000</td>\n",
              "    </tr>\n",
              "  </tbody>\n",
              "</table>\n",
              "</div>\n",
              "      <button class=\"colab-df-convert\" onclick=\"convertToInteractive('df-173add2e-14aa-40ae-b39e-5db36f77e1b7')\"\n",
              "              title=\"Convert this dataframe to an interactive table.\"\n",
              "              style=\"display:none;\">\n",
              "        \n",
              "  <svg xmlns=\"http://www.w3.org/2000/svg\" height=\"24px\"viewBox=\"0 0 24 24\"\n",
              "       width=\"24px\">\n",
              "    <path d=\"M0 0h24v24H0V0z\" fill=\"none\"/>\n",
              "    <path d=\"M18.56 5.44l.94 2.06.94-2.06 2.06-.94-2.06-.94-.94-2.06-.94 2.06-2.06.94zm-11 1L8.5 8.5l.94-2.06 2.06-.94-2.06-.94L8.5 2.5l-.94 2.06-2.06.94zm10 10l.94 2.06.94-2.06 2.06-.94-2.06-.94-.94-2.06-.94 2.06-2.06.94z\"/><path d=\"M17.41 7.96l-1.37-1.37c-.4-.4-.92-.59-1.43-.59-.52 0-1.04.2-1.43.59L10.3 9.45l-7.72 7.72c-.78.78-.78 2.05 0 2.83L4 21.41c.39.39.9.59 1.41.59.51 0 1.02-.2 1.41-.59l7.78-7.78 2.81-2.81c.8-.78.8-2.07 0-2.86zM5.41 20L4 18.59l7.72-7.72 1.47 1.35L5.41 20z\"/>\n",
              "  </svg>\n",
              "      </button>\n",
              "      \n",
              "  <style>\n",
              "    .colab-df-container {\n",
              "      display:flex;\n",
              "      flex-wrap:wrap;\n",
              "      gap: 12px;\n",
              "    }\n",
              "\n",
              "    .colab-df-convert {\n",
              "      background-color: #E8F0FE;\n",
              "      border: none;\n",
              "      border-radius: 50%;\n",
              "      cursor: pointer;\n",
              "      display: none;\n",
              "      fill: #1967D2;\n",
              "      height: 32px;\n",
              "      padding: 0 0 0 0;\n",
              "      width: 32px;\n",
              "    }\n",
              "\n",
              "    .colab-df-convert:hover {\n",
              "      background-color: #E2EBFA;\n",
              "      box-shadow: 0px 1px 2px rgba(60, 64, 67, 0.3), 0px 1px 3px 1px rgba(60, 64, 67, 0.15);\n",
              "      fill: #174EA6;\n",
              "    }\n",
              "\n",
              "    [theme=dark] .colab-df-convert {\n",
              "      background-color: #3B4455;\n",
              "      fill: #D2E3FC;\n",
              "    }\n",
              "\n",
              "    [theme=dark] .colab-df-convert:hover {\n",
              "      background-color: #434B5C;\n",
              "      box-shadow: 0px 1px 3px 1px rgba(0, 0, 0, 0.15);\n",
              "      filter: drop-shadow(0px 1px 2px rgba(0, 0, 0, 0.3));\n",
              "      fill: #FFFFFF;\n",
              "    }\n",
              "  </style>\n",
              "\n",
              "      <script>\n",
              "        const buttonEl =\n",
              "          document.querySelector('#df-173add2e-14aa-40ae-b39e-5db36f77e1b7 button.colab-df-convert');\n",
              "        buttonEl.style.display =\n",
              "          google.colab.kernel.accessAllowed ? 'block' : 'none';\n",
              "\n",
              "        async function convertToInteractive(key) {\n",
              "          const element = document.querySelector('#df-173add2e-14aa-40ae-b39e-5db36f77e1b7');\n",
              "          const dataTable =\n",
              "            await google.colab.kernel.invokeFunction('convertToInteractive',\n",
              "                                                     [key], {});\n",
              "          if (!dataTable) return;\n",
              "\n",
              "          const docLinkHtml = 'Like what you see? Visit the ' +\n",
              "            '<a target=\"_blank\" href=https://colab.research.google.com/notebooks/data_table.ipynb>data table notebook</a>'\n",
              "            + ' to learn more about interactive tables.';\n",
              "          element.innerHTML = '';\n",
              "          dataTable['output_type'] = 'display_data';\n",
              "          await google.colab.output.renderOutput(dataTable, element);\n",
              "          const docLink = document.createElement('div');\n",
              "          docLink.innerHTML = docLinkHtml;\n",
              "          element.appendChild(docLink);\n",
              "        }\n",
              "      </script>\n",
              "    </div>\n",
              "  </div>\n",
              "  "
            ],
            "text/plain": [
              "              price     bedrooms  ...     yr_built  yr_renovated\n",
              "count  4.600000e+03  4600.000000  ...  4600.000000   4600.000000\n",
              "mean   5.519630e+05     3.400870  ...  1970.786304    808.608261\n",
              "std    5.638347e+05     0.908848  ...    29.731848    979.414536\n",
              "min    0.000000e+00     0.000000  ...  1900.000000      0.000000\n",
              "25%    3.228750e+05     3.000000  ...  1951.000000      0.000000\n",
              "50%    4.609435e+05     3.000000  ...  1976.000000      0.000000\n",
              "75%    6.549625e+05     4.000000  ...  1997.000000   1999.000000\n",
              "max    2.659000e+07     9.000000  ...  2014.000000   2014.000000\n",
              "\n",
              "[8 rows x 13 columns]"
            ]
          },
          "metadata": {},
          "execution_count": 8
        }
      ]
    },
    {
      "cell_type": "markdown",
      "source": [
        "#Task-2"
      ],
      "metadata": {
        "id": "A38HfvHCypYR"
      }
    },
    {
      "cell_type": "markdown",
      "source": [
        "Except date and price, all the other columns can be feature columns. However, street, city, statezip, and country are given in string datatype. To make them features, we need to map them to some integer or float value. For the sake of simplicity, we are excluding those columns. So, the feature columns are *bedrooms, bathrooms, sqft_living, sqft_lot, floors, waterfront, view, condition, sqft_above, sqft_basement, yr_built, yr_renovated*. These are feature columns because the predicting column price is dependent on these columns.\n",
        "\n",
        "The predicting column is *price* as we want to predict house prices. The feature and predicting columns are stored in X and Y variables respectively."
      ],
      "metadata": {
        "id": "hEsa5qLOz3ES"
      }
    },
    {
      "cell_type": "code",
      "source": [
        "features =  ['bedrooms', 'bathrooms', 'sqft_living', 'sqft_lot', 'floors', 'waterfront', 'view', 'condition', 'sqft_above', 'sqft_basement', 'yr_built', 'yr_renovated']\n",
        "X = data[features]\n",
        "Y = data['price']"
      ],
      "metadata": {
        "id": "-iM8LJ7X1cly"
      },
      "execution_count": 9,
      "outputs": []
    },
    {
      "cell_type": "markdown",
      "source": [
        "#Task-3"
      ],
      "metadata": {
        "id": "irLmTC7s1NFr"
      }
    },
    {
      "cell_type": "markdown",
      "source": [
        "Using `test_train_split()` from scikit-learn, we divide the dataset into training and testing sets. The `test_size` defines the percentage of data for the test dataset and is set to `0.2` as required by the question. Shuffling the data before splitting is a prerequisite to ensure randomized distribution and hence, `shuffle` is set to `True`."
      ],
      "metadata": {
        "id": "PNYPyrjP294g"
      }
    },
    {
      "cell_type": "code",
      "source": [
        "X_train, X_test, Y_train, Y_test = train_test_split(X, Y, test_size = 0.2, shuffle = True)"
      ],
      "metadata": {
        "id": "ZhM6Zf6v1OeR"
      },
      "execution_count": 10,
      "outputs": []
    },
    {
      "cell_type": "markdown",
      "source": [
        "#Task-4"
      ],
      "metadata": {
        "id": "uBeuYg-T47CR"
      }
    },
    {
      "cell_type": "markdown",
      "source": [
        "We first define some necessary helper functions to help us perform gradient descent."
      ],
      "metadata": {
        "id": "GkcpHFeP4_6A"
      }
    },
    {
      "cell_type": "markdown",
      "source": [
        "The  ```mean_square_error(y_pred, y)``` is used to calculate the mean square error from the predicted and actual values of y."
      ],
      "metadata": {
        "id": "6bX66B8m9RxO"
      }
    },
    {
      "cell_type": "code",
      "source": [
        "def mean_square_error(y_pred, y):\n",
        "  '''\n",
        "  Parameters: \n",
        "    y_pred = predicted output of the model with shape (m,1)\n",
        "              where, m is the number of training examples\n",
        "    y = actual output with shape (m,1)\n",
        "  Returns:\n",
        "    cost = a scalar value giving the error/loss for\n",
        "            all the training examples\n",
        "  '''\n",
        "  m = y_pred.shape[0]\n",
        "  cost = np.sum(np.power((y - y_pred),2))/(2*m)\n",
        "  return cost"
      ],
      "metadata": {
        "id": "lTDy-wRIcHHD"
      },
      "execution_count": 11,
      "outputs": []
    },
    {
      "cell_type": "markdown",
      "source": [
        "The ```concat_one(X)``` is used to concatenate a row of ones at the top to an input matrix X."
      ],
      "metadata": {
        "id": "9N9NL8dM9kLG"
      }
    },
    {
      "cell_type": "code",
      "source": [
        "#Concatenates a row of ones\n",
        "def concat_one(X):\n",
        "  '''\n",
        "  Parameters:\n",
        "    X = a matrix of shape (n,m)\n",
        "        where, n is number of input features\n",
        "  Returns:\n",
        "    one_concat = a matrix with a column of ones concatenated\n",
        "                to the X matrix and has shape (n+1,m)\n",
        "  '''\n",
        "  n = X.shape[0]\n",
        "  m = X.shape[1]\n",
        "  one_column = np.ones((1,m))\n",
        "  one_concat = np.concatenate((one_column, X), axis = 0)\n",
        "  return one_concat"
      ],
      "metadata": {
        "id": "HFRcUWHs-qvf"
      },
      "execution_count": 12,
      "outputs": []
    },
    {
      "cell_type": "markdown",
      "source": [
        "The ```normalize(x)``` is used to pre-process the input features by scaling them. The scaling is performed by subtracting the min and dividing by the range of a particular feature row."
      ],
      "metadata": {
        "id": "aOlh-A-M97HG"
      }
    },
    {
      "cell_type": "code",
      "source": [
        "def normalize(x):\n",
        "  '''\n",
        "  Parameters:\n",
        "    x = a matrix of shape (n,m)\n",
        "  Returns:\n",
        "    x_norm = the normalized form of matrix x\n",
        "             with shape (n,m)\n",
        "  '''\n",
        "  xt = x.T\n",
        "  m = xt.shape[0]\n",
        "\n",
        "  for i in range(m):\n",
        "    col = xt[i]\n",
        "    max = col.max()\n",
        "    min = col.min()\n",
        "    r = max - min\n",
        "    xt[i] = (xt[i]- min)/r\n",
        "    x_norm = xt.T\n",
        "  return x_norm"
      ],
      "metadata": {
        "id": "3Ct8Uf7cquWH"
      },
      "execution_count": 13,
      "outputs": []
    },
    {
      "cell_type": "markdown",
      "source": [
        "#Task-4a"
      ],
      "metadata": {
        "id": "TvPO20IfApr0"
      }
    },
    {
      "cell_type": "markdown",
      "source": [
        "The ```gradient_descent(x, y, epoch = 100, alpha = 0.01, epsilon = 0.5)``` performs multiple steps of gradient descent, and returns the updated parameters and a list of costs. The function performs a step of forward and a step of backward propagation in each epoch. After each step, it calculates the gradients and stores it. Then it updates the parameters simulatenously. Then, it checks whether it made any significant update in the previous two steps or not. Finally, it returns the stored cost list and the updated parameter theta."
      ],
      "metadata": {
        "id": "uNcorGmh_d_1"
      }
    },
    {
      "cell_type": "code",
      "source": [
        "def gradient_descent(x, y, epoch = 100, alpha = 0.01, epsilon = 0.5):\n",
        "  '''Parameters:\n",
        "    X = input feature matrix of dimensions (n,m) where \n",
        "        m is the number of training examples,\n",
        "        n is the number of features\n",
        "    Y = output matrix of dimensions (m,1)\n",
        "    epoch = number of steps taken by gradient descent\n",
        "            default value is set to 100\n",
        "    alpha = learning rate\n",
        "            default value is set to 0.01\n",
        "    epsilon = threshold of minimum difference\n",
        "              default value is set to 0.4\n",
        "    Returns:\n",
        "      theta = parameter matrix of dimensions (n,1)\n",
        "      cost_list = list of loss\n",
        "  '''\n",
        "  cost_list = []\n",
        "  x = concat_one(x)\n",
        "  n = x.shape[0]\n",
        "  m = x.shape[1]\n",
        "  \n",
        "  theta = np.zeros((n,1))\n",
        "  \n",
        "  for epoch in range(epoch):\n",
        "    y_hat = np.dot(np.transpose(x), theta)\n",
        "    dtheta = (np.dot(x, y_hat - y))/m\n",
        "    theta = theta - alpha*dtheta\n",
        "    \n",
        "    cost = mean_square_error(y, y_hat)\n",
        "    cost_list.append(cost)\n",
        "\n",
        "    #Task - 4a\n",
        "    #Checks if error difference is less than epsilon\n",
        "    #Epsilon = 0.5 by default\n",
        "    if len(cost_list)>1:\n",
        "      if (cost_list[-2] - cost_list[-1])/cost_list[-1] <= epsilon:\n",
        "        break    \n",
        "\n",
        "  return theta, cost_list  "
      ],
      "metadata": {
        "id": "gCHXrUCd9kTr"
      },
      "execution_count": 14,
      "outputs": []
    },
    {
      "cell_type": "markdown",
      "source": [
        "We perform some basic pre-processing to the data by coverting it the series to numpy arrays, transposing them and normalizing them."
      ],
      "metadata": {
        "id": "8UnIUjcZEdxt"
      }
    },
    {
      "cell_type": "code",
      "source": [
        "x_train = np.array(X_train.T)\n",
        "y_train = np.array(Y_train).reshape(Y_train.shape[0],1)\n",
        "\n",
        "x_train_norm = normalize(x_train)\n",
        "y_train_norm = normalize(y_train)"
      ],
      "metadata": {
        "id": "OVBJ9vmuCRwb"
      },
      "execution_count": 15,
      "outputs": []
    },
    {
      "cell_type": "markdown",
      "source": [
        "#Task-4b"
      ],
      "metadata": {
        "id": "XU8rWKMlAwqE"
      }
    },
    {
      "cell_type": "code",
      "source": [
        "theta, cost = gradient_descent(x_train_norm, y_train_norm, alpha = 0.01, epoch = 1000, epsilon = 0.00005)\n",
        "plt.plot(cost)\n",
        "plt.show()"
      ],
      "metadata": {
        "id": "_O_e8WVEJMM9",
        "colab": {
          "base_uri": "https://localhost:8080/",
          "height": 265
        },
        "outputId": "8eefaadc-ce9e-45ab-bf00-d57b55d8f5dd"
      },
      "execution_count": 16,
      "outputs": [
        {
          "output_type": "display_data",
          "data": {
            "image/png": "[encoded data removed]",
            "text/plain": [
              "<Figure size 432x288 with 1 Axes>"
            ]
          },
          "metadata": {
            "needs_background": "light"
          }
        }
      ]
    },
    {
      "cell_type": "code",
      "source": [
        "print('The stopping epoch is 160') #From the graph"
      ],
      "metadata": {
        "colab": {
          "base_uri": "https://localhost:8080/"
        },
        "id": "6tNRWTMo7Q8T",
        "outputId": "69240386-477e-4b6b-905e-1c04ca719d12"
      },
      "execution_count": 17,
      "outputs": [
        {
          "output_type": "stream",
          "name": "stdout",
          "text": [
            "The stopping epoch is 160\n"
          ]
        }
      ]
    },
    {
      "cell_type": "markdown",
      "source": [
        "#Task-4c\n",
        "\n",
        "We show the effect of various step sizes on the training and testing set."
      ],
      "metadata": {
        "id": "iNSq6593E4wL"
      }
    },
    {
      "cell_type": "code",
      "source": [
        "theta1, cost1 = gradient_descent(x_train, y_train, alpha = 0.1, epoch = 1000, epsilon = 0)\n",
        "theta2, cost2 = gradient_descent(x_train, y_train, alpha = 0.03, epoch = 1000, epsilon = 0)\n",
        "theta3, cost3 = gradient_descent(x_train, y_train, alpha = 0.01, epoch = 1000, epsilon = 0)\n",
        "theta4, cost4 = gradient_descent(x_train, y_train, alpha = 0.003, epoch = 1000, epsilon = 0)"
      ],
      "metadata": {
        "id": "DrHM50w3GAMv"
      },
      "execution_count": 18,
      "outputs": []
    },
    {
      "cell_type": "code",
      "source": [
        "fig = plt.figure(figsize=(10,7))\n",
        "fig.suptitle('Effect of different step sizes on training set')\n",
        "gs  = gridspec.GridSpec(2,2)\n",
        "a1 = plt.subplot(gs[0])\n",
        "a2 = plt.subplot(gs[1],sharex = a1, sharey = a1)\n",
        "a3 = plt.subplot(gs[2],sharex = a1, sharey = a1)\n",
        "a4 = plt.subplot(gs[3],sharex = a1, sharey = a1)\n",
        "\n",
        "x = list(range(1,1001))\n",
        "y1 = cost1\n",
        "a1.plot(x,y1)\n",
        "_ = a1.set_title('Using step size 0.1')\n",
        "\n",
        "y2 = cost2\n",
        "a2.plot(x,y2)\n",
        "_ = a2.set_title('Using step size 0.03')\n",
        "\n",
        "y3 = cost3\n",
        "a3.plot(x,y3)\n",
        "_ = a3.set_title('Using step size 0.01')\n",
        "\n",
        "y4 = cost4\n",
        "a4.plot(x,y4)\n",
        "_ = a4.set_title('Using step size 0.003')\n",
        "\n",
        "plt.show()"
      ],
      "metadata": {
        "id": "hOoWtExa4GFK",
        "colab": {
          "base_uri": "https://localhost:8080/",
          "height": 479
        },
        "outputId": "fff4c642-7a31-448d-f7fe-0d0539414f84"
      },
      "execution_count": 19,
      "outputs": [
        {
          "output_type": "display_data",
          "data": {
            "image/png": "[encoded data removed]",
            "text/plain": [
              "<Figure size 720x504 with 4 Axes>"
            ]
          },
          "metadata": {
            "needs_background": "light"
          }
        }
      ]
    },
    {
      "cell_type": "markdown",
      "source": [
        "#Task-5"
      ],
      "metadata": {
        "id": "k2W_jPBxRQl1"
      }
    },
    {
      "cell_type": "code",
      "source": [
        "model = LinearRegression().fit(x_train.T, y_train)\n",
        "model.coef_"
      ],
      "metadata": {
        "colab": {
          "base_uri": "https://localhost:8080/"
        },
        "id": "pv6wpts5O4ON",
        "outputId": "fadef7b1-98a5-48c0-ac39-93e67a0ecb7c"
      },
      "execution_count": 20,
      "outputs": [
        {
          "output_type": "execute_result",
          "data": {
            "text/plain": [
              "array([[-1.31597708e+01,  2.32377409e+00,  7.84907927e+02,\n",
              "        -2.38302039e-02,  8.14498569e+00,  2.23505250e+02,\n",
              "         1.03571471e+01,  1.38819774e+01, -7.84851924e+02,\n",
              "        -7.84854030e+02, -6.88350918e-02,  2.94759390e-03]])"
            ]
          },
          "metadata": {},
          "execution_count": 20
        }
      ]
    },
    {
      "cell_type": "code",
      "source": [
        "y_pred = model.predict(x_train.T)"
      ],
      "metadata": {
        "id": "gBl9QH9NR8m2"
      },
      "execution_count": 21,
      "outputs": []
    },
    {
      "cell_type": "code",
      "source": [
        "cost = mean_square_error(y_pred, y_train)\n",
        "print(cost)"
      ],
      "metadata": {
        "colab": {
          "base_uri": "https://localhost:8080/"
        },
        "id": "mHTfe4_UTisY",
        "outputId": "b8b714bb-c94e-4ed0-d476-a6b77712eeee"
      },
      "execution_count": 22,
      "outputs": [
        {
          "output_type": "stream",
          "name": "stdout",
          "text": [
            "0.0002293351374772889\n"
          ]
        }
      ]
    },
    {
      "cell_type": "code",
      "source": [
        "training_data = X_train.copy()\n",
        "training_data.insert(0,'price',Y_train)\n",
        "features = ['price','bedrooms', 'bathrooms', 'sqft_living', 'sqft_lot',\n",
        "       'floors', 'waterfront', 'view', 'condition', 'sqft_above',\n",
        "       'sqft_basement', 'yr_built', 'yr_renovated']\n",
        "mask = np.zeros_like(training_data[features].corr(), dtype=np.bool) \n",
        "mask[np.triu_indices_from(mask)] = True \n",
        "\n",
        "f, ax = plt.subplots(figsize=(10, 10))\n",
        "plt.title('Pearson Correlation Matrix',fontsize=25)\n",
        "\n",
        "sns.heatmap(training_data[features].corr(),linewidths=0.25,vmax=0.7,square=True,cmap=\"BuGn\", #\"BuGn_r\" to reverse \n",
        "            linecolor='w',annot=True,annot_kws={\"size\":8},mask=mask,cbar_kws={\"shrink\": .9});"
      ],
      "metadata": {
        "colab": {
          "base_uri": "https://localhost:8080/",
          "height": 583
        },
        "id": "UIJEZgpqosB2",
        "outputId": "81b660e2-6553-4d5f-9c08-af73daed7698"
      },
      "execution_count": 23,
      "outputs": [
        {
          "output_type": "display_data",
          "data": {
            "image/png": "[encoded data removed]",
            "text/plain": [
              "<Figure size 720x720 with 2 Axes>"
            ]
          },
          "metadata": {
            "needs_background": "light"
          }
        }
      ]
    },
    {
      "cell_type": "markdown",
      "source": [
        "From the matrix, we select the features that are highly correlated with the price but not correlated with each other.\n",
        "The features with high correlation with the price are *bedrooms, bathrooms, sqft_living, floors, waterfront, view, sqft_above, sqft_basement*. After removing the features correlated with each other, we have, *sqft_living, floors,view,waterfront*."
      ],
      "metadata": {
        "id": "DFbEtqForH_O"
      }
    },
    {
      "cell_type": "code",
      "source": [
        "selected_features = ['sqft_living', 'floors', 'view', 'waterfront']\n",
        "X_train_selected = X_train[selected_features]\n",
        "x_train_selected = np.array(X_train_selected)\n",
        "\n",
        "new_model = LinearRegression().fit(x_train_selected, y_train)\n",
        "y_pred_new = new_model.predict(x_train_selected)"
      ],
      "metadata": {
        "id": "jI-hQfs9pOFy"
      },
      "execution_count": 36,
      "outputs": []
    },
    {
      "cell_type": "code",
      "source": [
        "new_cost = mean_square_error(y_pred_new, y_train)\n",
        "print('The old MSE is:', cost)\n",
        "print('The new MSE is:', new_cost)\n",
        "if (new_cost<cost):\n",
        "  print('MSE value decreases after handpicking features.')\n",
        "else:\n",
        "  print(\"MSE value doesn't decrease after handpicking features.\")"
      ],
      "metadata": {
        "colab": {
          "base_uri": "https://localhost:8080/"
        },
        "id": "-4VZi8AGrqiN",
        "outputId": "41d1d1a6-d68d-4988-e234-011e37884186"
      },
      "execution_count": 37,
      "outputs": [
        {
          "output_type": "stream",
          "name": "stdout",
          "text": [
            "The old MSE is: 0.0002293351374772889\n",
            "The new MSE is: 0.0002134595454811767\n",
            "MSE value decreases after handpicking features.\n"
          ]
        }
      ]
    }
  ]
}