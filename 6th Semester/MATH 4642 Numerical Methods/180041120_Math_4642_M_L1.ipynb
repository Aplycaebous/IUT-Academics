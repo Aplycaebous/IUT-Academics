{
  "nbformat": 4,
  "nbformat_minor": 0,
  "metadata": {
    "colab": {
      "name": "Math_4642_M_L1.ipynb",
      "provenance": [],
      "collapsed_sections": []
    },
    "kernelspec": {
      "name": "python3",
      "display_name": "Python 3"
    },
    "language_info": {
      "name": "python"
    }
  },
  "cells": [
    {
      "cell_type": "markdown",
      "metadata": {
        "id": "SChhcgB_Tkv9"
      },
      "source": [
        "# **Lab 1 : Bisection Method**<br>\n",
        "\n",
        "The bisection method (also known as the binary search method) is a method of finding roots of a non-linear function. The assumption here is that the function is real continuous, otherwise the bisection method will not work. It is based on the **Intermediate Value Theorem** which states that if f(x) is a real continuous function, and if f(x<sub>l</sub>)f(x<sub>u</sub>)\\< 0 then there must be a root between x<sub>l</sub> and x<sub>u</sub>.\n",
        "\n",
        "In today's lab, we will be implementing the bisection method in python. We will be considering the function f(x) as an array of coefficients, for instance if we want to have f(x) = x<sup>3</sup>-2x<sup>2</sup>+4, then in python we will create an array as follows:\n"
      ]
    },
    {
      "cell_type": "code",
      "metadata": {
        "id": "rZ4tGQSjTvYF"
      },
      "source": [
        "f = [1,-2,0,1]"
      ],
      "execution_count": 74,
      "outputs": []
    },
    {
      "cell_type": "markdown",
      "metadata": {
        "id": "E4vSfOrrTwlc"
      },
      "source": [
        "Next, you will need to create a user-defined function as follows\n",
        "\n",
        "```\n",
        "bisection_method(f, xl, xu, epsilon)\n",
        "```\n",
        "This function will return the root of the equation represented by the array f and in case it does not reach the root exactly then it will return the close enough value to the root that has an absolute relative approximate error of at most epsilon (%).\n",
        "\n",
        "In python, functions are defined as follows"
      ]
    },
    {
      "cell_type": "code",
      "metadata": {
        "colab": {
          "base_uri": "https://localhost:8080/"
        },
        "id": "aUR8kbzqT0AM",
        "outputId": "0d6d883b-8763-4c68-9c1a-b7c3b08238eb"
      },
      "source": [
        "#Execute this cell to test how the function works\n",
        "\n",
        "def func(a,b):\n",
        "  result = a + b\n",
        "  return result\n",
        "\n",
        "print(func(1,2))"
      ],
      "execution_count": 75,
      "outputs": [
        {
          "output_type": "stream",
          "name": "stdout",
          "text": [
            "3\n"
          ]
        }
      ]
    },
    {
      "cell_type": "markdown",
      "metadata": {
        "id": "cCGekrFWT3Lc"
      },
      "source": [
        "Note that in python, we do not need to specify the data type for parameters nor any return type for the function as these are implicitly determined. Also, note the colon (:) after the function signature. Indentation matters in python, since the consecutive codes having same indentation will be considered as a single block."
      ]
    },
    {
      "cell_type": "markdown",
      "metadata": {
        "id": "3sOLCbqJT7q0"
      },
      "source": [
        "##Task 1\n",
        "Implement the function for bisection method following the requirements set earlier. Write a script after the function to call it and test whether it is working correctly."
      ]
    },
    {
      "cell_type": "code",
      "metadata": {
        "id": "mh2kpV4L-qtT"
      },
      "source": [
        "def calVal(x, coeff):\n",
        "  degree = len(coeff)\n",
        "  val = 0\n",
        "  for i in range(degree):\n",
        "    val += (coeff[i]*(pow(x,(degree-(i+1)))))\n",
        "  return val"
      ],
      "execution_count": 92,
      "outputs": []
    },
    {
      "cell_type": "code",
      "metadata": {
        "id": "MTA2b-Jg-qRk"
      },
      "source": [
        "def calError(xnew, xold):\n",
        "  val = abs(xnew - xold)\n",
        "  #val = val/xnew\n",
        "  #val = val*100.0\n",
        "  return val"
      ],
      "execution_count": 93,
      "outputs": []
    },
    {
      "cell_type": "code",
      "metadata": {
        "id": "f6HGUB7nT9k9",
        "outputId": "ba29bb8f-ebce-44c4-fd22-c2694c9037f9",
        "colab": {
          "base_uri": "https://localhost:8080/"
        }
      },
      "source": [
        "#Complete the following function\n",
        "\n",
        "midList = []\n",
        "iterList = []\n",
        "errorList = []\n",
        "\n",
        "def bisection_method(f, xl, xu, epsilon):\n",
        "  #write your implementation here\n",
        "  iter = 0\n",
        "  xm = (xl+xu)/2\n",
        "  midList.append(xm) \n",
        "  error = 1000\n",
        "  while error>epsilon: \n",
        "    iter += 1 \n",
        "    iterList.append(iter) \n",
        "    if calVal(xl,f)*calVal(xu,f)>0:\n",
        "      print(\"No Roots\")\n",
        "      return\n",
        "    if calVal(xl, f)*calVal(xm, f) == 0:\n",
        "      break\n",
        "    elif calVal(xl, f)*calVal(xm, f) < 0:\n",
        "      xu = xm\n",
        "    elif calVal(xl, f)*calVal(xm, f) > 0:\n",
        "      xl = xm\n",
        "    xmnew = (xl+xu)/2\n",
        "    error = calError(xmnew, xm)\n",
        "    errorList.append(error)\n",
        "    xm = xmnew\n",
        "    midList.append(xm)\n",
        "\n",
        "  return xm\n",
        "\n",
        "#Write a driver code here for calling the function and testing it\n",
        "print(bisection_method(f,-3,3,0.005))"
      ],
      "execution_count": 95,
      "outputs": [
        {
          "output_type": "stream",
          "name": "stdout",
          "text": [
            "-0.6181640625\n"
          ]
        }
      ]
    },
    {
      "cell_type": "markdown",
      "metadata": {
        "id": "5Jb9dNIqT_f8"
      },
      "source": [
        "We can plot graphs in python using the matplotlib library. An example of plotting graphs is shown here"
      ]
    },
    {
      "cell_type": "code",
      "metadata": {
        "colab": {
          "base_uri": "https://localhost:8080/",
          "height": 294
        },
        "id": "0XJwGIRjUCy7",
        "outputId": "35e8e617-97ec-4b16-daee-3971947afb24"
      },
      "source": [
        "import numpy as np\n",
        "import matplotlib.pyplot as plt\n",
        "\n",
        "iters = np.arange(0, 5) #start=0, stop=5, and since no step is given, so default step=1\n",
        "vals = np.arange(100, 200, 20) #start=100, stop=200, step=20\n",
        "\n",
        "plt.plot(iters, vals)\n",
        "plt.title(\"Iterations vs values plot\")\n",
        "plt.xlabel(\"Iteration\")\n",
        "plt.ylabel(\"Value\")\n",
        "plt.show()"
      ],
      "execution_count": 98,
      "outputs": [
        {
          "output_type": "display_data",
          "data": {
            "image/png": "[encoded data removed]",
            "text/plain": [
              "<Figure size 432x288 with 1 Axes>"
            ]
          },
          "metadata": {
            "needs_background": "light"
          }
        }
      ]
    },
    {
      "cell_type": "markdown",
      "metadata": {
        "id": "Z6sc0ZNUUGNk"
      },
      "source": [
        "## Task 2\n",
        "Generate a plot of **iteration vs relative approx error (%)** for the bisection method function you implemented earlier."
      ]
    },
    {
      "cell_type": "code",
      "metadata": {
        "id": "anDRniwaCyea",
        "outputId": "cec727c5-3cea-4c7d-a013-a3b10c216564",
        "colab": {
          "base_uri": "https://localhost:8080/",
          "height": 294
        }
      },
      "source": [
        "plt.plot(iterList, errorList)\n",
        "plt.title(\"Iterations vs Relative Approx Error\")\n",
        "plt.xlabel(\"Iterations\")\n",
        "plt.ylabel(\"Relative Approx Error\")\n",
        "plt.show()"
      ],
      "execution_count": 97,
      "outputs": [
        {
          "output_type": "display_data",
          "data": {
            "image/png": "[encoded data removed]",
            "text/plain": [
              "<Figure size 432x288 with 1 Axes>"
            ]
          },
          "metadata": {
            "needs_background": "light"
          }
        }
      ]
    },
    {
      "cell_type": "code",
      "metadata": {
        "id": "BeRh7cVfDyqq"
      },
      "source": [
        ""
      ],
      "execution_count": null,
      "outputs": []
    }
  ]
}